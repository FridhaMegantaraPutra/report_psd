{
 "cells": [
  {
   "cell_type": "code",
   "execution_count": 1,
   "metadata": {},
   "outputs": [],
   "source": [
    "import os\n",
    "\n",
    "# Ganti 'nama_folder' dengan nama folder yang ingin Anda masuki\n",
    "path = 'suara'\n",
    "\n",
    "# Gunakan metode `chdir` untuk berpindah ke folder tersebut\n",
    "os.chdir(path)\n",
    "\n",
    "# Sekarang Anda berada di dalam folder tersebut"
   ]
  },
  {
   "cell_type": "code",
   "execution_count": 2,
   "metadata": {
    "id": "7cnyeP6YJFLw"
   },
   "outputs": [],
   "source": [
    "folders=['YAF_sad','YAF_pleasant_surprised','YAF_neutral',\n",
    "         'YAF_happy','YAF_fear','YAF_disgust','YAF_angry',\n",
    "         'OAF_Sad','OAF_Pleasant_surprise','OAF_neutral',\n",
    "         'OAF_happy','OAF_Fear','OAF_disgust',\n",
    "         'OAF_angry',\n",
    "         ]"
   ]
  },
  {
   "cell_type": "code",
   "execution_count": 3,
   "metadata": {
    "id": "1IoLq3CrIvqT"
   },
   "outputs": [],
   "source": [
    "# Import Library\n",
    "import os\n",
    "import librosa\n",
    "import numpy as np\n",
    "import pandas as pd\n",
    "from scipy.stats import skew, kurtosis, mode\n",
    "import pickle\n",
    "from sklearn.svm import SVC\n",
    "from sklearn.metrics import accuracy_score\n",
    "from sklearn.preprocessing import StandardScaler\n",
    "from sklearn.model_selection import train_test_split"
   ]
  },
  {
   "cell_type": "code",
   "execution_count": 4,
   "metadata": {
    "id": "3UvuFfxiIxZ0"
   },
   "outputs": [],
   "source": [
    "def calculate_statistics(audio_path):\n",
    "    y, sr = librosa.load(audio_path)\n",
    "\n",
    "    # UNTUK MENGHITUNG NILAI STATISTIKA\n",
    "    mean = np.mean(y)\n",
    "    std_dev = np.std(y)\n",
    "    max_value = np.max(y)\n",
    "    min_value = np.min(y)\n",
    "    median = np.median(y)\n",
    "    skewness = skew(y)  # Calculate skewness\n",
    "    kurt = kurtosis(y)  # Calculate kurtosis\n",
    "    q1 = np.percentile(y, 25)\n",
    "    q3 = np.percentile(y, 75)\n",
    "    mode_value, _ = mode(y)  # Calculate mode\n",
    "    iqr = q3 - q1\n",
    "\n",
    "    # UNTUK MENGHITUNG NILAI ZCR\n",
    "    zcr_mean = np.mean(librosa.feature.zero_crossing_rate(y=y))\n",
    "    zcr_median = np.median(librosa.feature.zero_crossing_rate(y=y))\n",
    "    zcr_std_dev = np.std(librosa.feature.zero_crossing_rate(y=y))\n",
    "    zcr_kurtosis = kurtosis(librosa.feature.zero_crossing_rate(y=y)[0])\n",
    "    zcr_skew = skew(librosa.feature.zero_crossing_rate(y=y)[0])\n",
    "\n",
    "\n",
    "\n",
    "    return [zcr_mean, zcr_median, zcr_std_dev, zcr_kurtosis, zcr_skew]"
   ]
  },
  {
   "cell_type": "code",
   "execution_count": 5,
   "metadata": {
    "id": "0wJlTo7kNEEd"
   },
   "outputs": [],
   "source": [
    "features =[]"
   ]
  },
  {
   "cell_type": "code",
   "execution_count": 6,
   "metadata": {
    "id": "8F5zTZk1NFGe"
   },
   "outputs": [
    {
     "ename": "KeyboardInterrupt",
     "evalue": "",
     "output_type": "error",
     "traceback": [
      "\u001b[1;31m---------------------------------------------------------------------------\u001b[0m",
      "\u001b[1;31mKeyboardInterrupt\u001b[0m                         Traceback (most recent call last)",
      "Cell \u001b[1;32mIn[6], line 6\u001b[0m\n\u001b[0;32m      4\u001b[0m \u001b[38;5;28;01mif\u001b[39;00m filename\u001b[38;5;241m.\u001b[39mendswith(\u001b[38;5;124m'\u001b[39m\u001b[38;5;124m.wav\u001b[39m\u001b[38;5;124m'\u001b[39m):\n\u001b[0;32m      5\u001b[0m     audio_path \u001b[38;5;241m=\u001b[39m os\u001b[38;5;241m.\u001b[39mpath\u001b[38;5;241m.\u001b[39mjoin(folder_path, filename)\n\u001b[1;32m----> 6\u001b[0m     statistics \u001b[38;5;241m=\u001b[39m \u001b[43mcalculate_statistics\u001b[49m\u001b[43m(\u001b[49m\u001b[43maudio_path\u001b[49m\u001b[43m)\u001b[49m\n\u001b[0;32m      7\u001b[0m     features\u001b[38;5;241m.\u001b[39mappend([folder, filename] \u001b[38;5;241m+\u001b[39m statistics)\n",
      "Cell \u001b[1;32mIn[4], line 2\u001b[0m, in \u001b[0;36mcalculate_statistics\u001b[1;34m(audio_path)\u001b[0m\n\u001b[0;32m      1\u001b[0m \u001b[38;5;28;01mdef\u001b[39;00m \u001b[38;5;21mcalculate_statistics\u001b[39m(audio_path):\n\u001b[1;32m----> 2\u001b[0m     y, sr \u001b[38;5;241m=\u001b[39m \u001b[43mlibrosa\u001b[49m\u001b[38;5;241;43m.\u001b[39;49m\u001b[43mload\u001b[49m\u001b[43m(\u001b[49m\u001b[43maudio_path\u001b[49m\u001b[43m)\u001b[49m\n\u001b[0;32m      4\u001b[0m     \u001b[38;5;66;03m# UNTUK MENGHITUNG NILAI STATISTIKA\u001b[39;00m\n\u001b[0;32m      5\u001b[0m     mean \u001b[38;5;241m=\u001b[39m np\u001b[38;5;241m.\u001b[39mmean(y)\n",
      "File \u001b[1;32m~\\AppData\\Local\\Programs\\Python\\Python310\\lib\\site-packages\\librosa\\core\\audio.py:175\u001b[0m, in \u001b[0;36mload\u001b[1;34m(path, sr, mono, offset, duration, dtype, res_type)\u001b[0m\n\u001b[0;32m    172\u001b[0m \u001b[38;5;28;01melse\u001b[39;00m:\n\u001b[0;32m    173\u001b[0m     \u001b[38;5;66;03m# Otherwise try soundfile first, and then fall back if necessary\u001b[39;00m\n\u001b[0;32m    174\u001b[0m     \u001b[38;5;28;01mtry\u001b[39;00m:\n\u001b[1;32m--> 175\u001b[0m         y, sr_native \u001b[38;5;241m=\u001b[39m \u001b[43m__soundfile_load\u001b[49m\u001b[43m(\u001b[49m\u001b[43mpath\u001b[49m\u001b[43m,\u001b[49m\u001b[43m \u001b[49m\u001b[43moffset\u001b[49m\u001b[43m,\u001b[49m\u001b[43m \u001b[49m\u001b[43mduration\u001b[49m\u001b[43m,\u001b[49m\u001b[43m \u001b[49m\u001b[43mdtype\u001b[49m\u001b[43m)\u001b[49m\n\u001b[0;32m    177\u001b[0m     \u001b[38;5;28;01mexcept\u001b[39;00m sf\u001b[38;5;241m.\u001b[39mSoundFileRuntimeError \u001b[38;5;28;01mas\u001b[39;00m exc:\n\u001b[0;32m    178\u001b[0m         \u001b[38;5;66;03m# If soundfile failed, try audioread instead\u001b[39;00m\n\u001b[0;32m    179\u001b[0m         \u001b[38;5;28;01mif\u001b[39;00m \u001b[38;5;28misinstance\u001b[39m(path, (\u001b[38;5;28mstr\u001b[39m, pathlib\u001b[38;5;241m.\u001b[39mPurePath)):\n",
      "File \u001b[1;32m~\\AppData\\Local\\Programs\\Python\\Python310\\lib\\site-packages\\librosa\\core\\audio.py:208\u001b[0m, in \u001b[0;36m__soundfile_load\u001b[1;34m(path, offset, duration, dtype)\u001b[0m\n\u001b[0;32m    205\u001b[0m     context \u001b[38;5;241m=\u001b[39m path\n\u001b[0;32m    206\u001b[0m \u001b[38;5;28;01melse\u001b[39;00m:\n\u001b[0;32m    207\u001b[0m     \u001b[38;5;66;03m# Otherwise, create the soundfile object\u001b[39;00m\n\u001b[1;32m--> 208\u001b[0m     context \u001b[38;5;241m=\u001b[39m \u001b[43msf\u001b[49m\u001b[38;5;241;43m.\u001b[39;49m\u001b[43mSoundFile\u001b[49m\u001b[43m(\u001b[49m\u001b[43mpath\u001b[49m\u001b[43m)\u001b[49m\n\u001b[0;32m    210\u001b[0m \u001b[38;5;28;01mwith\u001b[39;00m context \u001b[38;5;28;01mas\u001b[39;00m sf_desc:\n\u001b[0;32m    211\u001b[0m     sr_native \u001b[38;5;241m=\u001b[39m sf_desc\u001b[38;5;241m.\u001b[39msamplerate\n",
      "File \u001b[1;32m~\\AppData\\Local\\Programs\\Python\\Python310\\lib\\site-packages\\soundfile.py:658\u001b[0m, in \u001b[0;36mSoundFile.__init__\u001b[1;34m(self, file, mode, samplerate, channels, subtype, endian, format, closefd)\u001b[0m\n\u001b[0;32m    655\u001b[0m \u001b[38;5;28mself\u001b[39m\u001b[38;5;241m.\u001b[39m_mode \u001b[38;5;241m=\u001b[39m mode\n\u001b[0;32m    656\u001b[0m \u001b[38;5;28mself\u001b[39m\u001b[38;5;241m.\u001b[39m_info \u001b[38;5;241m=\u001b[39m _create_info_struct(file, mode, samplerate, channels,\n\u001b[0;32m    657\u001b[0m                                  \u001b[38;5;28mformat\u001b[39m, subtype, endian)\n\u001b[1;32m--> 658\u001b[0m \u001b[38;5;28mself\u001b[39m\u001b[38;5;241m.\u001b[39m_file \u001b[38;5;241m=\u001b[39m \u001b[38;5;28;43mself\u001b[39;49m\u001b[38;5;241;43m.\u001b[39;49m\u001b[43m_open\u001b[49m\u001b[43m(\u001b[49m\u001b[43mfile\u001b[49m\u001b[43m,\u001b[49m\u001b[43m \u001b[49m\u001b[43mmode_int\u001b[49m\u001b[43m,\u001b[49m\u001b[43m \u001b[49m\u001b[43mclosefd\u001b[49m\u001b[43m)\u001b[49m\n\u001b[0;32m    659\u001b[0m \u001b[38;5;28;01mif\u001b[39;00m \u001b[38;5;28mset\u001b[39m(mode)\u001b[38;5;241m.\u001b[39missuperset(\u001b[38;5;124m'\u001b[39m\u001b[38;5;124mr+\u001b[39m\u001b[38;5;124m'\u001b[39m) \u001b[38;5;129;01mand\u001b[39;00m \u001b[38;5;28mself\u001b[39m\u001b[38;5;241m.\u001b[39mseekable():\n\u001b[0;32m    660\u001b[0m     \u001b[38;5;66;03m# Move write position to 0 (like in Python file objects)\u001b[39;00m\n\u001b[0;32m    661\u001b[0m     \u001b[38;5;28mself\u001b[39m\u001b[38;5;241m.\u001b[39mseek(\u001b[38;5;241m0\u001b[39m)\n",
      "File \u001b[1;32m~\\AppData\\Local\\Programs\\Python\\Python310\\lib\\site-packages\\soundfile.py:1205\u001b[0m, in \u001b[0;36mSoundFile._open\u001b[1;34m(self, file, mode_int, closefd)\u001b[0m\n\u001b[0;32m   1203\u001b[0m         \u001b[38;5;28;01melse\u001b[39;00m:\n\u001b[0;32m   1204\u001b[0m             file \u001b[38;5;241m=\u001b[39m file\u001b[38;5;241m.\u001b[39mencode(_sys\u001b[38;5;241m.\u001b[39mgetfilesystemencoding())\n\u001b[1;32m-> 1205\u001b[0m     file_ptr \u001b[38;5;241m=\u001b[39m \u001b[43mopenfunction\u001b[49m\u001b[43m(\u001b[49m\u001b[43mfile\u001b[49m\u001b[43m,\u001b[49m\u001b[43m \u001b[49m\u001b[43mmode_int\u001b[49m\u001b[43m,\u001b[49m\u001b[43m \u001b[49m\u001b[38;5;28;43mself\u001b[39;49m\u001b[38;5;241;43m.\u001b[39;49m\u001b[43m_info\u001b[49m\u001b[43m)\u001b[49m\n\u001b[0;32m   1206\u001b[0m \u001b[38;5;28;01melif\u001b[39;00m \u001b[38;5;28misinstance\u001b[39m(file, \u001b[38;5;28mint\u001b[39m):\n\u001b[0;32m   1207\u001b[0m     file_ptr \u001b[38;5;241m=\u001b[39m _snd\u001b[38;5;241m.\u001b[39msf_open_fd(file, mode_int, \u001b[38;5;28mself\u001b[39m\u001b[38;5;241m.\u001b[39m_info, closefd)\n",
      "\u001b[1;31mKeyboardInterrupt\u001b[0m: "
     ]
    }
   ],
   "source": [
    "for folder in folders:\n",
    "    folder_path = f'{folder}'\n",
    "    for filename in os.listdir(folder_path):\n",
    "        if filename.endswith('.wav'):\n",
    "            audio_path = os.path.join(folder_path, filename)\n",
    "            statistics = calculate_statistics(audio_path)\n",
    "            features.append([folder, filename] + statistics)"
   ]
  },
  {
   "cell_type": "code",
   "execution_count": 7,
   "metadata": {
    "id": "Kn6_bbxXOTcQ"
   },
   "outputs": [],
   "source": [
    "# Membuat DataFrame dari data\n",
    "columns =  ['Label', 'File'] + ['ZCR Mean', 'ZCR Median', 'ZCR Std Dev', 'ZCR Kurtosis', 'ZCR Skew']\n",
    "df = pd.DataFrame(features, columns=columns)"
   ]
  },
  {
   "cell_type": "code",
   "execution_count": 8,
   "metadata": {
    "colab": {
     "base_uri": "https://localhost:8080/",
     "height": 424
    },
    "id": "RkLvmkojOXDi",
    "outputId": "c7ea96a2-7458-439d-e83e-1be15cfd2003"
   },
   "outputs": [
    {
     "data": {
      "text/html": [
       "<div>\n",
       "<style scoped>\n",
       "    .dataframe tbody tr th:only-of-type {\n",
       "        vertical-align: middle;\n",
       "    }\n",
       "\n",
       "    .dataframe tbody tr th {\n",
       "        vertical-align: top;\n",
       "    }\n",
       "\n",
       "    .dataframe thead th {\n",
       "        text-align: right;\n",
       "    }\n",
       "</style>\n",
       "<table border=\"1\" class=\"dataframe\">\n",
       "  <thead>\n",
       "    <tr style=\"text-align: right;\">\n",
       "      <th></th>\n",
       "      <th>Label</th>\n",
       "      <th>File</th>\n",
       "      <th>ZCR Mean</th>\n",
       "      <th>ZCR Median</th>\n",
       "      <th>ZCR Std Dev</th>\n",
       "      <th>ZCR Kurtosis</th>\n",
       "      <th>ZCR Skew</th>\n",
       "    </tr>\n",
       "  </thead>\n",
       "  <tbody>\n",
       "    <tr>\n",
       "      <th>0</th>\n",
       "      <td>YAF_sad</td>\n",
       "      <td>YAF_back_sad.wav</td>\n",
       "      <td>0.128581</td>\n",
       "      <td>0.033203</td>\n",
       "      <td>0.225249</td>\n",
       "      <td>3.231511</td>\n",
       "      <td>2.213080</td>\n",
       "    </tr>\n",
       "    <tr>\n",
       "      <th>1</th>\n",
       "      <td>YAF_sad</td>\n",
       "      <td>YAF_bar_sad.wav</td>\n",
       "      <td>0.111230</td>\n",
       "      <td>0.036133</td>\n",
       "      <td>0.196220</td>\n",
       "      <td>5.189765</td>\n",
       "      <td>2.569729</td>\n",
       "    </tr>\n",
       "    <tr>\n",
       "      <th>2</th>\n",
       "      <td>YAF_sad</td>\n",
       "      <td>YAF_base_sad.wav</td>\n",
       "      <td>0.196274</td>\n",
       "      <td>0.042480</td>\n",
       "      <td>0.259866</td>\n",
       "      <td>-0.207301</td>\n",
       "      <td>1.226778</td>\n",
       "    </tr>\n",
       "    <tr>\n",
       "      <th>3</th>\n",
       "      <td>YAF_sad</td>\n",
       "      <td>YAF_bath_sad.wav</td>\n",
       "      <td>0.145458</td>\n",
       "      <td>0.039062</td>\n",
       "      <td>0.222568</td>\n",
       "      <td>2.644984</td>\n",
       "      <td>1.998682</td>\n",
       "    </tr>\n",
       "    <tr>\n",
       "      <th>4</th>\n",
       "      <td>YAF_sad</td>\n",
       "      <td>YAF_bean_sad.wav</td>\n",
       "      <td>0.105494</td>\n",
       "      <td>0.035156</td>\n",
       "      <td>0.194269</td>\n",
       "      <td>5.715395</td>\n",
       "      <td>2.682275</td>\n",
       "    </tr>\n",
       "    <tr>\n",
       "      <th>...</th>\n",
       "      <td>...</td>\n",
       "      <td>...</td>\n",
       "      <td>...</td>\n",
       "      <td>...</td>\n",
       "      <td>...</td>\n",
       "      <td>...</td>\n",
       "      <td>...</td>\n",
       "    </tr>\n",
       "    <tr>\n",
       "      <th>2795</th>\n",
       "      <td>OAF_angry</td>\n",
       "      <td>OAF_witch_angry.wav</td>\n",
       "      <td>0.095215</td>\n",
       "      <td>0.070801</td>\n",
       "      <td>0.084418</td>\n",
       "      <td>2.776079</td>\n",
       "      <td>1.733152</td>\n",
       "    </tr>\n",
       "    <tr>\n",
       "      <th>2796</th>\n",
       "      <td>OAF_angry</td>\n",
       "      <td>OAF_yearn_angry.wav</td>\n",
       "      <td>0.083991</td>\n",
       "      <td>0.051270</td>\n",
       "      <td>0.091742</td>\n",
       "      <td>7.208814</td>\n",
       "      <td>2.744011</td>\n",
       "    </tr>\n",
       "    <tr>\n",
       "      <th>2797</th>\n",
       "      <td>OAF_angry</td>\n",
       "      <td>OAF_yes_angry.wav</td>\n",
       "      <td>0.115001</td>\n",
       "      <td>0.060059</td>\n",
       "      <td>0.118703</td>\n",
       "      <td>3.370580</td>\n",
       "      <td>2.012270</td>\n",
       "    </tr>\n",
       "    <tr>\n",
       "      <th>2798</th>\n",
       "      <td>OAF_angry</td>\n",
       "      <td>OAF_young_angry.wav</td>\n",
       "      <td>0.085005</td>\n",
       "      <td>0.059082</td>\n",
       "      <td>0.090037</td>\n",
       "      <td>5.366187</td>\n",
       "      <td>2.422199</td>\n",
       "    </tr>\n",
       "    <tr>\n",
       "      <th>2799</th>\n",
       "      <td>OAF_angry</td>\n",
       "      <td>OAF_youth_angry.wav</td>\n",
       "      <td>0.074580</td>\n",
       "      <td>0.048340</td>\n",
       "      <td>0.098578</td>\n",
       "      <td>7.797457</td>\n",
       "      <td>2.908089</td>\n",
       "    </tr>\n",
       "  </tbody>\n",
       "</table>\n",
       "<p>2800 rows × 7 columns</p>\n",
       "</div>"
      ],
      "text/plain": [
       "          Label                 File  ZCR Mean  ZCR Median  ZCR Std Dev  \\\n",
       "0       YAF_sad     YAF_back_sad.wav  0.128581    0.033203     0.225249   \n",
       "1       YAF_sad      YAF_bar_sad.wav  0.111230    0.036133     0.196220   \n",
       "2       YAF_sad     YAF_base_sad.wav  0.196274    0.042480     0.259866   \n",
       "3       YAF_sad     YAF_bath_sad.wav  0.145458    0.039062     0.222568   \n",
       "4       YAF_sad     YAF_bean_sad.wav  0.105494    0.035156     0.194269   \n",
       "...         ...                  ...       ...         ...          ...   \n",
       "2795  OAF_angry  OAF_witch_angry.wav  0.095215    0.070801     0.084418   \n",
       "2796  OAF_angry  OAF_yearn_angry.wav  0.083991    0.051270     0.091742   \n",
       "2797  OAF_angry    OAF_yes_angry.wav  0.115001    0.060059     0.118703   \n",
       "2798  OAF_angry  OAF_young_angry.wav  0.085005    0.059082     0.090037   \n",
       "2799  OAF_angry  OAF_youth_angry.wav  0.074580    0.048340     0.098578   \n",
       "\n",
       "      ZCR Kurtosis  ZCR Skew  \n",
       "0         3.231511  2.213080  \n",
       "1         5.189765  2.569729  \n",
       "2        -0.207301  1.226778  \n",
       "3         2.644984  1.998682  \n",
       "4         5.715395  2.682275  \n",
       "...            ...       ...  \n",
       "2795      2.776079  1.733152  \n",
       "2796      7.208814  2.744011  \n",
       "2797      3.370580  2.012270  \n",
       "2798      5.366187  2.422199  \n",
       "2799      7.797457  2.908089  \n",
       "\n",
       "[2800 rows x 7 columns]"
      ]
     },
     "execution_count": 8,
     "metadata": {},
     "output_type": "execute_result"
    }
   ],
   "source": [
    "# Menampilkan file CSV\n",
    "df"
   ]
  },
  {
   "cell_type": "code",
   "execution_count": 9,
   "metadata": {
    "id": "-5U2IFl1OYtA"
   },
   "outputs": [],
   "source": [
    "df.to_csv('emosi_5_fitur.csv',index=False)"
   ]
  },
  {
   "cell_type": "code",
   "execution_count": 10,
   "metadata": {
    "id": "yz51emzFOgod"
   },
   "outputs": [],
   "source": [
    "from sklearn.preprocessing import StandardScaler\n",
    "# Baca file CSV\n",
    "dn = pd.read_csv(\"emosi_5_fitur.csv\")\n",
    "# Tentukan kolom yang akan distandarisasi\n",
    "kolom = ['ZCR Mean', 'ZCR Median', 'ZCR Std Dev', 'ZCR Kurtosis', 'ZCR Skew']\n",
    "# Inisialisasi StandardScaler\n",
    "scaler = StandardScaler()\n",
    "# Lakukan standarisasi pada kolom yang telah ditentukan\n",
    "dn[kolom] = scaler.fit_transform(dn[kolom])\n",
    "# Simpan DataFrame yang telah distandarisasi ke dalam file CSV baru\n",
    "dn.to_csv(\"emosi2normalisasi.csv\", index=False)\n"
   ]
  },
  {
   "cell_type": "code",
   "execution_count": 11,
   "metadata": {
    "colab": {
     "base_uri": "https://localhost:8080/",
     "height": 424
    },
    "id": "HkIvSnAPOjYP",
    "outputId": "8ae99c32-aafe-4b4e-ef98-d84fe9c32720"
   },
   "outputs": [
    {
     "data": {
      "text/html": [
       "<div>\n",
       "<style scoped>\n",
       "    .dataframe tbody tr th:only-of-type {\n",
       "        vertical-align: middle;\n",
       "    }\n",
       "\n",
       "    .dataframe tbody tr th {\n",
       "        vertical-align: top;\n",
       "    }\n",
       "\n",
       "    .dataframe thead th {\n",
       "        text-align: right;\n",
       "    }\n",
       "</style>\n",
       "<table border=\"1\" class=\"dataframe\">\n",
       "  <thead>\n",
       "    <tr style=\"text-align: right;\">\n",
       "      <th></th>\n",
       "      <th>Label</th>\n",
       "      <th>File</th>\n",
       "      <th>ZCR Mean</th>\n",
       "      <th>ZCR Median</th>\n",
       "      <th>ZCR Std Dev</th>\n",
       "      <th>ZCR Kurtosis</th>\n",
       "      <th>ZCR Skew</th>\n",
       "    </tr>\n",
       "  </thead>\n",
       "  <tbody>\n",
       "    <tr>\n",
       "      <th>0</th>\n",
       "      <td>YAF_sad</td>\n",
       "      <td>YAF_back_sad.wav</td>\n",
       "      <td>-0.321317</td>\n",
       "      <td>-1.052521</td>\n",
       "      <td>0.940845</td>\n",
       "      <td>0.204442</td>\n",
       "      <td>0.495211</td>\n",
       "    </tr>\n",
       "    <tr>\n",
       "      <th>1</th>\n",
       "      <td>YAF_sad</td>\n",
       "      <td>YAF_bar_sad.wav</td>\n",
       "      <td>-0.643634</td>\n",
       "      <td>-0.962423</td>\n",
       "      <td>0.324040</td>\n",
       "      <td>1.185171</td>\n",
       "      <td>1.219225</td>\n",
       "    </tr>\n",
       "    <tr>\n",
       "      <th>2</th>\n",
       "      <td>YAF_sad</td>\n",
       "      <td>YAF_base_sad.wav</td>\n",
       "      <td>0.936230</td>\n",
       "      <td>-0.767212</td>\n",
       "      <td>1.676354</td>\n",
       "      <td>-1.517779</td>\n",
       "      <td>-1.507027</td>\n",
       "    </tr>\n",
       "    <tr>\n",
       "      <th>3</th>\n",
       "      <td>YAF_sad</td>\n",
       "      <td>YAF_bath_sad.wav</td>\n",
       "      <td>-0.007778</td>\n",
       "      <td>-0.872326</td>\n",
       "      <td>0.883874</td>\n",
       "      <td>-0.089302</td>\n",
       "      <td>0.059975</td>\n",
       "    </tr>\n",
       "    <tr>\n",
       "      <th>4</th>\n",
       "      <td>YAF_sad</td>\n",
       "      <td>YAF_bean_sad.wav</td>\n",
       "      <td>-0.750198</td>\n",
       "      <td>-0.992456</td>\n",
       "      <td>0.282586</td>\n",
       "      <td>1.448416</td>\n",
       "      <td>1.447698</td>\n",
       "    </tr>\n",
       "    <tr>\n",
       "      <th>...</th>\n",
       "      <td>...</td>\n",
       "      <td>...</td>\n",
       "      <td>...</td>\n",
       "      <td>...</td>\n",
       "      <td>...</td>\n",
       "      <td>...</td>\n",
       "      <td>...</td>\n",
       "    </tr>\n",
       "    <tr>\n",
       "      <th>2795</th>\n",
       "      <td>OAF_angry</td>\n",
       "      <td>OAF_witch_angry.wav</td>\n",
       "      <td>-0.941158</td>\n",
       "      <td>0.103730</td>\n",
       "      <td>-2.051468</td>\n",
       "      <td>-0.023647</td>\n",
       "      <td>-0.479064</td>\n",
       "    </tr>\n",
       "    <tr>\n",
       "      <th>2796</th>\n",
       "      <td>OAF_angry</td>\n",
       "      <td>OAF_yearn_angry.wav</td>\n",
       "      <td>-1.149659</td>\n",
       "      <td>-0.496920</td>\n",
       "      <td>-1.895834</td>\n",
       "      <td>2.196348</td>\n",
       "      <td>1.573026</td>\n",
       "    </tr>\n",
       "    <tr>\n",
       "      <th>2797</th>\n",
       "      <td>OAF_angry</td>\n",
       "      <td>OAF_yes_angry.wav</td>\n",
       "      <td>-0.573586</td>\n",
       "      <td>-0.226627</td>\n",
       "      <td>-1.322985</td>\n",
       "      <td>0.274090</td>\n",
       "      <td>0.087558</td>\n",
       "    </tr>\n",
       "    <tr>\n",
       "      <th>2798</th>\n",
       "      <td>OAF_angry</td>\n",
       "      <td>OAF_young_angry.wav</td>\n",
       "      <td>-1.130833</td>\n",
       "      <td>-0.256660</td>\n",
       "      <td>-1.932072</td>\n",
       "      <td>1.273526</td>\n",
       "      <td>0.919734</td>\n",
       "    </tr>\n",
       "    <tr>\n",
       "      <th>2799</th>\n",
       "      <td>OAF_angry</td>\n",
       "      <td>OAF_youth_angry.wav</td>\n",
       "      <td>-1.324499</td>\n",
       "      <td>-0.587017</td>\n",
       "      <td>-1.750587</td>\n",
       "      <td>2.491151</td>\n",
       "      <td>1.906111</td>\n",
       "    </tr>\n",
       "  </tbody>\n",
       "</table>\n",
       "<p>2800 rows × 7 columns</p>\n",
       "</div>"
      ],
      "text/plain": [
       "          Label                 File  ZCR Mean  ZCR Median  ZCR Std Dev  \\\n",
       "0       YAF_sad     YAF_back_sad.wav -0.321317   -1.052521     0.940845   \n",
       "1       YAF_sad      YAF_bar_sad.wav -0.643634   -0.962423     0.324040   \n",
       "2       YAF_sad     YAF_base_sad.wav  0.936230   -0.767212     1.676354   \n",
       "3       YAF_sad     YAF_bath_sad.wav -0.007778   -0.872326     0.883874   \n",
       "4       YAF_sad     YAF_bean_sad.wav -0.750198   -0.992456     0.282586   \n",
       "...         ...                  ...       ...         ...          ...   \n",
       "2795  OAF_angry  OAF_witch_angry.wav -0.941158    0.103730    -2.051468   \n",
       "2796  OAF_angry  OAF_yearn_angry.wav -1.149659   -0.496920    -1.895834   \n",
       "2797  OAF_angry    OAF_yes_angry.wav -0.573586   -0.226627    -1.322985   \n",
       "2798  OAF_angry  OAF_young_angry.wav -1.130833   -0.256660    -1.932072   \n",
       "2799  OAF_angry  OAF_youth_angry.wav -1.324499   -0.587017    -1.750587   \n",
       "\n",
       "      ZCR Kurtosis  ZCR Skew  \n",
       "0         0.204442  0.495211  \n",
       "1         1.185171  1.219225  \n",
       "2        -1.517779 -1.507027  \n",
       "3        -0.089302  0.059975  \n",
       "4         1.448416  1.447698  \n",
       "...            ...       ...  \n",
       "2795     -0.023647 -0.479064  \n",
       "2796      2.196348  1.573026  \n",
       "2797      0.274090  0.087558  \n",
       "2798      1.273526  0.919734  \n",
       "2799      2.491151  1.906111  \n",
       "\n",
       "[2800 rows x 7 columns]"
      ]
     },
     "execution_count": 11,
     "metadata": {},
     "output_type": "execute_result"
    }
   ],
   "source": [
    "norm=pd.read_csv('emosi2normalisasi.csv')\n",
    "norm"
   ]
  },
  {
   "cell_type": "code",
   "execution_count": 12,
   "metadata": {
    "colab": {
     "base_uri": "https://localhost:8080/"
    },
    "id": "hy1DVx3MOnQc",
    "outputId": "009c8195-5bff-4bf6-c1c0-9e5087719721"
   },
   "outputs": [
    {
     "name": "stdout",
     "output_type": "stream",
     "text": [
      "--MEAN--\n",
      "ZCR Mean        0.0\n",
      "ZCR Median      0.0\n",
      "ZCR Std Dev    -0.0\n",
      "ZCR Kurtosis    0.0\n",
      "ZCR Skew       -0.0\n",
      "dtype: float64\n"
     ]
    }
   ],
   "source": [
    "# Daftar kolom yang ingin dilewati\n",
    "kolomlabel= ['Label','File',]\n",
    "# Menghitung rata-rata untuk kolom numerik tertentu (mengabaikan kolom yang tidak diinginkan)\n",
    "rata2= norm.drop(columns=kolomlabel).mean()\n",
    "#membulatkan hasil komputasi dengan round dengan ketentuan 2 setelah koma, biar ga panjang bestiiiiiii\n",
    "dibulatkan=rata2.round(2)\n",
    "# Menampilkan rata-rata\n",
    "print('--MEAN--')\n",
    "print(dibulatkan)\n"
   ]
  },
  {
   "cell_type": "code",
   "execution_count": 13,
   "metadata": {
    "colab": {
     "base_uri": "https://localhost:8080/"
    },
    "id": "sMnYFTreOptL",
    "outputId": "5aa218cf-d695-4ba0-f7b9-b1bb6875698b"
   },
   "outputs": [
    {
     "name": "stdout",
     "output_type": "stream",
     "text": [
      "--STANDARD DEVIASI--\n",
      "ZCR Mean        1.0\n",
      "ZCR Median      1.0\n",
      "ZCR Std Dev     1.0\n",
      "ZCR Kurtosis    1.0\n",
      "ZCR Skew        1.0\n",
      "dtype: float64\n"
     ]
    }
   ],
   "source": [
    "# Daftar kolom yang ingin dilewati\n",
    "kolomlabel= ['Label','File']\n",
    "# Menghitung rata-rata untuk kolom numerik tertentu (mengabaikan kolom yang tidak diinginkan)\n",
    "standv= norm.drop(columns=kolomlabel).std()\n",
    "#membulatkan hasil komputasi dengan round dengan ketentuan 2 setelah koma, biar ga panjang bestiiiiiii\n",
    "bulatkan=standv.round(2)\n",
    "# Menampilkan rata-rata\n",
    "print('--STANDARD DEVIASI--')\n",
    "print(bulatkan)\n"
   ]
  },
  {
   "cell_type": "code",
   "execution_count": 14,
   "metadata": {
    "id": "WbKO-lDiOsDs"
   },
   "outputs": [],
   "source": [
    "from sklearn.model_selection import train_test_split\n",
    "from sklearn.preprocessing import StandardScaler\n",
    "from sklearn.neighbors import KNeighborsClassifier\n",
    "from pickle import dump"
   ]
  },
  {
   "cell_type": "code",
   "execution_count": 15,
   "metadata": {
    "id": "rGEmNDC2Outs"
   },
   "outputs": [
    {
     "name": "stdout",
     "output_type": "stream",
     "text": [
      "      ZCR Mean  ZCR Median  ZCR Std Dev  ZCR Kurtosis  ZCR Skew\n",
      "0    -0.321317   -1.052521     0.940845      0.204442  0.495211\n",
      "1    -0.643634   -0.962423     0.324040      1.185171  1.219225\n",
      "2     0.936230   -0.767212     1.676354     -1.517779 -1.507027\n",
      "3    -0.007778   -0.872326     0.883874     -0.089302  0.059975\n",
      "4    -0.750198   -0.992456     0.282586      1.448416  1.447698\n",
      "...        ...         ...          ...           ...       ...\n",
      "2795 -0.941158    0.103730    -2.051468     -0.023647 -0.479064\n",
      "2796 -1.149659   -0.496920    -1.895834      2.196348  1.573026\n",
      "2797 -0.573586   -0.226627    -1.322985      0.274090  0.087558\n",
      "2798 -1.130833   -0.256660    -1.932072      1.273526  0.919734\n",
      "2799 -1.324499   -0.587017    -1.750587      2.491151  1.906111\n",
      "\n",
      "[2800 rows x 5 columns]\n"
     ]
    }
   ],
   "source": [
    "# Baca data dari file CSV\n",
    "dataknn= pd.read_csv('emosi2normalisasi.csv')\n",
    "# Pisahkan fitur (X) dan label (y)\n",
    "X = dataknn.drop(['Label','File'], axis=1)  # Ganti 'target_column' dengan nama kolom target\n",
    "y = dataknn['Label']\n",
    "# split data into train and test sets\n",
    "print(X)\n"
   ]
  },
  {
   "cell_type": "code",
   "execution_count": 16,
   "metadata": {},
   "outputs": [],
   "source": [
    "X_train,X_test,y_train, y_test= train_test_split(X, y, random_state=1, test_size=0.2)\n",
    "# define scaler\n",
    "scaler = StandardScaler()\n",
    "# fit scaler on the training dataset\n",
    "scaler.fit(X_train)\n",
    "# save the scaler\n",
    "dump(scaler, open('scaler5_fitur.pkl', 'wb'))\n",
    "# transform the training dataset\n",
    "X_train_scaled = scaler.transform(X_train)"
   ]
  },
  {
   "cell_type": "code",
   "execution_count": 37,
   "metadata": {},
   "outputs": [],
   "source": [
    "from sklearn.decomposition import PCA\n",
    "\n",
    "# Membuat objek PCA dengan jumlah komponen yang diinginkan\n",
    "pca = PCA(n_components=2)  # Ganti 2 dengan jumlah komponen yang Anda inginkan\n",
    "\n",
    "# Fit dan transformasikan data latih yang telah diubah skala\n",
    "X_train_pca = pca.fit_transform(X_train_scaled)\n",
    "\n",
    "# Transformasikan juga data uji menggunakan scaler yang sama\n",
    "X_test_scaled = scaler.transform(X_test)\n",
    "X_test_pca = pca.transform(X_test_scaled)\n",
    "\n",
    "# X_train_pca sekarang berisi data latih dengan dimensi yang sudah direduksi\n",
    "# X_test_pca sekarang berisi data uji dengan dimensi yang sudah direduksi\n"
   ]
  },
  {
   "cell_type": "code",
   "execution_count": 38,
   "metadata": {
    "id": "SfUusAp6OxYM"
   },
   "outputs": [],
   "source": [
    "import pickle\n",
    "with open('scaler5_fitur.pkl', 'rb') as standarisasi:\n",
    "    loadscal= pickle.load(standarisasi)"
   ]
  },
  {
   "cell_type": "code",
   "execution_count": 39,
   "metadata": {
    "id": "9nbNvoF0O1uX"
   },
   "outputs": [],
   "source": [
    "X_test_scaled=loadscal.transform(X_test) #normalisasi X testing dari hasil normalisasi X train yang disimpan dalam model"
   ]
  },
  {
   "cell_type": "code",
   "execution_count": 40,
   "metadata": {
    "id": "Zw4TNBaWO1y9"
   },
   "outputs": [],
   "source": [
    "from sklearn.metrics import accuracy_score\n",
    "from sklearn.metrics import confusion_matrix"
   ]
  },
  {
   "cell_type": "code",
   "execution_count": 41,
   "metadata": {
    "colab": {
     "base_uri": "https://localhost:8080/"
    },
    "id": "2f8qaqw1O116",
    "outputId": "ad48e8f2-3afd-4711-acfe-3d1526728e8c"
   },
   "outputs": [
    {
     "name": "stdout",
     "output_type": "stream",
     "text": [
      "Akurasi dengan k=1 adalah 0.45\n",
      "Akurasi dengan k=2 adalah 0.4392857142857143\n",
      "Akurasi dengan k=3 adalah 0.4607142857142857\n",
      "Akurasi dengan k=4 adalah 0.49642857142857144\n",
      "Akurasi dengan k=5 adalah 0.48214285714285715\n",
      "Akurasi dengan k=6 adalah 0.49642857142857144\n",
      "Akurasi dengan k=7 adalah 0.4857142857142857\n",
      "Akurasi dengan k=8 adalah 0.48214285714285715\n",
      "Akurasi dengan k=9 adalah 0.4857142857142857\n",
      "Akurasi dengan k=10 adalah 0.48214285714285715\n",
      "Akurasi dengan k=11 adalah 0.48392857142857143\n",
      "Akurasi dengan k=12 adalah 0.475\n",
      "Akurasi dengan k=13 adalah 0.475\n",
      "Akurasi dengan k=14 adalah 0.4875\n",
      "Akurasi dengan k=15 adalah 0.4928571428571429\n",
      "Akurasi dengan k=16 adalah 0.5125\n",
      "Akurasi dengan k=17 adalah 0.5\n",
      "Akurasi dengan k=18 adalah 0.5053571428571428\n",
      "Akurasi dengan k=19 adalah 0.49464285714285716\n",
      "Akurasi dengan k=20 adalah 0.4928571428571429\n",
      "Akurasi dengan k=21 adalah 0.49464285714285716\n",
      "Akurasi dengan k=22 adalah 0.49464285714285716\n",
      "Akurasi dengan k=23 adalah 0.5035714285714286\n",
      "Akurasi dengan k=24 adalah 0.5089285714285714\n",
      "Akurasi dengan k=25 adalah 0.5160714285714286\n",
      "Akurasi dengan k=26 adalah 0.5053571428571428\n",
      "Akurasi dengan k=27 adalah 0.5142857142857142\n",
      "Akurasi dengan k=28 adalah 0.4982142857142857\n",
      "Akurasi dengan k=29 adalah 0.5035714285714286\n",
      "Akurasi terbaik adalah 0.5160714285714286 dengan nilai k=25\n"
     ]
    }
   ],
   "source": [
    "best_accuracy = 0\n",
    "best_k = 0\n",
    "\n",
    "# Perulangan untuk mencari akurasi tertinggi\n",
    "for n in range(1, 30):  # Ganti dengan rentang nilai k yang ingin Anda uji\n",
    "    knn = KNeighborsClassifier(n_neighbors=n, metric='euclidean')\n",
    "    knn.fit(X_train_scaled, y_train)\n",
    "    y_pred = knn.predict(X_test_scaled)\n",
    "    accuracy = accuracy_score(y_test, y_pred)\n",
    "\n",
    "    print(f'Akurasi dengan k={n} adalah {accuracy}')\n",
    "\n",
    "    if accuracy > best_accuracy:\n",
    "        best_accuracy = accuracy\n",
    "        best_k = n\n",
    "\n",
    "print(f'Akurasi terbaik adalah {best_accuracy} dengan nilai k={best_k}')"
   ]
  },
  {
   "cell_type": "markdown",
   "metadata": {},
   "source": [
    "# ----------------------------------------------------------------------------------------\n",
    "\n",
    "# ini beda metode klasifikasi\n",
    "\n",
    "# -----------------------------------------------------------------------------------------"
   ]
  },
  {
   "cell_type": "code",
   "execution_count": 22,
   "metadata": {},
   "outputs": [],
   "source": [
    "from sklearn.svm import SVC\n",
    "from sklearn.metrics import accuracy_score\n",
    "from sklearn.preprocessing import StandardScaler\n",
    "from sklearn.model_selection import train_test_split"
   ]
  },
  {
   "cell_type": "code",
   "execution_count": 23,
   "metadata": {},
   "outputs": [
    {
     "name": "stdout",
     "output_type": "stream",
     "text": [
      "Akurasi dengan kernel linear adalah 0.525\n",
      "Akurasi dengan kernel poly adalah 0.4303571428571429\n",
      "Akurasi dengan kernel rbf adalah 0.5285714285714286\n",
      "Akurasi dengan kernel sigmoid adalah 0.21071428571428572\n",
      "Akurasi terbaik adalah 0.5285714285714286 dengan kernel rbf\n"
     ]
    }
   ],
   "source": [
    "best_accuracy = 0\n",
    "best_kernel = None\n",
    "\n",
    "# Daftar kernel yang ingin diuji\n",
    "kernels_to_test = ['linear', 'poly', 'rbf', 'sigmoid']\n",
    "\n",
    "# Perulangan untuk mencari kernel terbaik\n",
    "for kernel in kernels_to_test:\n",
    "    svm = SVC(kernel=kernel)\n",
    "    svm.fit(X_train_scaled, y_train)\n",
    "    y_pred = svm.predict(X_test_scaled)\n",
    "    accuracy = accuracy_score(y_test, y_pred)\n",
    "\n",
    "    print(f'Akurasi dengan kernel {kernel} adalah {accuracy}')\n",
    "\n",
    "    if accuracy > best_accuracy:\n",
    "        best_accuracy = accuracy\n",
    "        best_kernel = kernel\n",
    "\n",
    "print(f'Akurasi terbaik adalah {best_accuracy} dengan kernel {best_kernel}')"
   ]
  },
  {
   "cell_type": "code",
   "execution_count": 24,
   "metadata": {
    "id": "ktyDEVKVO8mF"
   },
   "outputs": [],
   "source": [
    "knn = KNeighborsClassifier(n_neighbors= 25, metric = \"euclidean\")\n",
    "dump(knn, open('modelknn5_fitur.pkl', 'wb'))\n"
   ]
  },
  {
   "cell_type": "code",
   "execution_count": 25,
   "metadata": {
    "colab": {
     "base_uri": "https://localhost:8080/",
     "height": 75
    },
    "id": "ypqYFTmFRDlQ",
    "outputId": "c9488121-9abf-4725-99fc-db7583d6edd8"
   },
   "outputs": [
    {
     "data": {
      "text/html": [
       "<style>#sk-container-id-1 {color: black;background-color: white;}#sk-container-id-1 pre{padding: 0;}#sk-container-id-1 div.sk-toggleable {background-color: white;}#sk-container-id-1 label.sk-toggleable__label {cursor: pointer;display: block;width: 100%;margin-bottom: 0;padding: 0.3em;box-sizing: border-box;text-align: center;}#sk-container-id-1 label.sk-toggleable__label-arrow:before {content: \"▸\";float: left;margin-right: 0.25em;color: #696969;}#sk-container-id-1 label.sk-toggleable__label-arrow:hover:before {color: black;}#sk-container-id-1 div.sk-estimator:hover label.sk-toggleable__label-arrow:before {color: black;}#sk-container-id-1 div.sk-toggleable__content {max-height: 0;max-width: 0;overflow: hidden;text-align: left;background-color: #f0f8ff;}#sk-container-id-1 div.sk-toggleable__content pre {margin: 0.2em;color: black;border-radius: 0.25em;background-color: #f0f8ff;}#sk-container-id-1 input.sk-toggleable__control:checked~div.sk-toggleable__content {max-height: 200px;max-width: 100%;overflow: auto;}#sk-container-id-1 input.sk-toggleable__control:checked~label.sk-toggleable__label-arrow:before {content: \"▾\";}#sk-container-id-1 div.sk-estimator input.sk-toggleable__control:checked~label.sk-toggleable__label {background-color: #d4ebff;}#sk-container-id-1 div.sk-label input.sk-toggleable__control:checked~label.sk-toggleable__label {background-color: #d4ebff;}#sk-container-id-1 input.sk-hidden--visually {border: 0;clip: rect(1px 1px 1px 1px);clip: rect(1px, 1px, 1px, 1px);height: 1px;margin: -1px;overflow: hidden;padding: 0;position: absolute;width: 1px;}#sk-container-id-1 div.sk-estimator {font-family: monospace;background-color: #f0f8ff;border: 1px dotted black;border-radius: 0.25em;box-sizing: border-box;margin-bottom: 0.5em;}#sk-container-id-1 div.sk-estimator:hover {background-color: #d4ebff;}#sk-container-id-1 div.sk-parallel-item::after {content: \"\";width: 100%;border-bottom: 1px solid gray;flex-grow: 1;}#sk-container-id-1 div.sk-label:hover label.sk-toggleable__label {background-color: #d4ebff;}#sk-container-id-1 div.sk-serial::before {content: \"\";position: absolute;border-left: 1px solid gray;box-sizing: border-box;top: 0;bottom: 0;left: 50%;z-index: 0;}#sk-container-id-1 div.sk-serial {display: flex;flex-direction: column;align-items: center;background-color: white;padding-right: 0.2em;padding-left: 0.2em;position: relative;}#sk-container-id-1 div.sk-item {position: relative;z-index: 1;}#sk-container-id-1 div.sk-parallel {display: flex;align-items: stretch;justify-content: center;background-color: white;position: relative;}#sk-container-id-1 div.sk-item::before, #sk-container-id-1 div.sk-parallel-item::before {content: \"\";position: absolute;border-left: 1px solid gray;box-sizing: border-box;top: 0;bottom: 0;left: 50%;z-index: -1;}#sk-container-id-1 div.sk-parallel-item {display: flex;flex-direction: column;z-index: 1;position: relative;background-color: white;}#sk-container-id-1 div.sk-parallel-item:first-child::after {align-self: flex-end;width: 50%;}#sk-container-id-1 div.sk-parallel-item:last-child::after {align-self: flex-start;width: 50%;}#sk-container-id-1 div.sk-parallel-item:only-child::after {width: 0;}#sk-container-id-1 div.sk-dashed-wrapped {border: 1px dashed gray;margin: 0 0.4em 0.5em 0.4em;box-sizing: border-box;padding-bottom: 0.4em;background-color: white;}#sk-container-id-1 div.sk-label label {font-family: monospace;font-weight: bold;display: inline-block;line-height: 1.2em;}#sk-container-id-1 div.sk-label-container {text-align: center;}#sk-container-id-1 div.sk-container {/* jupyter's `normalize.less` sets `[hidden] { display: none; }` but bootstrap.min.css set `[hidden] { display: none !important; }` so we also need the `!important` here to be able to override the default hidden behavior on the sphinx rendered scikit-learn.org. See: https://github.com/scikit-learn/scikit-learn/issues/21755 */display: inline-block !important;position: relative;}#sk-container-id-1 div.sk-text-repr-fallback {display: none;}</style><div id=\"sk-container-id-1\" class=\"sk-top-container\"><div class=\"sk-text-repr-fallback\"><pre>KNeighborsClassifier(metric=&#x27;euclidean&#x27;, n_neighbors=25)</pre><b>In a Jupyter environment, please rerun this cell to show the HTML representation or trust the notebook. <br />On GitHub, the HTML representation is unable to render, please try loading this page with nbviewer.org.</b></div><div class=\"sk-container\" hidden><div class=\"sk-item\"><div class=\"sk-estimator sk-toggleable\"><input class=\"sk-toggleable__control sk-hidden--visually\" id=\"sk-estimator-id-1\" type=\"checkbox\" checked><label for=\"sk-estimator-id-1\" class=\"sk-toggleable__label sk-toggleable__label-arrow\">KNeighborsClassifier</label><div class=\"sk-toggleable__content\"><pre>KNeighborsClassifier(metric=&#x27;euclidean&#x27;, n_neighbors=25)</pre></div></div></div></div></div>"
      ],
      "text/plain": [
       "KNeighborsClassifier(metric='euclidean', n_neighbors=25)"
      ]
     },
     "execution_count": 25,
     "metadata": {},
     "output_type": "execute_result"
    }
   ],
   "source": [
    "import pickle\n",
    "with open('modelknn5_fitur.pkl', 'rb') as knn:\n",
    "    loadknn= pickle.load(knn)\n",
    "loadknn.fit(X_train_scaled, y_train)"
   ]
  },
  {
   "cell_type": "code",
   "execution_count": 26,
   "metadata": {
    "colab": {
     "base_uri": "https://localhost:8080/"
    },
    "id": "3ws1abLQSSx9",
    "outputId": "52c758d5-a211-4d99-cfb6-50438cff444b"
   },
   "outputs": [
    {
     "data": {
      "text/plain": [
       "array(['OAF_neutral', 'YAF_happy', 'YAF_fear', 'YAF_disgust', 'OAF_Sad',\n",
       "       'OAF_happy', 'YAF_disgust', 'OAF_angry', 'OAF_disgust', 'OAF_Sad',\n",
       "       'YAF_sad', 'YAF_sad', 'OAF_angry', 'OAF_angry',\n",
       "       'OAF_Pleasant_surprise', 'OAF_angry', 'OAF_Sad', 'YAF_disgust',\n",
       "       'OAF_angry', 'YAF_neutral', 'YAF_happy', 'OAF_neutral',\n",
       "       'OAF_angry', 'YAF_angry', 'OAF_Sad', 'YAF_sad',\n",
       "       'YAF_pleasant_surprised', 'YAF_fear', 'OAF_happy', 'OAF_neutral',\n",
       "       'OAF_Sad', 'OAF_Pleasant_surprise', 'YAF_neutral', 'YAF_angry',\n",
       "       'YAF_fear', 'YAF_pleasant_surprised', 'OAF_Pleasant_surprise',\n",
       "       'OAF_Sad', 'YAF_disgust', 'OAF_Fear', 'YAF_disgust', 'OAF_Sad',\n",
       "       'YAF_neutral', 'YAF_disgust', 'OAF_Fear', 'OAF_angry', 'YAF_happy',\n",
       "       'YAF_disgust', 'OAF_neutral', 'OAF_Sad', 'OAF_happy',\n",
       "       'OAF_disgust', 'OAF_Sad', 'YAF_neutral', 'YAF_disgust', 'OAF_Sad',\n",
       "       'OAF_angry', 'OAF_Pleasant_surprise', 'YAF_sad', 'OAF_Fear',\n",
       "       'OAF_disgust', 'OAF_disgust', 'OAF_neutral', 'OAF_angry',\n",
       "       'YAF_pleasant_surprised', 'OAF_happy', 'OAF_angry', 'YAF_neutral',\n",
       "       'YAF_angry', 'YAF_fear', 'OAF_Fear', 'OAF_angry', 'OAF_happy',\n",
       "       'OAF_Pleasant_surprise', 'OAF_angry', 'YAF_pleasant_surprised',\n",
       "       'OAF_Fear', 'OAF_neutral', 'YAF_fear', 'YAF_angry', 'YAF_fear',\n",
       "       'YAF_neutral', 'YAF_disgust', 'YAF_sad', 'YAF_disgust',\n",
       "       'YAF_angry', 'YAF_sad', 'YAF_pleasant_surprised', 'YAF_angry',\n",
       "       'YAF_pleasant_surprised', 'YAF_pleasant_surprised', 'YAF_sad',\n",
       "       'YAF_angry', 'YAF_fear', 'OAF_disgust', 'OAF_happy', 'YAF_neutral',\n",
       "       'YAF_disgust', 'YAF_angry', 'OAF_Fear', 'OAF_neutral', 'OAF_happy',\n",
       "       'OAF_Fear', 'YAF_happy', 'OAF_Pleasant_surprise', 'OAF_Sad',\n",
       "       'OAF_Fear', 'YAF_neutral', 'OAF_neutral', 'OAF_angry',\n",
       "       'OAF_disgust', 'YAF_sad', 'OAF_Pleasant_surprise', 'YAF_fear',\n",
       "       'OAF_Sad', 'YAF_angry', 'YAF_disgust', 'OAF_happy', 'YAF_disgust',\n",
       "       'OAF_happy', 'OAF_disgust', 'YAF_sad', 'OAF_Fear', 'OAF_angry',\n",
       "       'YAF_angry', 'OAF_disgust', 'YAF_angry', 'OAF_Sad', 'YAF_neutral',\n",
       "       'YAF_happy', 'YAF_angry', 'YAF_disgust', 'OAF_Fear', 'YAF_angry',\n",
       "       'OAF_Sad', 'YAF_pleasant_surprised', 'YAF_sad', 'YAF_disgust',\n",
       "       'OAF_happy', 'OAF_neutral', 'YAF_sad', 'YAF_pleasant_surprised',\n",
       "       'YAF_pleasant_surprised', 'YAF_sad', 'OAF_Sad', 'YAF_angry',\n",
       "       'YAF_angry', 'YAF_disgust', 'YAF_pleasant_surprised', 'YAF_fear',\n",
       "       'YAF_angry', 'OAF_happy', 'OAF_angry', 'YAF_pleasant_surprised',\n",
       "       'YAF_happy', 'YAF_pleasant_surprised', 'OAF_Fear', 'OAF_happy',\n",
       "       'YAF_neutral', 'OAF_neutral', 'OAF_Sad', 'OAF_Sad', 'YAF_sad',\n",
       "       'YAF_angry', 'OAF_Pleasant_surprise', 'OAF_Pleasant_surprise',\n",
       "       'OAF_Sad', 'YAF_sad', 'YAF_happy', 'YAF_pleasant_surprised',\n",
       "       'OAF_Sad', 'YAF_fear', 'YAF_pleasant_surprised', 'YAF_sad',\n",
       "       'YAF_neutral', 'YAF_sad', 'OAF_Sad', 'OAF_happy', 'YAF_neutral',\n",
       "       'YAF_disgust', 'YAF_disgust', 'YAF_disgust', 'YAF_fear',\n",
       "       'YAF_angry', 'YAF_angry', 'YAF_fear', 'YAF_pleasant_surprised',\n",
       "       'OAF_happy', 'YAF_pleasant_surprised', 'YAF_disgust', 'OAF_Sad',\n",
       "       'OAF_Sad', 'YAF_fear', 'YAF_neutral', 'OAF_Pleasant_surprise',\n",
       "       'OAF_Fear', 'YAF_happy', 'YAF_happy', 'YAF_angry', 'YAF_angry',\n",
       "       'OAF_disgust', 'OAF_neutral', 'OAF_neutral', 'YAF_angry',\n",
       "       'OAF_Fear', 'OAF_disgust', 'OAF_angry', 'OAF_happy', 'OAF_disgust',\n",
       "       'OAF_disgust', 'OAF_Sad', 'OAF_Sad', 'OAF_Fear', 'YAF_happy',\n",
       "       'YAF_sad', 'YAF_angry', 'OAF_happy', 'YAF_sad', 'OAF_angry',\n",
       "       'OAF_Pleasant_surprise', 'OAF_Fear', 'OAF_happy', 'YAF_angry',\n",
       "       'YAF_disgust', 'OAF_Sad', 'YAF_neutral', 'YAF_pleasant_surprised',\n",
       "       'YAF_fear', 'OAF_disgust', 'OAF_disgust', 'OAF_happy',\n",
       "       'YAF_pleasant_surprised', 'OAF_happy', 'YAF_pleasant_surprised',\n",
       "       'OAF_happy', 'YAF_angry', 'YAF_fear', 'OAF_Sad', 'OAF_happy',\n",
       "       'OAF_Fear', 'YAF_disgust', 'YAF_angry', 'YAF_sad', 'YAF_angry',\n",
       "       'OAF_disgust', 'OAF_Fear', 'YAF_happy', 'OAF_Pleasant_surprise',\n",
       "       'YAF_sad', 'YAF_sad', 'OAF_Pleasant_surprise', 'YAF_sad',\n",
       "       'OAF_neutral', 'OAF_Sad', 'OAF_Fear', 'OAF_disgust', 'OAF_Sad',\n",
       "       'YAF_happy', 'OAF_Fear', 'OAF_disgust', 'YAF_happy', 'OAF_Sad',\n",
       "       'OAF_Fear', 'YAF_sad', 'OAF_happy', 'YAF_angry', 'YAF_sad',\n",
       "       'OAF_happy', 'YAF_angry', 'OAF_Sad', 'YAF_angry', 'YAF_disgust',\n",
       "       'OAF_Pleasant_surprise', 'YAF_angry', 'OAF_disgust', 'YAF_angry',\n",
       "       'OAF_angry', 'OAF_Fear', 'YAF_neutral', 'OAF_Fear',\n",
       "       'YAF_pleasant_surprised', 'OAF_disgust', 'YAF_disgust',\n",
       "       'YAF_neutral', 'OAF_Pleasant_surprise', 'OAF_Pleasant_surprise',\n",
       "       'OAF_neutral', 'YAF_angry', 'YAF_happy', 'OAF_Pleasant_surprise',\n",
       "       'OAF_neutral', 'YAF_angry', 'OAF_Sad', 'OAF_Sad', 'OAF_neutral',\n",
       "       'OAF_Pleasant_surprise', 'OAF_happy', 'OAF_Pleasant_surprise',\n",
       "       'YAF_happy', 'OAF_happy', 'OAF_Fear', 'YAF_disgust', 'YAF_disgust',\n",
       "       'OAF_neutral', 'YAF_pleasant_surprised', 'YAF_disgust',\n",
       "       'OAF_angry', 'YAF_fear', 'YAF_angry', 'OAF_neutral', 'OAF_angry',\n",
       "       'YAF_sad', 'OAF_Pleasant_surprise', 'OAF_neutral', 'OAF_Fear',\n",
       "       'OAF_Fear', 'OAF_Fear', 'YAF_happy', 'YAF_angry', 'YAF_sad',\n",
       "       'YAF_pleasant_surprised', 'OAF_disgust', 'YAF_sad', 'YAF_disgust',\n",
       "       'OAF_neutral', 'OAF_Fear', 'OAF_Sad', 'YAF_happy', 'OAF_disgust',\n",
       "       'OAF_neutral', 'OAF_Pleasant_surprise', 'YAF_neutral', 'OAF_Fear',\n",
       "       'YAF_happy', 'OAF_Pleasant_surprise', 'YAF_pleasant_surprised',\n",
       "       'YAF_disgust', 'OAF_Pleasant_surprise', 'OAF_Sad', 'OAF_Sad',\n",
       "       'OAF_neutral', 'YAF_angry', 'YAF_fear', 'YAF_disgust', 'YAF_angry',\n",
       "       'OAF_Sad', 'YAF_disgust', 'OAF_Fear', 'OAF_disgust',\n",
       "       'YAF_pleasant_surprised', 'OAF_Fear', 'OAF_happy', 'YAF_angry',\n",
       "       'OAF_Fear', 'YAF_angry', 'OAF_disgust', 'OAF_Sad',\n",
       "       'OAF_Pleasant_surprise', 'OAF_happy', 'YAF_pleasant_surprised',\n",
       "       'OAF_Fear', 'YAF_disgust', 'YAF_angry', 'YAF_happy', 'OAF_neutral',\n",
       "       'YAF_neutral', 'OAF_happy', 'YAF_angry', 'YAF_disgust', 'YAF_sad',\n",
       "       'YAF_angry', 'OAF_happy', 'YAF_sad', 'OAF_disgust', 'YAF_disgust',\n",
       "       'YAF_fear', 'OAF_happy', 'YAF_disgust', 'OAF_happy',\n",
       "       'OAF_Pleasant_surprise', 'YAF_angry', 'YAF_happy', 'OAF_happy',\n",
       "       'OAF_happy', 'OAF_angry', 'YAF_disgust', 'YAF_sad', 'YAF_fear',\n",
       "       'OAF_angry', 'OAF_disgust', 'YAF_fear', 'YAF_sad', 'OAF_Sad',\n",
       "       'YAF_disgust', 'OAF_Fear', 'OAF_disgust', 'OAF_Fear',\n",
       "       'YAF_pleasant_surprised', 'YAF_disgust', 'YAF_sad', 'OAF_angry',\n",
       "       'YAF_angry', 'OAF_disgust', 'YAF_pleasant_surprised',\n",
       "       'OAF_Pleasant_surprise', 'OAF_Fear', 'OAF_angry', 'YAF_disgust',\n",
       "       'OAF_angry', 'OAF_Pleasant_surprise', 'YAF_disgust',\n",
       "       'OAF_Pleasant_surprise', 'OAF_happy', 'OAF_Sad', 'YAF_angry',\n",
       "       'OAF_angry', 'OAF_disgust', 'YAF_neutral',\n",
       "       'YAF_pleasant_surprised', 'YAF_pleasant_surprised', 'OAF_neutral',\n",
       "       'OAF_Fear', 'OAF_Sad', 'OAF_neutral', 'OAF_Fear', 'YAF_neutral',\n",
       "       'OAF_Sad', 'YAF_disgust', 'YAF_neutral', 'YAF_disgust',\n",
       "       'YAF_neutral', 'YAF_pleasant_surprised', 'OAF_Fear', 'YAF_happy',\n",
       "       'OAF_Fear', 'OAF_Fear', 'OAF_disgust', 'YAF_angry', 'OAF_Sad',\n",
       "       'YAF_disgust', 'OAF_Pleasant_surprise', 'OAF_neutral', 'OAF_happy',\n",
       "       'YAF_happy', 'YAF_pleasant_surprised', 'YAF_sad', 'OAF_angry',\n",
       "       'OAF_disgust', 'YAF_neutral', 'YAF_pleasant_surprised',\n",
       "       'YAF_angry', 'YAF_angry', 'YAF_happy', 'YAF_sad', 'OAF_Sad',\n",
       "       'YAF_angry', 'OAF_happy', 'YAF_sad', 'OAF_disgust', 'YAF_angry',\n",
       "       'OAF_Sad', 'YAF_neutral', 'YAF_pleasant_surprised', 'OAF_happy',\n",
       "       'YAF_sad', 'YAF_neutral', 'YAF_disgust', 'OAF_happy', 'OAF_happy',\n",
       "       'YAF_sad', 'OAF_angry', 'YAF_disgust', 'YAF_happy',\n",
       "       'YAF_pleasant_surprised', 'YAF_pleasant_surprised', 'OAF_happy',\n",
       "       'YAF_pleasant_surprised', 'OAF_Sad', 'YAF_sad', 'OAF_Fear',\n",
       "       'YAF_fear', 'OAF_Sad', 'YAF_disgust', 'YAF_angry', 'OAF_neutral',\n",
       "       'YAF_sad', 'YAF_neutral', 'YAF_angry', 'YAF_happy', 'OAF_Fear',\n",
       "       'YAF_disgust', 'YAF_pleasant_surprised', 'OAF_angry', 'OAF_Sad',\n",
       "       'OAF_Sad', 'OAF_neutral', 'OAF_Fear', 'YAF_disgust',\n",
       "       'YAF_pleasant_surprised', 'YAF_disgust', 'YAF_disgust', 'YAF_sad',\n",
       "       'YAF_neutral', 'OAF_angry', 'YAF_angry', 'OAF_disgust',\n",
       "       'YAF_neutral', 'YAF_angry', 'YAF_disgust', 'OAF_Fear', 'OAF_happy',\n",
       "       'YAF_sad', 'OAF_disgust', 'OAF_happy', 'OAF_Fear', 'YAF_neutral',\n",
       "       'YAF_disgust', 'OAF_Sad', 'YAF_angry', 'YAF_disgust', 'OAF_happy',\n",
       "       'YAF_angry', 'YAF_angry', 'OAF_disgust', 'OAF_disgust', 'YAF_sad',\n",
       "       'YAF_happy', 'OAF_happy', 'YAF_angry', 'YAF_happy', 'YAF_neutral',\n",
       "       'YAF_fear', 'OAF_Sad', 'OAF_angry', 'OAF_Pleasant_surprise',\n",
       "       'OAF_Fear', 'OAF_angry', 'OAF_angry', 'OAF_happy', 'OAF_angry',\n",
       "       'OAF_disgust', 'OAF_disgust', 'OAF_Sad', 'YAF_pleasant_surprised',\n",
       "       'OAF_neutral', 'YAF_happy', 'YAF_neutral', 'YAF_angry', 'OAF_Fear',\n",
       "       'YAF_happy', 'YAF_angry', 'OAF_Fear', 'OAF_neutral', 'OAF_happy',\n",
       "       'OAF_disgust', 'YAF_fear', 'YAF_pleasant_surprised', 'OAF_angry',\n",
       "       'OAF_Sad', 'YAF_disgust'], dtype=object)"
      ]
     },
     "execution_count": 26,
     "metadata": {},
     "output_type": "execute_result"
    }
   ],
   "source": [
    "y_pred = loadknn.predict(X_test_scaled)\n",
    "y_pred"
   ]
  },
  {
   "cell_type": "code",
   "execution_count": 27,
   "metadata": {
    "colab": {
     "base_uri": "https://localhost:8080/"
    },
    "id": "YEvb72Q0SWQF",
    "outputId": "d1f97346-6bae-4a01-e27a-9db0c32394fc"
   },
   "outputs": [
    {
     "name": "stdout",
     "output_type": "stream",
     "text": [
      "Akurasi: 0.5160714285714286\n"
     ]
    }
   ],
   "source": [
    "accuracy = accuracy_score(y_test,y_pred)\n",
    "print(\"Akurasi:\",accuracy)"
   ]
  },
  {
   "cell_type": "code",
   "execution_count": 28,
   "metadata": {
    "id": "_rNGMU5cS8Ez"
   },
   "outputs": [],
   "source": [
    "import pickle\n",
    "from sklearn.decomposition import PCA\n",
    "\n",
    "sklearn_pca = PCA(n_components=2)\n"
   ]
  },
  {
   "cell_type": "code",
   "execution_count": 29,
   "metadata": {
    "id": "YgM3jmTeTHc6"
   },
   "outputs": [],
   "source": [
    "with open('PCA1.pkl', 'wb') as pc:\n",
    "    pickle.dump(sklearn_pca, pc)\n"
   ]
  },
  {
   "cell_type": "code",
   "execution_count": null,
   "metadata": {},
   "outputs": [],
   "source": []
  }
 ],
 "metadata": {
  "colab": {
   "provenance": []
  },
  "kernelspec": {
   "display_name": "Python 3 (ipykernel)",
   "language": "python",
   "name": "python3"
  },
  "language_info": {
   "codemirror_mode": {
    "name": "ipython",
    "version": 3
   },
   "file_extension": ".py",
   "mimetype": "text/x-python",
   "name": "python",
   "nbconvert_exporter": "python",
   "pygments_lexer": "ipython3",
   "version": "3.10.9"
  }
 },
 "nbformat": 4,
 "nbformat_minor": 1
}