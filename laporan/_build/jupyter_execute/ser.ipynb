{
 "cells": [
  {
   "cell_type": "markdown",
   "metadata": {},
   "source": [
    "# PENGENALAN EMOSI"
   ]
  },
  {
   "cell_type": "markdown",
   "metadata": {},
   "source": [
    "## penjelasan data"
   ]
  },
  {
   "cell_type": "markdown",
   "metadata": {},
   "source": [
    "Toronto Emotional Speech Set (TESS) adalah kumpulan data yang terdiri dari rekaman suara yang diucapkan oleh seorang pria dan wanita. Ada 1400 file audio dan 200 kata per individu. File audio berformat .wav. Setiap frase diucapkan dalam salah satu dari tujuh suasana hati emosional yang berbeda. Setiap file memiliki sekitar 2 detik audio yang direkam di dalamnya.\n",
    "\n",
    "Sebuah set dari 200 kata target diucapkan dalam frase pembawa \"Say the word _____\" oleh dua aktris (berusia 26 dan 64 tahun) dan rekaman dibuat dari set yang menggambarkan masing-masing tujuh emosi (kemarahan, jijik, takut, kebahagiaan, kejutan yang menyenangkan, kesedihan, dan netral)\n",
    "\n",
    "Model yang dikembangkan menggunakan dataset TESS dapat mengenali emosi seperti tenang, bahagia, takut, jijik, marah, netral, terkejut dan sedih. Dataset ini digunakan untuk pengenalan emosi dalam pidato.\n"
   ]
  },
  {
   "cell_type": "markdown",
   "metadata": {},
   "source": [
    "## input data dan import semua library yang di butuhkan"
   ]
  },
  {
   "cell_type": "code",
   "execution_count": 1,
   "metadata": {},
   "outputs": [],
   "source": [
    "import os\n",
    "\n",
    "# Ganti 'nama_folder' dengan nama folder yang ingin Anda masuki\n",
    "path = 'suara'\n",
    "\n",
    "# Gunakan metode `chdir` untuk berpindah ke folder tersebut\n",
    "os.chdir(path)\n",
    "\n",
    "# Sekarang Anda berada di dalam folder tersebut"
   ]
  },
  {
   "cell_type": "code",
   "execution_count": 2,
   "metadata": {
    "id": "7cnyeP6YJFLw"
   },
   "outputs": [],
   "source": [
    "folders=['YAF_sad','YAF_pleasant_surprised','YAF_neutral',\n",
    "         'YAF_happy','YAF_fear','YAF_disgust','YAF_angry',\n",
    "         'OAF_Sad','OAF_Pleasant_surprise','OAF_neutral',\n",
    "         'OAF_happy','OAF_Fear','OAF_disgust',\n",
    "         'OAF_angry',\n",
    "         ]"
   ]
  },
  {
   "cell_type": "code",
   "execution_count": 3,
   "metadata": {
    "id": "1IoLq3CrIvqT"
   },
   "outputs": [],
   "source": [
    "# Import Library\n",
    "import os\n",
    "import librosa\n",
    "import numpy as np\n",
    "import pandas as pd\n",
    "from scipy.stats import skew, kurtosis, mode\n",
    "import pickle\n",
    "from sklearn.svm import SVC\n",
    "from sklearn.metrics import accuracy_score\n",
    "from sklearn.preprocessing import StandardScaler\n",
    "from sklearn.model_selection import train_test_split"
   ]
  },
  {
   "cell_type": "markdown",
   "metadata": {},
   "source": [
    "## PREPROCESSING"
   ]
  },
  {
   "cell_type": "markdown",
   "metadata": {},
   "source": [
    "### membuat fungsi untuk ekstraksi fitur"
   ]
  },
  {
   "cell_type": "markdown",
   "metadata": {},
   "source": [
    "$$\n",
    "ZCR = \\frac{1}{T} \\sum_{n=1}^{T-1} \\left| \\text{sign}(x[n]) - \\text{sign}(x[n-1]) \\right|\n",
    "$$\n"
   ]
  },
  {
   "cell_type": "markdown",
   "metadata": {},
   "source": [
    "di sini saya hanya menggunakan 1 ektraksi fitur yaitu zero crossing rate"
   ]
  },
  {
   "cell_type": "code",
   "execution_count": 4,
   "metadata": {
    "id": "3UvuFfxiIxZ0"
   },
   "outputs": [],
   "source": [
    "def calculate_statistics(audio_path):\n",
    "    y, sr = librosa.load(audio_path)\n",
    "\n",
    "    # UNTUK MENGHITUNG NILAI STATISTIKA\n",
    "    mean = np.mean(y)\n",
    "    std_dev = np.std(y)\n",
    "    max_value = np.max(y)\n",
    "    min_value = np.min(y)\n",
    "    median = np.median(y)\n",
    "    skewness = skew(y)  # Calculate skewness\n",
    "    kurt = kurtosis(y)  # Calculate kurtosis\n",
    "    q1 = np.percentile(y, 25)\n",
    "    q3 = np.percentile(y, 75)\n",
    "    mode_value, _ = mode(y)  # Calculate mode\n",
    "    iqr = q3 - q1\n",
    "\n",
    "    # UNTUK MENGHITUNG NILAI ZCR\n",
    "    zcr_mean = np.mean(librosa.feature.zero_crossing_rate(y=y))\n",
    "    zcr_median = np.median(librosa.feature.zero_crossing_rate(y=y))\n",
    "    zcr_std_dev = np.std(librosa.feature.zero_crossing_rate(y=y))\n",
    "    zcr_kurtosis = kurtosis(librosa.feature.zero_crossing_rate(y=y)[0])\n",
    "    zcr_skew = skew(librosa.feature.zero_crossing_rate(y=y)[0])\n",
    "\n",
    "\n",
    "\n",
    "    return [zcr_mean, zcr_median, zcr_std_dev, zcr_kurtosis, zcr_skew]"
   ]
  },
  {
   "cell_type": "markdown",
   "metadata": {},
   "source": [
    "### memberi label pada suara dan menajdikannya dataframe agar bisa di convert ke CSV"
   ]
  },
  {
   "cell_type": "markdown",
   "metadata": {},
   "source": [
    "pertama saya membuat list untuk menyimpan bernama features lalu saya memberi label dengan nama folder dan menjadikanya csv\n",
    "dan 5 fitur = ZCR Mean,ZCR Median, ZCR Std Dev, ZCR Kurtosis, ZCR Skew"
   ]
  },
  {
   "cell_type": "code",
   "execution_count": 5,
   "metadata": {
    "id": "0wJlTo7kNEEd"
   },
   "outputs": [],
   "source": [
    "features =[]"
   ]
  },
  {
   "cell_type": "code",
   "execution_count": 6,
   "metadata": {
    "id": "8F5zTZk1NFGe"
   },
   "outputs": [
    {
     "ename": "KeyboardInterrupt",
     "evalue": "",
     "output_type": "error",
     "traceback": [
      "\u001b[1;31m---------------------------------------------------------------------------\u001b[0m",
      "\u001b[1;31mKeyboardInterrupt\u001b[0m                         Traceback (most recent call last)",
      "Cell \u001b[1;32mIn[6], line 6\u001b[0m\n\u001b[0;32m      4\u001b[0m \u001b[38;5;28;01mif\u001b[39;00m filename\u001b[38;5;241m.\u001b[39mendswith(\u001b[38;5;124m'\u001b[39m\u001b[38;5;124m.wav\u001b[39m\u001b[38;5;124m'\u001b[39m):\n\u001b[0;32m      5\u001b[0m     audio_path \u001b[38;5;241m=\u001b[39m os\u001b[38;5;241m.\u001b[39mpath\u001b[38;5;241m.\u001b[39mjoin(folder_path, filename)\n\u001b[1;32m----> 6\u001b[0m     statistics \u001b[38;5;241m=\u001b[39m \u001b[43mcalculate_statistics\u001b[49m\u001b[43m(\u001b[49m\u001b[43maudio_path\u001b[49m\u001b[43m)\u001b[49m\n\u001b[0;32m      7\u001b[0m     features\u001b[38;5;241m.\u001b[39mappend([folder, filename] \u001b[38;5;241m+\u001b[39m statistics)\n",
      "Cell \u001b[1;32mIn[4], line 2\u001b[0m, in \u001b[0;36mcalculate_statistics\u001b[1;34m(audio_path)\u001b[0m\n\u001b[0;32m      1\u001b[0m \u001b[38;5;28;01mdef\u001b[39;00m \u001b[38;5;21mcalculate_statistics\u001b[39m(audio_path):\n\u001b[1;32m----> 2\u001b[0m     y, sr \u001b[38;5;241m=\u001b[39m \u001b[43mlibrosa\u001b[49m\u001b[38;5;241;43m.\u001b[39;49m\u001b[43mload\u001b[49m\u001b[43m(\u001b[49m\u001b[43maudio_path\u001b[49m\u001b[43m)\u001b[49m\n\u001b[0;32m      4\u001b[0m     \u001b[38;5;66;03m# UNTUK MENGHITUNG NILAI STATISTIKA\u001b[39;00m\n\u001b[0;32m      5\u001b[0m     mean \u001b[38;5;241m=\u001b[39m np\u001b[38;5;241m.\u001b[39mmean(y)\n",
      "File \u001b[1;32m~\\AppData\\Local\\Programs\\Python\\Python310\\lib\\site-packages\\librosa\\core\\audio.py:192\u001b[0m, in \u001b[0;36mload\u001b[1;34m(path, sr, mono, offset, duration, dtype, res_type)\u001b[0m\n\u001b[0;32m    189\u001b[0m     y \u001b[38;5;241m=\u001b[39m to_mono(y)\n\u001b[0;32m    191\u001b[0m \u001b[38;5;28;01mif\u001b[39;00m sr \u001b[38;5;129;01mis\u001b[39;00m \u001b[38;5;129;01mnot\u001b[39;00m \u001b[38;5;28;01mNone\u001b[39;00m:\n\u001b[1;32m--> 192\u001b[0m     y \u001b[38;5;241m=\u001b[39m \u001b[43mresample\u001b[49m\u001b[43m(\u001b[49m\u001b[43my\u001b[49m\u001b[43m,\u001b[49m\u001b[43m \u001b[49m\u001b[43morig_sr\u001b[49m\u001b[38;5;241;43m=\u001b[39;49m\u001b[43msr_native\u001b[49m\u001b[43m,\u001b[49m\u001b[43m \u001b[49m\u001b[43mtarget_sr\u001b[49m\u001b[38;5;241;43m=\u001b[39;49m\u001b[43msr\u001b[49m\u001b[43m,\u001b[49m\u001b[43m \u001b[49m\u001b[43mres_type\u001b[49m\u001b[38;5;241;43m=\u001b[39;49m\u001b[43mres_type\u001b[49m\u001b[43m)\u001b[49m\n\u001b[0;32m    194\u001b[0m \u001b[38;5;28;01melse\u001b[39;00m:\n\u001b[0;32m    195\u001b[0m     sr \u001b[38;5;241m=\u001b[39m sr_native\n",
      "File \u001b[1;32m~\\AppData\\Local\\Programs\\Python\\Python310\\lib\\site-packages\\librosa\\core\\audio.py:668\u001b[0m, in \u001b[0;36mresample\u001b[1;34m(y, orig_sr, target_sr, res_type, fix, scale, axis, **kwargs)\u001b[0m\n\u001b[0;32m    662\u001b[0m     y_hat \u001b[38;5;241m=\u001b[39m np\u001b[38;5;241m.\u001b[39mapply_along_axis(\n\u001b[0;32m    663\u001b[0m         samplerate\u001b[38;5;241m.\u001b[39mresample, axis\u001b[38;5;241m=\u001b[39maxis, arr\u001b[38;5;241m=\u001b[39my, ratio\u001b[38;5;241m=\u001b[39mratio, converter_type\u001b[38;5;241m=\u001b[39mres_type\n\u001b[0;32m    664\u001b[0m     )\n\u001b[0;32m    665\u001b[0m \u001b[38;5;28;01melif\u001b[39;00m res_type\u001b[38;5;241m.\u001b[39mstartswith(\u001b[38;5;124m\"\u001b[39m\u001b[38;5;124msoxr\u001b[39m\u001b[38;5;124m\"\u001b[39m):\n\u001b[0;32m    666\u001b[0m     \u001b[38;5;66;03m# Use numpy to vectorize the resampler along the target axis\u001b[39;00m\n\u001b[0;32m    667\u001b[0m     \u001b[38;5;66;03m# This is because soxr does not support ndim>2 generally.\u001b[39;00m\n\u001b[1;32m--> 668\u001b[0m     y_hat \u001b[38;5;241m=\u001b[39m \u001b[43mnp\u001b[49m\u001b[38;5;241;43m.\u001b[39;49m\u001b[43mapply_along_axis\u001b[49m\u001b[43m(\u001b[49m\n\u001b[0;32m    669\u001b[0m \u001b[43m        \u001b[49m\u001b[43msoxr\u001b[49m\u001b[38;5;241;43m.\u001b[39;49m\u001b[43mresample\u001b[49m\u001b[43m,\u001b[49m\n\u001b[0;32m    670\u001b[0m \u001b[43m        \u001b[49m\u001b[43maxis\u001b[49m\u001b[38;5;241;43m=\u001b[39;49m\u001b[43maxis\u001b[49m\u001b[43m,\u001b[49m\n\u001b[0;32m    671\u001b[0m \u001b[43m        \u001b[49m\u001b[43marr\u001b[49m\u001b[38;5;241;43m=\u001b[39;49m\u001b[43my\u001b[49m\u001b[43m,\u001b[49m\n\u001b[0;32m    672\u001b[0m \u001b[43m        \u001b[49m\u001b[43min_rate\u001b[49m\u001b[38;5;241;43m=\u001b[39;49m\u001b[43morig_sr\u001b[49m\u001b[43m,\u001b[49m\n\u001b[0;32m    673\u001b[0m \u001b[43m        \u001b[49m\u001b[43mout_rate\u001b[49m\u001b[38;5;241;43m=\u001b[39;49m\u001b[43mtarget_sr\u001b[49m\u001b[43m,\u001b[49m\n\u001b[0;32m    674\u001b[0m \u001b[43m        \u001b[49m\u001b[43mquality\u001b[49m\u001b[38;5;241;43m=\u001b[39;49m\u001b[43mres_type\u001b[49m\u001b[43m,\u001b[49m\n\u001b[0;32m    675\u001b[0m \u001b[43m    \u001b[49m\u001b[43m)\u001b[49m\n\u001b[0;32m    676\u001b[0m \u001b[38;5;28;01melse\u001b[39;00m:\n\u001b[0;32m    677\u001b[0m     y_hat \u001b[38;5;241m=\u001b[39m resampy\u001b[38;5;241m.\u001b[39mresample(y, orig_sr, target_sr, \u001b[38;5;28mfilter\u001b[39m\u001b[38;5;241m=\u001b[39mres_type, axis\u001b[38;5;241m=\u001b[39maxis)\n",
      "File \u001b[1;32m<__array_function__ internals>:180\u001b[0m, in \u001b[0;36mapply_along_axis\u001b[1;34m(*args, **kwargs)\u001b[0m\n",
      "File \u001b[1;32m~\\AppData\\Local\\Programs\\Python\\Python310\\lib\\site-packages\\numpy\\lib\\shape_base.py:379\u001b[0m, in \u001b[0;36mapply_along_axis\u001b[1;34m(func1d, axis, arr, *args, **kwargs)\u001b[0m\n\u001b[0;32m    375\u001b[0m \u001b[38;5;28;01mexcept\u001b[39;00m \u001b[38;5;167;01mStopIteration\u001b[39;00m \u001b[38;5;28;01mas\u001b[39;00m e:\n\u001b[0;32m    376\u001b[0m     \u001b[38;5;28;01mraise\u001b[39;00m \u001b[38;5;167;01mValueError\u001b[39;00m(\n\u001b[0;32m    377\u001b[0m         \u001b[38;5;124m'\u001b[39m\u001b[38;5;124mCannot apply_along_axis when any iteration dimensions are 0\u001b[39m\u001b[38;5;124m'\u001b[39m\n\u001b[0;32m    378\u001b[0m     ) \u001b[38;5;28;01mfrom\u001b[39;00m \u001b[38;5;28mNone\u001b[39m\n\u001b[1;32m--> 379\u001b[0m res \u001b[38;5;241m=\u001b[39m asanyarray(func1d(inarr_view[ind0], \u001b[38;5;241m*\u001b[39margs, \u001b[38;5;241m*\u001b[39m\u001b[38;5;241m*\u001b[39mkwargs))\n\u001b[0;32m    381\u001b[0m \u001b[38;5;66;03m# build a buffer for storing evaluations of func1d.\u001b[39;00m\n\u001b[0;32m    382\u001b[0m \u001b[38;5;66;03m# remove the requested axis, and add the new ones on the end.\u001b[39;00m\n\u001b[0;32m    383\u001b[0m \u001b[38;5;66;03m# laid out so that each write is contiguous.\u001b[39;00m\n\u001b[0;32m    384\u001b[0m \u001b[38;5;66;03m# for a tuple index inds, buff[inds] = func1d(inarr_view[inds])\u001b[39;00m\n\u001b[0;32m    385\u001b[0m buff \u001b[38;5;241m=\u001b[39m zeros(inarr_view\u001b[38;5;241m.\u001b[39mshape[:\u001b[38;5;241m-\u001b[39m\u001b[38;5;241m1\u001b[39m] \u001b[38;5;241m+\u001b[39m res\u001b[38;5;241m.\u001b[39mshape, res\u001b[38;5;241m.\u001b[39mdtype)\n",
      "File \u001b[1;32m~\\AppData\\Local\\Programs\\Python\\Python310\\lib\\site-packages\\soxr\\__init__.py:159\u001b[0m, in \u001b[0;36mresample\u001b[1;34m(x, in_rate, out_rate, quality)\u001b[0m\n\u001b[0;32m    156\u001b[0m x \u001b[38;5;241m=\u001b[39m np\u001b[38;5;241m.\u001b[39mascontiguousarray(x)    \u001b[38;5;66;03m# make array C-contiguous\u001b[39;00m\n\u001b[0;32m    158\u001b[0m \u001b[38;5;28;01mif\u001b[39;00m x\u001b[38;5;241m.\u001b[39mndim \u001b[38;5;241m==\u001b[39m \u001b[38;5;241m1\u001b[39m:\n\u001b[1;32m--> 159\u001b[0m     y \u001b[38;5;241m=\u001b[39m \u001b[43mcysoxr\u001b[49m\u001b[38;5;241;43m.\u001b[39;49m\u001b[43mcysoxr_divide_proc\u001b[49m\u001b[43m(\u001b[49m\u001b[43min_rate\u001b[49m\u001b[43m,\u001b[49m\u001b[43m \u001b[49m\u001b[43mout_rate\u001b[49m\u001b[43m,\u001b[49m\u001b[43m \u001b[49m\u001b[43mx\u001b[49m\u001b[43m[\u001b[49m\u001b[43m:\u001b[49m\u001b[43m,\u001b[49m\u001b[43m \u001b[49m\u001b[43mnp\u001b[49m\u001b[38;5;241;43m.\u001b[39;49m\u001b[43mnewaxis\u001b[49m\u001b[43m]\u001b[49m\u001b[43m,\u001b[49m\u001b[43m \u001b[49m\u001b[43mq\u001b[49m\u001b[43m)\u001b[49m\n\u001b[0;32m    160\u001b[0m     \u001b[38;5;28;01mreturn\u001b[39;00m np\u001b[38;5;241m.\u001b[39msqueeze(y, axis\u001b[38;5;241m=\u001b[39m\u001b[38;5;241m1\u001b[39m)\n\u001b[0;32m    161\u001b[0m \u001b[38;5;28;01melif\u001b[39;00m x\u001b[38;5;241m.\u001b[39mndim \u001b[38;5;241m==\u001b[39m \u001b[38;5;241m2\u001b[39m:\n",
      "\u001b[1;31mKeyboardInterrupt\u001b[0m: "
     ]
    }
   ],
   "source": [
    "for folder in folders:\n",
    "    folder_path = f'{folder}'\n",
    "    for filename in os.listdir(folder_path):\n",
    "        if filename.endswith('.wav'):\n",
    "            audio_path = os.path.join(folder_path, filename)\n",
    "            statistics = calculate_statistics(audio_path)\n",
    "            features.append([folder, filename] + statistics)"
   ]
  },
  {
   "cell_type": "code",
   "execution_count": 7,
   "metadata": {
    "id": "Kn6_bbxXOTcQ"
   },
   "outputs": [],
   "source": [
    "# Membuat DataFrame dari data\n",
    "columns =  ['Label', 'File'] + ['ZCR Mean', 'ZCR Median', 'ZCR Std Dev', 'ZCR Kurtosis', 'ZCR Skew']\n",
    "df = pd.DataFrame(features, columns=columns)"
   ]
  },
  {
   "cell_type": "code",
   "execution_count": 8,
   "metadata": {
    "colab": {
     "base_uri": "https://localhost:8080/",
     "height": 424
    },
    "id": "RkLvmkojOXDi",
    "outputId": "c7ea96a2-7458-439d-e83e-1be15cfd2003"
   },
   "outputs": [
    {
     "data": {
      "text/html": [
       "<div>\n",
       "<style scoped>\n",
       "    .dataframe tbody tr th:only-of-type {\n",
       "        vertical-align: middle;\n",
       "    }\n",
       "\n",
       "    .dataframe tbody tr th {\n",
       "        vertical-align: top;\n",
       "    }\n",
       "\n",
       "    .dataframe thead th {\n",
       "        text-align: right;\n",
       "    }\n",
       "</style>\n",
       "<table border=\"1\" class=\"dataframe\">\n",
       "  <thead>\n",
       "    <tr style=\"text-align: right;\">\n",
       "      <th></th>\n",
       "      <th>Label</th>\n",
       "      <th>File</th>\n",
       "      <th>ZCR Mean</th>\n",
       "      <th>ZCR Median</th>\n",
       "      <th>ZCR Std Dev</th>\n",
       "      <th>ZCR Kurtosis</th>\n",
       "      <th>ZCR Skew</th>\n",
       "    </tr>\n",
       "  </thead>\n",
       "  <tbody>\n",
       "    <tr>\n",
       "      <th>0</th>\n",
       "      <td>YAF_sad</td>\n",
       "      <td>YAF_back_sad.wav</td>\n",
       "      <td>0.128581</td>\n",
       "      <td>0.033203</td>\n",
       "      <td>0.225249</td>\n",
       "      <td>3.231511</td>\n",
       "      <td>2.213080</td>\n",
       "    </tr>\n",
       "    <tr>\n",
       "      <th>1</th>\n",
       "      <td>YAF_sad</td>\n",
       "      <td>YAF_bar_sad.wav</td>\n",
       "      <td>0.111230</td>\n",
       "      <td>0.036133</td>\n",
       "      <td>0.196220</td>\n",
       "      <td>5.189765</td>\n",
       "      <td>2.569729</td>\n",
       "    </tr>\n",
       "    <tr>\n",
       "      <th>2</th>\n",
       "      <td>YAF_sad</td>\n",
       "      <td>YAF_base_sad.wav</td>\n",
       "      <td>0.196274</td>\n",
       "      <td>0.042480</td>\n",
       "      <td>0.259866</td>\n",
       "      <td>-0.207301</td>\n",
       "      <td>1.226778</td>\n",
       "    </tr>\n",
       "    <tr>\n",
       "      <th>3</th>\n",
       "      <td>YAF_sad</td>\n",
       "      <td>YAF_bath_sad.wav</td>\n",
       "      <td>0.145458</td>\n",
       "      <td>0.039062</td>\n",
       "      <td>0.222568</td>\n",
       "      <td>2.644984</td>\n",
       "      <td>1.998682</td>\n",
       "    </tr>\n",
       "    <tr>\n",
       "      <th>4</th>\n",
       "      <td>YAF_sad</td>\n",
       "      <td>YAF_bean_sad.wav</td>\n",
       "      <td>0.105494</td>\n",
       "      <td>0.035156</td>\n",
       "      <td>0.194269</td>\n",
       "      <td>5.715395</td>\n",
       "      <td>2.682275</td>\n",
       "    </tr>\n",
       "    <tr>\n",
       "      <th>...</th>\n",
       "      <td>...</td>\n",
       "      <td>...</td>\n",
       "      <td>...</td>\n",
       "      <td>...</td>\n",
       "      <td>...</td>\n",
       "      <td>...</td>\n",
       "      <td>...</td>\n",
       "    </tr>\n",
       "    <tr>\n",
       "      <th>2795</th>\n",
       "      <td>OAF_angry</td>\n",
       "      <td>OAF_witch_angry.wav</td>\n",
       "      <td>0.095215</td>\n",
       "      <td>0.070801</td>\n",
       "      <td>0.084418</td>\n",
       "      <td>2.776079</td>\n",
       "      <td>1.733152</td>\n",
       "    </tr>\n",
       "    <tr>\n",
       "      <th>2796</th>\n",
       "      <td>OAF_angry</td>\n",
       "      <td>OAF_yearn_angry.wav</td>\n",
       "      <td>0.083991</td>\n",
       "      <td>0.051270</td>\n",
       "      <td>0.091742</td>\n",
       "      <td>7.208814</td>\n",
       "      <td>2.744011</td>\n",
       "    </tr>\n",
       "    <tr>\n",
       "      <th>2797</th>\n",
       "      <td>OAF_angry</td>\n",
       "      <td>OAF_yes_angry.wav</td>\n",
       "      <td>0.115001</td>\n",
       "      <td>0.060059</td>\n",
       "      <td>0.118703</td>\n",
       "      <td>3.370580</td>\n",
       "      <td>2.012270</td>\n",
       "    </tr>\n",
       "    <tr>\n",
       "      <th>2798</th>\n",
       "      <td>OAF_angry</td>\n",
       "      <td>OAF_young_angry.wav</td>\n",
       "      <td>0.085005</td>\n",
       "      <td>0.059082</td>\n",
       "      <td>0.090037</td>\n",
       "      <td>5.366187</td>\n",
       "      <td>2.422199</td>\n",
       "    </tr>\n",
       "    <tr>\n",
       "      <th>2799</th>\n",
       "      <td>OAF_angry</td>\n",
       "      <td>OAF_youth_angry.wav</td>\n",
       "      <td>0.074580</td>\n",
       "      <td>0.048340</td>\n",
       "      <td>0.098578</td>\n",
       "      <td>7.797457</td>\n",
       "      <td>2.908089</td>\n",
       "    </tr>\n",
       "  </tbody>\n",
       "</table>\n",
       "<p>2800 rows × 7 columns</p>\n",
       "</div>"
      ],
      "text/plain": [
       "          Label                 File  ZCR Mean  ZCR Median  ZCR Std Dev  \\\n",
       "0       YAF_sad     YAF_back_sad.wav  0.128581    0.033203     0.225249   \n",
       "1       YAF_sad      YAF_bar_sad.wav  0.111230    0.036133     0.196220   \n",
       "2       YAF_sad     YAF_base_sad.wav  0.196274    0.042480     0.259866   \n",
       "3       YAF_sad     YAF_bath_sad.wav  0.145458    0.039062     0.222568   \n",
       "4       YAF_sad     YAF_bean_sad.wav  0.105494    0.035156     0.194269   \n",
       "...         ...                  ...       ...         ...          ...   \n",
       "2795  OAF_angry  OAF_witch_angry.wav  0.095215    0.070801     0.084418   \n",
       "2796  OAF_angry  OAF_yearn_angry.wav  0.083991    0.051270     0.091742   \n",
       "2797  OAF_angry    OAF_yes_angry.wav  0.115001    0.060059     0.118703   \n",
       "2798  OAF_angry  OAF_young_angry.wav  0.085005    0.059082     0.090037   \n",
       "2799  OAF_angry  OAF_youth_angry.wav  0.074580    0.048340     0.098578   \n",
       "\n",
       "      ZCR Kurtosis  ZCR Skew  \n",
       "0         3.231511  2.213080  \n",
       "1         5.189765  2.569729  \n",
       "2        -0.207301  1.226778  \n",
       "3         2.644984  1.998682  \n",
       "4         5.715395  2.682275  \n",
       "...            ...       ...  \n",
       "2795      2.776079  1.733152  \n",
       "2796      7.208814  2.744011  \n",
       "2797      3.370580  2.012270  \n",
       "2798      5.366187  2.422199  \n",
       "2799      7.797457  2.908089  \n",
       "\n",
       "[2800 rows x 7 columns]"
      ]
     },
     "execution_count": 8,
     "metadata": {},
     "output_type": "execute_result"
    }
   ],
   "source": [
    "# Menampilkan file CSV\n",
    "df"
   ]
  },
  {
   "cell_type": "code",
   "execution_count": 9,
   "metadata": {
    "id": "-5U2IFl1OYtA"
   },
   "outputs": [],
   "source": [
    "df.to_csv('emosi_5_fitur.csv',index=False)"
   ]
  },
  {
   "cell_type": "markdown",
   "metadata": {},
   "source": [
    "### standarisasi data"
   ]
  },
  {
   "cell_type": "markdown",
   "metadata": {},
   "source": [
    "saya ingin melakukan standarisasi data menggunakan standard scaller dan menjadikan nya csv lagi untuk bisa di proses lebih lanjut $$\n",
    "z = \\frac{{x - \\mu}}{{\\sigma}}\n",
    "$$\n"
   ]
  },
  {
   "cell_type": "code",
   "execution_count": 10,
   "metadata": {
    "id": "yz51emzFOgod"
   },
   "outputs": [],
   "source": [
    "from sklearn.preprocessing import StandardScaler\n",
    "# Baca file CSV\n",
    "dn = pd.read_csv(\"emosi_5_fitur.csv\")\n",
    "# Tentukan kolom yang akan distandarisasi\n",
    "kolom = ['ZCR Mean', 'ZCR Median', 'ZCR Std Dev', 'ZCR Kurtosis', 'ZCR Skew']\n",
    "# Inisialisasi StandardScaler\n",
    "scaler = StandardScaler()\n",
    "# Lakukan standarisasi pada kolom yang telah ditentukan\n",
    "dn[kolom] = scaler.fit_transform(dn[kolom])\n",
    "# Simpan DataFrame yang telah distandarisasi ke dalam file CSV baru\n",
    "dn.to_csv(\"emosi2normalisasi.csv\", index=False)\n"
   ]
  },
  {
   "cell_type": "code",
   "execution_count": 11,
   "metadata": {
    "colab": {
     "base_uri": "https://localhost:8080/",
     "height": 424
    },
    "id": "HkIvSnAPOjYP",
    "outputId": "8ae99c32-aafe-4b4e-ef98-d84fe9c32720"
   },
   "outputs": [
    {
     "data": {
      "text/html": [
       "<div>\n",
       "<style scoped>\n",
       "    .dataframe tbody tr th:only-of-type {\n",
       "        vertical-align: middle;\n",
       "    }\n",
       "\n",
       "    .dataframe tbody tr th {\n",
       "        vertical-align: top;\n",
       "    }\n",
       "\n",
       "    .dataframe thead th {\n",
       "        text-align: right;\n",
       "    }\n",
       "</style>\n",
       "<table border=\"1\" class=\"dataframe\">\n",
       "  <thead>\n",
       "    <tr style=\"text-align: right;\">\n",
       "      <th></th>\n",
       "      <th>Label</th>\n",
       "      <th>File</th>\n",
       "      <th>ZCR Mean</th>\n",
       "      <th>ZCR Median</th>\n",
       "      <th>ZCR Std Dev</th>\n",
       "      <th>ZCR Kurtosis</th>\n",
       "      <th>ZCR Skew</th>\n",
       "    </tr>\n",
       "  </thead>\n",
       "  <tbody>\n",
       "    <tr>\n",
       "      <th>0</th>\n",
       "      <td>YAF_sad</td>\n",
       "      <td>YAF_back_sad.wav</td>\n",
       "      <td>-0.321317</td>\n",
       "      <td>-1.052521</td>\n",
       "      <td>0.940845</td>\n",
       "      <td>0.204442</td>\n",
       "      <td>0.495211</td>\n",
       "    </tr>\n",
       "    <tr>\n",
       "      <th>1</th>\n",
       "      <td>YAF_sad</td>\n",
       "      <td>YAF_bar_sad.wav</td>\n",
       "      <td>-0.643634</td>\n",
       "      <td>-0.962423</td>\n",
       "      <td>0.324040</td>\n",
       "      <td>1.185171</td>\n",
       "      <td>1.219225</td>\n",
       "    </tr>\n",
       "    <tr>\n",
       "      <th>2</th>\n",
       "      <td>YAF_sad</td>\n",
       "      <td>YAF_base_sad.wav</td>\n",
       "      <td>0.936230</td>\n",
       "      <td>-0.767212</td>\n",
       "      <td>1.676354</td>\n",
       "      <td>-1.517779</td>\n",
       "      <td>-1.507027</td>\n",
       "    </tr>\n",
       "    <tr>\n",
       "      <th>3</th>\n",
       "      <td>YAF_sad</td>\n",
       "      <td>YAF_bath_sad.wav</td>\n",
       "      <td>-0.007778</td>\n",
       "      <td>-0.872326</td>\n",
       "      <td>0.883874</td>\n",
       "      <td>-0.089302</td>\n",
       "      <td>0.059975</td>\n",
       "    </tr>\n",
       "    <tr>\n",
       "      <th>4</th>\n",
       "      <td>YAF_sad</td>\n",
       "      <td>YAF_bean_sad.wav</td>\n",
       "      <td>-0.750198</td>\n",
       "      <td>-0.992456</td>\n",
       "      <td>0.282586</td>\n",
       "      <td>1.448416</td>\n",
       "      <td>1.447698</td>\n",
       "    </tr>\n",
       "    <tr>\n",
       "      <th>...</th>\n",
       "      <td>...</td>\n",
       "      <td>...</td>\n",
       "      <td>...</td>\n",
       "      <td>...</td>\n",
       "      <td>...</td>\n",
       "      <td>...</td>\n",
       "      <td>...</td>\n",
       "    </tr>\n",
       "    <tr>\n",
       "      <th>2795</th>\n",
       "      <td>OAF_angry</td>\n",
       "      <td>OAF_witch_angry.wav</td>\n",
       "      <td>-0.941158</td>\n",
       "      <td>0.103730</td>\n",
       "      <td>-2.051468</td>\n",
       "      <td>-0.023647</td>\n",
       "      <td>-0.479064</td>\n",
       "    </tr>\n",
       "    <tr>\n",
       "      <th>2796</th>\n",
       "      <td>OAF_angry</td>\n",
       "      <td>OAF_yearn_angry.wav</td>\n",
       "      <td>-1.149659</td>\n",
       "      <td>-0.496920</td>\n",
       "      <td>-1.895834</td>\n",
       "      <td>2.196348</td>\n",
       "      <td>1.573026</td>\n",
       "    </tr>\n",
       "    <tr>\n",
       "      <th>2797</th>\n",
       "      <td>OAF_angry</td>\n",
       "      <td>OAF_yes_angry.wav</td>\n",
       "      <td>-0.573586</td>\n",
       "      <td>-0.226627</td>\n",
       "      <td>-1.322985</td>\n",
       "      <td>0.274090</td>\n",
       "      <td>0.087558</td>\n",
       "    </tr>\n",
       "    <tr>\n",
       "      <th>2798</th>\n",
       "      <td>OAF_angry</td>\n",
       "      <td>OAF_young_angry.wav</td>\n",
       "      <td>-1.130833</td>\n",
       "      <td>-0.256660</td>\n",
       "      <td>-1.932072</td>\n",
       "      <td>1.273526</td>\n",
       "      <td>0.919734</td>\n",
       "    </tr>\n",
       "    <tr>\n",
       "      <th>2799</th>\n",
       "      <td>OAF_angry</td>\n",
       "      <td>OAF_youth_angry.wav</td>\n",
       "      <td>-1.324499</td>\n",
       "      <td>-0.587017</td>\n",
       "      <td>-1.750587</td>\n",
       "      <td>2.491151</td>\n",
       "      <td>1.906111</td>\n",
       "    </tr>\n",
       "  </tbody>\n",
       "</table>\n",
       "<p>2800 rows × 7 columns</p>\n",
       "</div>"
      ],
      "text/plain": [
       "          Label                 File  ZCR Mean  ZCR Median  ZCR Std Dev  \\\n",
       "0       YAF_sad     YAF_back_sad.wav -0.321317   -1.052521     0.940845   \n",
       "1       YAF_sad      YAF_bar_sad.wav -0.643634   -0.962423     0.324040   \n",
       "2       YAF_sad     YAF_base_sad.wav  0.936230   -0.767212     1.676354   \n",
       "3       YAF_sad     YAF_bath_sad.wav -0.007778   -0.872326     0.883874   \n",
       "4       YAF_sad     YAF_bean_sad.wav -0.750198   -0.992456     0.282586   \n",
       "...         ...                  ...       ...         ...          ...   \n",
       "2795  OAF_angry  OAF_witch_angry.wav -0.941158    0.103730    -2.051468   \n",
       "2796  OAF_angry  OAF_yearn_angry.wav -1.149659   -0.496920    -1.895834   \n",
       "2797  OAF_angry    OAF_yes_angry.wav -0.573586   -0.226627    -1.322985   \n",
       "2798  OAF_angry  OAF_young_angry.wav -1.130833   -0.256660    -1.932072   \n",
       "2799  OAF_angry  OAF_youth_angry.wav -1.324499   -0.587017    -1.750587   \n",
       "\n",
       "      ZCR Kurtosis  ZCR Skew  \n",
       "0         0.204442  0.495211  \n",
       "1         1.185171  1.219225  \n",
       "2        -1.517779 -1.507027  \n",
       "3        -0.089302  0.059975  \n",
       "4         1.448416  1.447698  \n",
       "...            ...       ...  \n",
       "2795     -0.023647 -0.479064  \n",
       "2796      2.196348  1.573026  \n",
       "2797      0.274090  0.087558  \n",
       "2798      1.273526  0.919734  \n",
       "2799      2.491151  1.906111  \n",
       "\n",
       "[2800 rows x 7 columns]"
      ]
     },
     "execution_count": 11,
     "metadata": {},
     "output_type": "execute_result"
    }
   ],
   "source": [
    "norm=pd.read_csv('emosi2normalisasi.csv')\n",
    "norm"
   ]
  },
  {
   "cell_type": "markdown",
   "metadata": {},
   "source": [
    "### memisahkan fitur dan label untuk di jadikan data train dan test"
   ]
  },
  {
   "cell_type": "markdown",
   "metadata": {},
   "source": [
    "saya memisahkan label dan fitur agar bisa di split data train dan data test 20% data train 80%"
   ]
  },
  {
   "cell_type": "code",
   "execution_count": 12,
   "metadata": {
    "id": "WbKO-lDiOsDs"
   },
   "outputs": [],
   "source": [
    "from sklearn.model_selection import train_test_split\n",
    "from sklearn.preprocessing import StandardScaler\n",
    "from sklearn.neighbors import KNeighborsClassifier\n",
    "from pickle import dump"
   ]
  },
  {
   "cell_type": "code",
   "execution_count": 13,
   "metadata": {
    "id": "rGEmNDC2Outs"
   },
   "outputs": [
    {
     "name": "stdout",
     "output_type": "stream",
     "text": [
      "      ZCR Mean  ZCR Median  ZCR Std Dev  ZCR Kurtosis  ZCR Skew\n",
      "0    -0.321317   -1.052521     0.940845      0.204442  0.495211\n",
      "1    -0.643634   -0.962423     0.324040      1.185171  1.219225\n",
      "2     0.936230   -0.767212     1.676354     -1.517779 -1.507027\n",
      "3    -0.007778   -0.872326     0.883874     -0.089302  0.059975\n",
      "4    -0.750198   -0.992456     0.282586      1.448416  1.447698\n",
      "...        ...         ...          ...           ...       ...\n",
      "2795 -0.941158    0.103730    -2.051468     -0.023647 -0.479064\n",
      "2796 -1.149659   -0.496920    -1.895834      2.196348  1.573026\n",
      "2797 -0.573586   -0.226627    -1.322985      0.274090  0.087558\n",
      "2798 -1.130833   -0.256660    -1.932072      1.273526  0.919734\n",
      "2799 -1.324499   -0.587017    -1.750587      2.491151  1.906111\n",
      "\n",
      "[2800 rows x 5 columns]\n"
     ]
    }
   ],
   "source": [
    "# Baca data dari file CSV\n",
    "dataknn= pd.read_csv('emosi2normalisasi.csv')\n",
    "# Pisahkan fitur (X) dan label (y)\n",
    "X = dataknn.drop(['Label','File'], axis=1)  # Ganti 'target_column' dengan nama kolom target\n",
    "y = dataknn['Label']\n",
    "# split data into train and test sets\n",
    "print(X)\n"
   ]
  },
  {
   "cell_type": "code",
   "execution_count": 14,
   "metadata": {},
   "outputs": [],
   "source": [
    "X_train,X_test,y_train, y_test= train_test_split(X, y, random_state=1, test_size=0.2)\n",
    "# define scaler\n"
   ]
  },
  {
   "cell_type": "markdown",
   "metadata": {},
   "source": [
    "## modeling KNN"
   ]
  },
  {
   "cell_type": "markdown",
   "metadata": {},
   "source": [
    "1. **Menghitung Jarak:**\n",
    "   Untuk setiap titik data $X_i$, kita menghitung jaraknya ke semua titik data lainnya, biasanya menggunakan Euclidean distance atau metrik jarak lainnya.\n",
    "   \n",
    "   $$\n",
    "   d(X_i, X_j) = \\sqrt{\\sum_{k=1}^{n}(X_{i,k} - X_{j,k})^2}\n",
    "   $$\n",
    "\n",
    "2. **Menentukan Tetangga Terdekat:**\n",
    "   Kita memilih $k$ titik terdekat dengan jarak terkecil dari $X_i$.\n",
    "\n",
    "3. **Voting atau Rata-rata:**\n",
    "   Dalam klasifikasi, kita melakukan voting mayoritas untuk menentukan label kelas dari $X_i$ berdasarkan label kelas tetangga terdekat. Dalam regresi, kita mungkin mengambil rata-rata nilai dari tetangga terdekat sebagai prediksi.\n"
   ]
  },
  {
   "cell_type": "code",
   "execution_count": 24,
   "metadata": {
    "id": "Zw4TNBaWO1y9"
   },
   "outputs": [],
   "source": [
    "from sklearn.metrics import accuracy_score\n",
    "from sklearn.metrics import confusion_matrix"
   ]
  },
  {
   "cell_type": "code",
   "execution_count": 30,
   "metadata": {},
   "outputs": [
    {
     "name": "stdout",
     "output_type": "stream",
     "text": [
      "0.5017857142857143\n"
     ]
    }
   ],
   "source": [
    "accuracy = accuracy_score(y_test, y_pred)\n",
    "print(accuracy)"
   ]
  },
  {
   "cell_type": "markdown",
   "metadata": {},
   "source": [
    "## [IMPLEMENTASI APLIKASI](https://reportpsd-8gbjpcfbrmxs3x5d49f6qe.streamlit.app/)"
   ]
  },
  {
   "cell_type": "code",
   "execution_count": null,
   "metadata": {},
   "outputs": [],
   "source": []
  },
  {
   "cell_type": "code",
   "execution_count": null,
   "metadata": {},
   "outputs": [],
   "source": []
  }
 ],
 "metadata": {
  "colab": {
   "provenance": []
  },
  "kernelspec": {
   "display_name": "Python 3 (ipykernel)",
   "language": "python",
   "name": "python3"
  },
  "language_info": {
   "codemirror_mode": {
    "name": "ipython",
    "version": 3
   },
   "file_extension": ".py",
   "mimetype": "text/x-python",
   "name": "python",
   "nbconvert_exporter": "python",
   "pygments_lexer": "ipython3",
   "version": "3.10.9"
  }
 },
 "nbformat": 4,
 "nbformat_minor": 4
}