{
 "cells": [
  {
   "cell_type": "markdown",
   "metadata": {},
   "source": [
    "# PENGENALAN EMOSI"
   ]
  },
  {
   "cell_type": "markdown",
   "metadata": {},
   "source": [
    "## penjelasan data"
   ]
  },
  {
   "cell_type": "markdown",
   "metadata": {},
   "source": [
    "Toronto Emotional Speech Set (TESS) adalah kumpulan data yang terdiri dari rekaman suara yang diucapkan oleh seorang pria dan wanita. Ada 1400 file audio dan 200 kata per individu. File audio berformat .wav. Setiap frase diucapkan dalam salah satu dari tujuh suasana hati emosional yang berbeda. Setiap file memiliki sekitar 2 detik audio yang direkam di dalamnya.\n",
    "\n",
    "Sebuah set dari 200 kata target diucapkan dalam frase pembawa \"Say the word _____\" oleh dua aktris (berusia 26 dan 64 tahun) dan rekaman dibuat dari set yang menggambarkan masing-masing tujuh emosi (kemarahan, jijik, takut, kebahagiaan, kejutan yang menyenangkan, kesedihan, dan netral)\n",
    "\n",
    "Model yang dikembangkan menggunakan dataset TESS dapat mengenali emosi seperti tenang, bahagia, takut, jijik, marah, netral, terkejut dan sedih. Dataset ini digunakan untuk pengenalan emosi dalam pidato.\n"
   ]
  },
  {
   "cell_type": "markdown",
   "metadata": {},
   "source": [
    "## input data dan import semua library yang di butuhkan"
   ]
  },
  {
   "cell_type": "code",
   "execution_count": 1,
   "metadata": {},
   "outputs": [],
   "source": [
    "import os\n",
    "\n",
    "# Ganti 'nama_folder' dengan nama folder yang ingin Anda masuki\n",
    "path = 'suara'\n",
    "\n",
    "# Gunakan metode `chdir` untuk berpindah ke folder tersebut\n",
    "os.chdir(path)\n",
    "\n",
    "# Sekarang Anda berada di dalam folder tersebut"
   ]
  },
  {
   "cell_type": "code",
   "execution_count": 2,
   "metadata": {
    "id": "7cnyeP6YJFLw"
   },
   "outputs": [],
   "source": [
    "folders=['YAF_sad','YAF_pleasant_surprised','YAF_neutral',\n",
    "         'YAF_happy','YAF_fear','YAF_disgust','YAF_angry',\n",
    "         'OAF_Sad','OAF_Pleasant_surprise','OAF_neutral',\n",
    "         'OAF_happy','OAF_Fear','OAF_disgust',\n",
    "         'OAF_angry',\n",
    "         ]"
   ]
  },
  {
   "cell_type": "code",
   "execution_count": 3,
   "metadata": {
    "id": "1IoLq3CrIvqT"
   },
   "outputs": [],
   "source": [
    "# Import Library\n",
    "import os\n",
    "import librosa\n",
    "import numpy as np\n",
    "import pandas as pd\n",
    "from scipy.stats import skew, kurtosis, mode\n",
    "import pickle\n",
    "from sklearn.svm import SVC\n",
    "from sklearn.metrics import accuracy_score\n",
    "from sklearn.preprocessing import StandardScaler\n",
    "from sklearn.model_selection import train_test_split"
   ]
  },
  {
   "cell_type": "markdown",
   "metadata": {},
   "source": [
    "## PREPROCESSING"
   ]
  },
  {
   "cell_type": "markdown",
   "metadata": {},
   "source": [
    "### membuat fungsi untuk ekstraksi fitur"
   ]
  },
  {
   "cell_type": "markdown",
   "metadata": {},
   "source": [
    "$$\n",
    "ZCR = \\frac{1}{T} \\sum_{n=1}^{T-1} \\left| \\text{sign}(x[n]) - \\text{sign}(x[n-1]) \\right|\n",
    "$$\n"
   ]
  },
  {
   "cell_type": "markdown",
   "metadata": {},
   "source": [
    "di sini saya hanya menggunakan 1 ektraksi fitur yaitu zero crossing rate"
   ]
  },
  {
   "cell_type": "code",
   "execution_count": 4,
   "metadata": {
    "id": "3UvuFfxiIxZ0"
   },
   "outputs": [],
   "source": [
    "def calculate_statistics(audio_path):\n",
    "    y, sr = librosa.load(audio_path)\n",
    "\n",
    "    # UNTUK MENGHITUNG NILAI STATISTIKA\n",
    "    mean = np.mean(y)\n",
    "    std_dev = np.std(y)\n",
    "    max_value = np.max(y)\n",
    "    min_value = np.min(y)\n",
    "    median = np.median(y)\n",
    "    skewness = skew(y)  # Calculate skewness\n",
    "    kurt = kurtosis(y)  # Calculate kurtosis\n",
    "    q1 = np.percentile(y, 25)\n",
    "    q3 = np.percentile(y, 75)\n",
    "    mode_value, _ = mode(y)  # Calculate mode\n",
    "    iqr = q3 - q1\n",
    "\n",
    "    # UNTUK MENGHITUNG NILAI ZCR\n",
    "    zcr_mean = np.mean(librosa.feature.zero_crossing_rate(y=y))\n",
    "    zcr_median = np.median(librosa.feature.zero_crossing_rate(y=y))\n",
    "    zcr_std_dev = np.std(librosa.feature.zero_crossing_rate(y=y))\n",
    "    zcr_kurtosis = kurtosis(librosa.feature.zero_crossing_rate(y=y)[0])\n",
    "    zcr_skew = skew(librosa.feature.zero_crossing_rate(y=y)[0])\n",
    "\n",
    "\n",
    "\n",
    "    return [zcr_mean, zcr_median, zcr_std_dev, zcr_kurtosis, zcr_skew]"
   ]
  },
  {
   "cell_type": "markdown",
   "metadata": {},
   "source": [
    "### memberi label pada suara dan menajdikannya dataframe agar bisa di convert ke CSV"
   ]
  },
  {
   "cell_type": "markdown",
   "metadata": {},
   "source": [
    "pertama saya membuat list untuk menyimpan bernama features lalu saya memberi label dengan nama folder dan menjadikanya csv\n",
    "dan 5 fitur = ZCR Mean,ZCR Median, ZCR Std Dev, ZCR Kurtosis, ZCR Skew"
   ]
  },
  {
   "cell_type": "code",
   "execution_count": 5,
   "metadata": {
    "id": "0wJlTo7kNEEd"
   },
   "outputs": [],
   "source": [
    "features =[]"
   ]
  },
  {
   "cell_type": "code",
   "execution_count": 6,
   "metadata": {
    "id": "8F5zTZk1NFGe"
   },
   "outputs": [
    {
     "ename": "KeyboardInterrupt",
     "evalue": "",
     "output_type": "error",
     "traceback": [
      "\u001b[1;31m---------------------------------------------------------------------------\u001b[0m",
      "\u001b[1;31mKeyboardInterrupt\u001b[0m                         Traceback (most recent call last)",
      "Cell \u001b[1;32mIn[6], line 6\u001b[0m\n\u001b[0;32m      4\u001b[0m \u001b[38;5;28;01mif\u001b[39;00m filename\u001b[38;5;241m.\u001b[39mendswith(\u001b[38;5;124m'\u001b[39m\u001b[38;5;124m.wav\u001b[39m\u001b[38;5;124m'\u001b[39m):\n\u001b[0;32m      5\u001b[0m     audio_path \u001b[38;5;241m=\u001b[39m os\u001b[38;5;241m.\u001b[39mpath\u001b[38;5;241m.\u001b[39mjoin(folder_path, filename)\n\u001b[1;32m----> 6\u001b[0m     statistics \u001b[38;5;241m=\u001b[39m \u001b[43mcalculate_statistics\u001b[49m\u001b[43m(\u001b[49m\u001b[43maudio_path\u001b[49m\u001b[43m)\u001b[49m\n\u001b[0;32m      7\u001b[0m     features\u001b[38;5;241m.\u001b[39mappend([folder, filename] \u001b[38;5;241m+\u001b[39m statistics)\n",
      "Cell \u001b[1;32mIn[4], line 14\u001b[0m, in \u001b[0;36mcalculate_statistics\u001b[1;34m(audio_path)\u001b[0m\n\u001b[0;32m     12\u001b[0m q1 \u001b[38;5;241m=\u001b[39m np\u001b[38;5;241m.\u001b[39mpercentile(y, \u001b[38;5;241m25\u001b[39m)\n\u001b[0;32m     13\u001b[0m q3 \u001b[38;5;241m=\u001b[39m np\u001b[38;5;241m.\u001b[39mpercentile(y, \u001b[38;5;241m75\u001b[39m)\n\u001b[1;32m---> 14\u001b[0m mode_value, _ \u001b[38;5;241m=\u001b[39m \u001b[43mmode\u001b[49m\u001b[43m(\u001b[49m\u001b[43my\u001b[49m\u001b[43m)\u001b[49m  \u001b[38;5;66;03m# Calculate mode\u001b[39;00m\n\u001b[0;32m     15\u001b[0m iqr \u001b[38;5;241m=\u001b[39m q3 \u001b[38;5;241m-\u001b[39m q1\n\u001b[0;32m     17\u001b[0m \u001b[38;5;66;03m# UNTUK MENGHITUNG NILAI ZCR\u001b[39;00m\n",
      "File \u001b[1;32m~\\AppData\\Local\\Programs\\Python\\Python310\\lib\\site-packages\\scipy\\stats\\_axis_nan_policy.py:523\u001b[0m, in \u001b[0;36m_axis_nan_policy_factory.<locals>.axis_nan_policy_decorator.<locals>.axis_nan_policy_wrapper\u001b[1;34m(***failed resolving arguments***)\u001b[0m\n\u001b[0;32m    521\u001b[0m \u001b[38;5;28;01mif\u001b[39;00m sentinel:\n\u001b[0;32m    522\u001b[0m     samples \u001b[38;5;241m=\u001b[39m _remove_sentinel(samples, paired, sentinel)\n\u001b[1;32m--> 523\u001b[0m res \u001b[38;5;241m=\u001b[39m hypotest_fun_out(\u001b[38;5;241m*\u001b[39msamples, \u001b[38;5;241m*\u001b[39m\u001b[38;5;241m*\u001b[39mkwds)\n\u001b[0;32m    524\u001b[0m res \u001b[38;5;241m=\u001b[39m result_to_tuple(res)\n\u001b[0;32m    525\u001b[0m res \u001b[38;5;241m=\u001b[39m _add_reduced_axes(res, reduced_axes, keepdims)\n",
      "File \u001b[1;32m~\\AppData\\Local\\Programs\\Python\\Python310\\lib\\site-packages\\scipy\\stats\\_stats_py.py:517\u001b[0m, in \u001b[0;36mmode\u001b[1;34m(a, axis, nan_policy, keepdims)\u001b[0m\n\u001b[0;32m    514\u001b[0m     NaN \u001b[38;5;241m=\u001b[39m _get_nan(a)\n\u001b[0;32m    515\u001b[0m     \u001b[38;5;28;01mreturn\u001b[39;00m ModeResult(\u001b[38;5;241m*\u001b[39mnp\u001b[38;5;241m.\u001b[39marray([NaN, \u001b[38;5;241m0\u001b[39m], dtype\u001b[38;5;241m=\u001b[39mNaN\u001b[38;5;241m.\u001b[39mdtype))\n\u001b[1;32m--> 517\u001b[0m vals, cnts \u001b[38;5;241m=\u001b[39m \u001b[43mnp\u001b[49m\u001b[38;5;241;43m.\u001b[39;49m\u001b[43munique\u001b[49m\u001b[43m(\u001b[49m\u001b[43ma\u001b[49m\u001b[43m,\u001b[49m\u001b[43m \u001b[49m\u001b[43mreturn_counts\u001b[49m\u001b[38;5;241;43m=\u001b[39;49m\u001b[38;5;28;43;01mTrue\u001b[39;49;00m\u001b[43m)\u001b[49m\n\u001b[0;32m    518\u001b[0m modes, counts \u001b[38;5;241m=\u001b[39m vals[cnts\u001b[38;5;241m.\u001b[39margmax()], cnts\u001b[38;5;241m.\u001b[39mmax()\n\u001b[0;32m    519\u001b[0m \u001b[38;5;28;01mreturn\u001b[39;00m ModeResult(modes[()], counts[()])\n",
      "File \u001b[1;32m<__array_function__ internals>:180\u001b[0m, in \u001b[0;36munique\u001b[1;34m(*args, **kwargs)\u001b[0m\n",
      "File \u001b[1;32m~\\AppData\\Local\\Programs\\Python\\Python310\\lib\\site-packages\\numpy\\lib\\arraysetops.py:274\u001b[0m, in \u001b[0;36munique\u001b[1;34m(ar, return_index, return_inverse, return_counts, axis, equal_nan)\u001b[0m\n\u001b[0;32m    272\u001b[0m ar \u001b[38;5;241m=\u001b[39m np\u001b[38;5;241m.\u001b[39masanyarray(ar)\n\u001b[0;32m    273\u001b[0m \u001b[38;5;28;01mif\u001b[39;00m axis \u001b[38;5;129;01mis\u001b[39;00m \u001b[38;5;28;01mNone\u001b[39;00m:\n\u001b[1;32m--> 274\u001b[0m     ret \u001b[38;5;241m=\u001b[39m \u001b[43m_unique1d\u001b[49m\u001b[43m(\u001b[49m\u001b[43mar\u001b[49m\u001b[43m,\u001b[49m\u001b[43m \u001b[49m\u001b[43mreturn_index\u001b[49m\u001b[43m,\u001b[49m\u001b[43m \u001b[49m\u001b[43mreturn_inverse\u001b[49m\u001b[43m,\u001b[49m\u001b[43m \u001b[49m\u001b[43mreturn_counts\u001b[49m\u001b[43m,\u001b[49m\u001b[43m \u001b[49m\n\u001b[0;32m    275\u001b[0m \u001b[43m                    \u001b[49m\u001b[43mequal_nan\u001b[49m\u001b[38;5;241;43m=\u001b[39;49m\u001b[43mequal_nan\u001b[49m\u001b[43m)\u001b[49m\n\u001b[0;32m    276\u001b[0m     \u001b[38;5;28;01mreturn\u001b[39;00m _unpack_tuple(ret)\n\u001b[0;32m    278\u001b[0m \u001b[38;5;66;03m# axis was specified and not None\u001b[39;00m\n",
      "File \u001b[1;32m~\\AppData\\Local\\Programs\\Python\\Python310\\lib\\site-packages\\numpy\\lib\\arraysetops.py:336\u001b[0m, in \u001b[0;36m_unique1d\u001b[1;34m(ar, return_index, return_inverse, return_counts, equal_nan)\u001b[0m\n\u001b[0;32m    334\u001b[0m     aux \u001b[38;5;241m=\u001b[39m ar[perm]\n\u001b[0;32m    335\u001b[0m \u001b[38;5;28;01melse\u001b[39;00m:\n\u001b[1;32m--> 336\u001b[0m     \u001b[43mar\u001b[49m\u001b[38;5;241;43m.\u001b[39;49m\u001b[43msort\u001b[49m\u001b[43m(\u001b[49m\u001b[43m)\u001b[49m\n\u001b[0;32m    337\u001b[0m     aux \u001b[38;5;241m=\u001b[39m ar\n\u001b[0;32m    338\u001b[0m mask \u001b[38;5;241m=\u001b[39m np\u001b[38;5;241m.\u001b[39mempty(aux\u001b[38;5;241m.\u001b[39mshape, dtype\u001b[38;5;241m=\u001b[39mnp\u001b[38;5;241m.\u001b[39mbool_)\n",
      "\u001b[1;31mKeyboardInterrupt\u001b[0m: "
     ]
    }
   ],
   "source": [
    "for folder in folders:\n",
    "    folder_path = f'{folder}'\n",
    "    for filename in os.listdir(folder_path):\n",
    "        if filename.endswith('.wav'):\n",
    "            audio_path = os.path.join(folder_path, filename)\n",
    "            statistics = calculate_statistics(audio_path)\n",
    "            features.append([folder, filename] + statistics)"
   ]
  },
  {
   "cell_type": "code",
   "execution_count": 34,
   "metadata": {
    "id": "Kn6_bbxXOTcQ"
   },
   "outputs": [],
   "source": [
    "# Membuat DataFrame dari data\n",
    "columns =  ['Label', 'File'] + ['ZCR Mean', 'ZCR Median', 'ZCR Std Dev', 'ZCR Kurtosis', 'ZCR Skew']\n",
    "df = pd.DataFrame(features, columns=columns)"
   ]
  },
  {
   "cell_type": "code",
   "execution_count": 35,
   "metadata": {
    "colab": {
     "base_uri": "https://localhost:8080/",
     "height": 424
    },
    "id": "RkLvmkojOXDi",
    "outputId": "c7ea96a2-7458-439d-e83e-1be15cfd2003"
   },
   "outputs": [
    {
     "data": {
      "text/html": [
       "<div>\n",
       "<style scoped>\n",
       "    .dataframe tbody tr th:only-of-type {\n",
       "        vertical-align: middle;\n",
       "    }\n",
       "\n",
       "    .dataframe tbody tr th {\n",
       "        vertical-align: top;\n",
       "    }\n",
       "\n",
       "    .dataframe thead th {\n",
       "        text-align: right;\n",
       "    }\n",
       "</style>\n",
       "<table border=\"1\" class=\"dataframe\">\n",
       "  <thead>\n",
       "    <tr style=\"text-align: right;\">\n",
       "      <th></th>\n",
       "      <th>Label</th>\n",
       "      <th>File</th>\n",
       "      <th>ZCR Mean</th>\n",
       "      <th>ZCR Median</th>\n",
       "      <th>ZCR Std Dev</th>\n",
       "      <th>ZCR Kurtosis</th>\n",
       "      <th>ZCR Skew</th>\n",
       "    </tr>\n",
       "  </thead>\n",
       "  <tbody>\n",
       "    <tr>\n",
       "      <th>0</th>\n",
       "      <td>YAF_sad</td>\n",
       "      <td>YAF_back_sad.wav</td>\n",
       "      <td>0.128581</td>\n",
       "      <td>0.033203</td>\n",
       "      <td>0.225249</td>\n",
       "      <td>3.231511</td>\n",
       "      <td>2.213080</td>\n",
       "    </tr>\n",
       "    <tr>\n",
       "      <th>1</th>\n",
       "      <td>YAF_sad</td>\n",
       "      <td>YAF_bar_sad.wav</td>\n",
       "      <td>0.111230</td>\n",
       "      <td>0.036133</td>\n",
       "      <td>0.196220</td>\n",
       "      <td>5.189765</td>\n",
       "      <td>2.569729</td>\n",
       "    </tr>\n",
       "    <tr>\n",
       "      <th>2</th>\n",
       "      <td>YAF_sad</td>\n",
       "      <td>YAF_base_sad.wav</td>\n",
       "      <td>0.196274</td>\n",
       "      <td>0.042480</td>\n",
       "      <td>0.259866</td>\n",
       "      <td>-0.207301</td>\n",
       "      <td>1.226778</td>\n",
       "    </tr>\n",
       "    <tr>\n",
       "      <th>3</th>\n",
       "      <td>YAF_sad</td>\n",
       "      <td>YAF_bath_sad.wav</td>\n",
       "      <td>0.145458</td>\n",
       "      <td>0.039062</td>\n",
       "      <td>0.222568</td>\n",
       "      <td>2.644984</td>\n",
       "      <td>1.998682</td>\n",
       "    </tr>\n",
       "    <tr>\n",
       "      <th>4</th>\n",
       "      <td>YAF_sad</td>\n",
       "      <td>YAF_bean_sad.wav</td>\n",
       "      <td>0.105494</td>\n",
       "      <td>0.035156</td>\n",
       "      <td>0.194269</td>\n",
       "      <td>5.715395</td>\n",
       "      <td>2.682275</td>\n",
       "    </tr>\n",
       "    <tr>\n",
       "      <th>...</th>\n",
       "      <td>...</td>\n",
       "      <td>...</td>\n",
       "      <td>...</td>\n",
       "      <td>...</td>\n",
       "      <td>...</td>\n",
       "      <td>...</td>\n",
       "      <td>...</td>\n",
       "    </tr>\n",
       "    <tr>\n",
       "      <th>2795</th>\n",
       "      <td>OAF_angry</td>\n",
       "      <td>OAF_witch_angry.wav</td>\n",
       "      <td>0.095215</td>\n",
       "      <td>0.070801</td>\n",
       "      <td>0.084418</td>\n",
       "      <td>2.776079</td>\n",
       "      <td>1.733152</td>\n",
       "    </tr>\n",
       "    <tr>\n",
       "      <th>2796</th>\n",
       "      <td>OAF_angry</td>\n",
       "      <td>OAF_yearn_angry.wav</td>\n",
       "      <td>0.083991</td>\n",
       "      <td>0.051270</td>\n",
       "      <td>0.091742</td>\n",
       "      <td>7.208814</td>\n",
       "      <td>2.744011</td>\n",
       "    </tr>\n",
       "    <tr>\n",
       "      <th>2797</th>\n",
       "      <td>OAF_angry</td>\n",
       "      <td>OAF_yes_angry.wav</td>\n",
       "      <td>0.115001</td>\n",
       "      <td>0.060059</td>\n",
       "      <td>0.118703</td>\n",
       "      <td>3.370580</td>\n",
       "      <td>2.012270</td>\n",
       "    </tr>\n",
       "    <tr>\n",
       "      <th>2798</th>\n",
       "      <td>OAF_angry</td>\n",
       "      <td>OAF_young_angry.wav</td>\n",
       "      <td>0.085005</td>\n",
       "      <td>0.059082</td>\n",
       "      <td>0.090037</td>\n",
       "      <td>5.366187</td>\n",
       "      <td>2.422199</td>\n",
       "    </tr>\n",
       "    <tr>\n",
       "      <th>2799</th>\n",
       "      <td>OAF_angry</td>\n",
       "      <td>OAF_youth_angry.wav</td>\n",
       "      <td>0.074580</td>\n",
       "      <td>0.048340</td>\n",
       "      <td>0.098578</td>\n",
       "      <td>7.797457</td>\n",
       "      <td>2.908089</td>\n",
       "    </tr>\n",
       "  </tbody>\n",
       "</table>\n",
       "<p>2800 rows × 7 columns</p>\n",
       "</div>"
      ],
      "text/plain": [
       "          Label                 File  ZCR Mean  ZCR Median  ZCR Std Dev  \\\n",
       "0       YAF_sad     YAF_back_sad.wav  0.128581    0.033203     0.225249   \n",
       "1       YAF_sad      YAF_bar_sad.wav  0.111230    0.036133     0.196220   \n",
       "2       YAF_sad     YAF_base_sad.wav  0.196274    0.042480     0.259866   \n",
       "3       YAF_sad     YAF_bath_sad.wav  0.145458    0.039062     0.222568   \n",
       "4       YAF_sad     YAF_bean_sad.wav  0.105494    0.035156     0.194269   \n",
       "...         ...                  ...       ...         ...          ...   \n",
       "2795  OAF_angry  OAF_witch_angry.wav  0.095215    0.070801     0.084418   \n",
       "2796  OAF_angry  OAF_yearn_angry.wav  0.083991    0.051270     0.091742   \n",
       "2797  OAF_angry    OAF_yes_angry.wav  0.115001    0.060059     0.118703   \n",
       "2798  OAF_angry  OAF_young_angry.wav  0.085005    0.059082     0.090037   \n",
       "2799  OAF_angry  OAF_youth_angry.wav  0.074580    0.048340     0.098578   \n",
       "\n",
       "      ZCR Kurtosis  ZCR Skew  \n",
       "0         3.231511  2.213080  \n",
       "1         5.189765  2.569729  \n",
       "2        -0.207301  1.226778  \n",
       "3         2.644984  1.998682  \n",
       "4         5.715395  2.682275  \n",
       "...            ...       ...  \n",
       "2795      2.776079  1.733152  \n",
       "2796      7.208814  2.744011  \n",
       "2797      3.370580  2.012270  \n",
       "2798      5.366187  2.422199  \n",
       "2799      7.797457  2.908089  \n",
       "\n",
       "[2800 rows x 7 columns]"
      ]
     },
     "execution_count": 35,
     "metadata": {},
     "output_type": "execute_result"
    }
   ],
   "source": [
    "# Menampilkan file CSV\n",
    "df"
   ]
  },
  {
   "cell_type": "code",
   "execution_count": 9,
   "metadata": {
    "id": "-5U2IFl1OYtA"
   },
   "outputs": [],
   "source": [
    "df.to_csv('emosi_5_fitur.csv',index=False)"
   ]
  },
  {
   "cell_type": "markdown",
   "metadata": {},
   "source": [
    "### standarisasi data"
   ]
  },
  {
   "cell_type": "markdown",
   "metadata": {},
   "source": [
    "saya ingin melakukan standarisasi data menggunakan standard scaller dan menjadikan nya csv lagi untuk bisa di proses lebih lanjut $$\n",
    "z = \\frac{{x - \\mu}}{{\\sigma}}\n",
    "$$\n"
   ]
  },
  {
   "cell_type": "code",
   "execution_count": 50,
   "metadata": {
    "id": "yz51emzFOgod"
   },
   "outputs": [],
   "source": [
    "from sklearn.preprocessing import StandardScaler\n",
    "# Baca file CSV\n",
    "dn = pd.read_csv(\"emosi_5_fitur.csv\")\n",
    "# Tentukan kolom yang akan distandarisasi\n",
    "kolom = ['ZCR Mean', 'ZCR Median', 'ZCR Std Dev', 'ZCR Kurtosis', 'ZCR Skew']\n",
    "# Inisialisasi StandardScaler\n",
    "scaler = StandardScaler()\n",
    "# Lakukan standarisasi pada kolom yang telah ditentukan\n",
    "dn[kolom] = scaler.fit_transform(dn[kolom])\n",
    "# Simpan DataFrame yang telah distandarisasi ke dalam file CSV baru\n",
    "dn.to_csv(\"emosi2normalisasi.csv\", index=False)\n"
   ]
  },
  {
   "cell_type": "code",
   "execution_count": 51,
   "metadata": {
    "colab": {
     "base_uri": "https://localhost:8080/",
     "height": 424
    },
    "id": "HkIvSnAPOjYP",
    "outputId": "8ae99c32-aafe-4b4e-ef98-d84fe9c32720"
   },
   "outputs": [
    {
     "data": {
      "text/html": [
       "<div>\n",
       "<style scoped>\n",
       "    .dataframe tbody tr th:only-of-type {\n",
       "        vertical-align: middle;\n",
       "    }\n",
       "\n",
       "    .dataframe tbody tr th {\n",
       "        vertical-align: top;\n",
       "    }\n",
       "\n",
       "    .dataframe thead th {\n",
       "        text-align: right;\n",
       "    }\n",
       "</style>\n",
       "<table border=\"1\" class=\"dataframe\">\n",
       "  <thead>\n",
       "    <tr style=\"text-align: right;\">\n",
       "      <th></th>\n",
       "      <th>Label</th>\n",
       "      <th>File</th>\n",
       "      <th>ZCR Mean</th>\n",
       "      <th>ZCR Median</th>\n",
       "      <th>ZCR Std Dev</th>\n",
       "      <th>ZCR Kurtosis</th>\n",
       "      <th>ZCR Skew</th>\n",
       "    </tr>\n",
       "  </thead>\n",
       "  <tbody>\n",
       "    <tr>\n",
       "      <th>0</th>\n",
       "      <td>YAF_sad</td>\n",
       "      <td>YAF_back_sad.wav</td>\n",
       "      <td>-0.321317</td>\n",
       "      <td>-1.052521</td>\n",
       "      <td>0.940845</td>\n",
       "      <td>0.204442</td>\n",
       "      <td>0.495211</td>\n",
       "    </tr>\n",
       "    <tr>\n",
       "      <th>1</th>\n",
       "      <td>YAF_sad</td>\n",
       "      <td>YAF_bar_sad.wav</td>\n",
       "      <td>-0.643634</td>\n",
       "      <td>-0.962423</td>\n",
       "      <td>0.324040</td>\n",
       "      <td>1.185171</td>\n",
       "      <td>1.219225</td>\n",
       "    </tr>\n",
       "    <tr>\n",
       "      <th>2</th>\n",
       "      <td>YAF_sad</td>\n",
       "      <td>YAF_base_sad.wav</td>\n",
       "      <td>0.936230</td>\n",
       "      <td>-0.767212</td>\n",
       "      <td>1.676354</td>\n",
       "      <td>-1.517779</td>\n",
       "      <td>-1.507027</td>\n",
       "    </tr>\n",
       "    <tr>\n",
       "      <th>3</th>\n",
       "      <td>YAF_sad</td>\n",
       "      <td>YAF_bath_sad.wav</td>\n",
       "      <td>-0.007778</td>\n",
       "      <td>-0.872326</td>\n",
       "      <td>0.883874</td>\n",
       "      <td>-0.089302</td>\n",
       "      <td>0.059975</td>\n",
       "    </tr>\n",
       "    <tr>\n",
       "      <th>4</th>\n",
       "      <td>YAF_sad</td>\n",
       "      <td>YAF_bean_sad.wav</td>\n",
       "      <td>-0.750198</td>\n",
       "      <td>-0.992456</td>\n",
       "      <td>0.282586</td>\n",
       "      <td>1.448416</td>\n",
       "      <td>1.447698</td>\n",
       "    </tr>\n",
       "    <tr>\n",
       "      <th>...</th>\n",
       "      <td>...</td>\n",
       "      <td>...</td>\n",
       "      <td>...</td>\n",
       "      <td>...</td>\n",
       "      <td>...</td>\n",
       "      <td>...</td>\n",
       "      <td>...</td>\n",
       "    </tr>\n",
       "    <tr>\n",
       "      <th>2795</th>\n",
       "      <td>OAF_angry</td>\n",
       "      <td>OAF_witch_angry.wav</td>\n",
       "      <td>-0.941158</td>\n",
       "      <td>0.103730</td>\n",
       "      <td>-2.051468</td>\n",
       "      <td>-0.023647</td>\n",
       "      <td>-0.479064</td>\n",
       "    </tr>\n",
       "    <tr>\n",
       "      <th>2796</th>\n",
       "      <td>OAF_angry</td>\n",
       "      <td>OAF_yearn_angry.wav</td>\n",
       "      <td>-1.149659</td>\n",
       "      <td>-0.496920</td>\n",
       "      <td>-1.895834</td>\n",
       "      <td>2.196348</td>\n",
       "      <td>1.573026</td>\n",
       "    </tr>\n",
       "    <tr>\n",
       "      <th>2797</th>\n",
       "      <td>OAF_angry</td>\n",
       "      <td>OAF_yes_angry.wav</td>\n",
       "      <td>-0.573586</td>\n",
       "      <td>-0.226627</td>\n",
       "      <td>-1.322985</td>\n",
       "      <td>0.274090</td>\n",
       "      <td>0.087558</td>\n",
       "    </tr>\n",
       "    <tr>\n",
       "      <th>2798</th>\n",
       "      <td>OAF_angry</td>\n",
       "      <td>OAF_young_angry.wav</td>\n",
       "      <td>-1.130833</td>\n",
       "      <td>-0.256660</td>\n",
       "      <td>-1.932072</td>\n",
       "      <td>1.273526</td>\n",
       "      <td>0.919734</td>\n",
       "    </tr>\n",
       "    <tr>\n",
       "      <th>2799</th>\n",
       "      <td>OAF_angry</td>\n",
       "      <td>OAF_youth_angry.wav</td>\n",
       "      <td>-1.324499</td>\n",
       "      <td>-0.587017</td>\n",
       "      <td>-1.750587</td>\n",
       "      <td>2.491151</td>\n",
       "      <td>1.906111</td>\n",
       "    </tr>\n",
       "  </tbody>\n",
       "</table>\n",
       "<p>2800 rows × 7 columns</p>\n",
       "</div>"
      ],
      "text/plain": [
       "          Label                 File  ZCR Mean  ZCR Median  ZCR Std Dev  \\\n",
       "0       YAF_sad     YAF_back_sad.wav -0.321317   -1.052521     0.940845   \n",
       "1       YAF_sad      YAF_bar_sad.wav -0.643634   -0.962423     0.324040   \n",
       "2       YAF_sad     YAF_base_sad.wav  0.936230   -0.767212     1.676354   \n",
       "3       YAF_sad     YAF_bath_sad.wav -0.007778   -0.872326     0.883874   \n",
       "4       YAF_sad     YAF_bean_sad.wav -0.750198   -0.992456     0.282586   \n",
       "...         ...                  ...       ...         ...          ...   \n",
       "2795  OAF_angry  OAF_witch_angry.wav -0.941158    0.103730    -2.051468   \n",
       "2796  OAF_angry  OAF_yearn_angry.wav -1.149659   -0.496920    -1.895834   \n",
       "2797  OAF_angry    OAF_yes_angry.wav -0.573586   -0.226627    -1.322985   \n",
       "2798  OAF_angry  OAF_young_angry.wav -1.130833   -0.256660    -1.932072   \n",
       "2799  OAF_angry  OAF_youth_angry.wav -1.324499   -0.587017    -1.750587   \n",
       "\n",
       "      ZCR Kurtosis  ZCR Skew  \n",
       "0         0.204442  0.495211  \n",
       "1         1.185171  1.219225  \n",
       "2        -1.517779 -1.507027  \n",
       "3        -0.089302  0.059975  \n",
       "4         1.448416  1.447698  \n",
       "...            ...       ...  \n",
       "2795     -0.023647 -0.479064  \n",
       "2796      2.196348  1.573026  \n",
       "2797      0.274090  0.087558  \n",
       "2798      1.273526  0.919734  \n",
       "2799      2.491151  1.906111  \n",
       "\n",
       "[2800 rows x 7 columns]"
      ]
     },
     "execution_count": 51,
     "metadata": {},
     "output_type": "execute_result"
    }
   ],
   "source": [
    "norm=pd.read_csv('emosi2normalisasi.csv')\n",
    "norm"
   ]
  },
  {
   "cell_type": "markdown",
   "metadata": {},
   "source": [
    "### memisahkan fitur dan label untuk di jadikan data train dan test"
   ]
  },
  {
   "cell_type": "markdown",
   "metadata": {},
   "source": [
    "saya memisahkan label dan fitur agar bisa di split data train dan data test 20% data train 80%"
   ]
  },
  {
   "cell_type": "code",
   "execution_count": 52,
   "metadata": {
    "id": "WbKO-lDiOsDs"
   },
   "outputs": [],
   "source": [
    "from sklearn.model_selection import train_test_split\n",
    "from sklearn.preprocessing import StandardScaler\n",
    "from sklearn.neighbors import KNeighborsClassifier\n",
    "from pickle import dump"
   ]
  },
  {
   "cell_type": "code",
   "execution_count": 53,
   "metadata": {
    "id": "rGEmNDC2Outs"
   },
   "outputs": [
    {
     "name": "stdout",
     "output_type": "stream",
     "text": [
      "      ZCR Mean  ZCR Median  ZCR Std Dev  ZCR Kurtosis  ZCR Skew\n",
      "0    -0.321317   -1.052521     0.940845      0.204442  0.495211\n",
      "1    -0.643634   -0.962423     0.324040      1.185171  1.219225\n",
      "2     0.936230   -0.767212     1.676354     -1.517779 -1.507027\n",
      "3    -0.007778   -0.872326     0.883874     -0.089302  0.059975\n",
      "4    -0.750198   -0.992456     0.282586      1.448416  1.447698\n",
      "...        ...         ...          ...           ...       ...\n",
      "2795 -0.941158    0.103730    -2.051468     -0.023647 -0.479064\n",
      "2796 -1.149659   -0.496920    -1.895834      2.196348  1.573026\n",
      "2797 -0.573586   -0.226627    -1.322985      0.274090  0.087558\n",
      "2798 -1.130833   -0.256660    -1.932072      1.273526  0.919734\n",
      "2799 -1.324499   -0.587017    -1.750587      2.491151  1.906111\n",
      "\n",
      "[2800 rows x 5 columns]\n"
     ]
    }
   ],
   "source": [
    "# Baca data dari file CSV\n",
    "dataknn= pd.read_csv('emosi2normalisasi.csv')\n",
    "# Pisahkan fitur (X) dan label (y)\n",
    "X = dataknn.drop(['Label','File'], axis=1)  # Ganti 'target_column' dengan nama kolom target\n",
    "y = dataknn['Label']\n",
    "# split data into train and test sets\n",
    "print(X)\n"
   ]
  },
  {
   "cell_type": "code",
   "execution_count": 54,
   "metadata": {},
   "outputs": [],
   "source": [
    "X_train,X_test,y_train, y_test= train_test_split(X, y, random_state=1, test_size=0.2)\n",
    "# define scaler\n"
   ]
  },
  {
   "cell_type": "markdown",
   "metadata": {},
   "source": [
    "## modeling KNN"
   ]
  },
  {
   "cell_type": "markdown",
   "metadata": {},
   "source": [
    "1. **Menghitung Jarak:**\n",
    "   Untuk setiap titik data $X_i$, kita menghitung jaraknya ke semua titik data lainnya, biasanya menggunakan Euclidean distance atau metrik jarak lainnya.\n",
    "   \n",
    "   $$\n",
    "   d(X_i, X_j) = \\sqrt{\\sum_{k=1}^{n}(X_{i,k} - X_{j,k})^2}\n",
    "   $$\n",
    "\n",
    "2. **Menentukan Tetangga Terdekat:**\n",
    "   Kita memilih $k$ titik terdekat dengan jarak terkecil dari $X_i$.\n",
    "\n",
    "3. **Voting atau Rata-rata:**\n",
    "   Dalam klasifikasi, kita melakukan voting mayoritas untuk menentukan label kelas dari $X_i$ berdasarkan label kelas tetangga terdekat. Dalam regresi, kita mungkin mengambil rata-rata nilai dari tetangga terdekat sebagai prediksi.\n"
   ]
  },
  {
   "cell_type": "code",
   "execution_count": 55,
   "metadata": {
    "id": "Zw4TNBaWO1y9"
   },
   "outputs": [],
   "source": [
    "from sklearn.metrics import accuracy_score\n",
    "from sklearn.metrics import confusion_matrix"
   ]
  },
  {
   "cell_type": "markdown",
   "metadata": {},
   "source": [
    "lalu saya mencari k terbaik dari 1-30"
   ]
  },
  {
   "cell_type": "code",
   "execution_count": 56,
   "metadata": {
    "colab": {
     "base_uri": "https://localhost:8080/"
    },
    "id": "2f8qaqw1O116",
    "outputId": "ad48e8f2-3afd-4711-acfe-3d1526728e8c"
   },
   "outputs": [
    {
     "name": "stdout",
     "output_type": "stream",
     "text": [
      "Akurasi dengan k=1 adalah 0.45\n",
      "Akurasi dengan k=2 adalah 0.4392857142857143\n",
      "Akurasi dengan k=3 adalah 0.4607142857142857\n",
      "Akurasi dengan k=4 adalah 0.49642857142857144\n",
      "Akurasi dengan k=5 adalah 0.48214285714285715\n",
      "Akurasi dengan k=6 adalah 0.49642857142857144\n",
      "Akurasi dengan k=7 adalah 0.4857142857142857\n",
      "Akurasi dengan k=8 adalah 0.48214285714285715\n",
      "Akurasi dengan k=9 adalah 0.4857142857142857\n",
      "Akurasi dengan k=10 adalah 0.48214285714285715\n",
      "Akurasi dengan k=11 adalah 0.48392857142857143\n",
      "Akurasi dengan k=12 adalah 0.475\n",
      "Akurasi dengan k=13 adalah 0.475\n",
      "Akurasi dengan k=14 adalah 0.4875\n",
      "Akurasi dengan k=15 adalah 0.4928571428571429\n",
      "Akurasi dengan k=16 adalah 0.5125\n",
      "Akurasi dengan k=17 adalah 0.5\n",
      "Akurasi dengan k=18 adalah 0.5053571428571428\n",
      "Akurasi dengan k=19 adalah 0.49464285714285716\n",
      "Akurasi dengan k=20 adalah 0.4928571428571429\n",
      "Akurasi dengan k=21 adalah 0.49464285714285716\n",
      "Akurasi dengan k=22 adalah 0.49464285714285716\n",
      "Akurasi dengan k=23 adalah 0.5035714285714286\n",
      "Akurasi dengan k=24 adalah 0.5089285714285714\n",
      "Akurasi dengan k=25 adalah 0.5160714285714286\n",
      "Akurasi dengan k=26 adalah 0.5053571428571428\n",
      "Akurasi dengan k=27 adalah 0.5142857142857142\n",
      "Akurasi dengan k=28 adalah 0.4982142857142857\n",
      "Akurasi dengan k=29 adalah 0.5035714285714286\n",
      "Akurasi terbaik adalah 0.5160714285714286 dengan nilai k=25\n"
     ]
    }
   ],
   "source": [
    "best_accuracy = 0\n",
    "best_k = 0\n",
    "\n",
    "# Perulangan untuk mencari akurasi tertinggi\n",
    "for n in range(1, 30):  # Ganti dengan rentang nilai k yang ingin Anda uji\n",
    "    knn = KNeighborsClassifier(n_neighbors=n, metric='euclidean')\n",
    "    knn.fit(X_train_scaled, y_train)\n",
    "    y_pred = knn.predict(X_test_scaled)\n",
    "    accuracy = accuracy_score(y_test, y_pred)\n",
    "\n",
    "    print(f'Akurasi dengan k={n} adalah {accuracy}')\n",
    "\n",
    "    if accuracy > best_accuracy:\n",
    "        best_accuracy = accuracy\n",
    "        best_k = n\n",
    "\n",
    "print(f'Akurasi terbaik adalah {best_accuracy} dengan nilai k={best_k}')"
   ]
  },
  {
   "cell_type": "code",
   "execution_count": 57,
   "metadata": {
    "colab": {
     "base_uri": "https://localhost:8080/"
    },
    "id": "YEvb72Q0SWQF",
    "outputId": "d1f97346-6bae-4a01-e27a-9db0c32394fc"
   },
   "outputs": [
    {
     "name": "stdout",
     "output_type": "stream",
     "text": [
      "Akurasi: 0.5035714285714286\n"
     ]
    }
   ],
   "source": [
    "accuracy = accuracy_score(y_test,y_pred)\n",
    "print(\"Akurasi:\",accuracy)"
   ]
  },
  {
   "cell_type": "code",
   "execution_count": null,
   "metadata": {},
   "outputs": [],
   "source": []
  },
  {
   "cell_type": "code",
   "execution_count": null,
   "metadata": {},
   "outputs": [],
   "source": []
  },
  {
   "cell_type": "code",
   "execution_count": null,
   "metadata": {},
   "outputs": [],
   "source": []
  }
 ],
 "metadata": {
  "colab": {
   "provenance": []
  },
  "kernelspec": {
   "display_name": "Python 3 (ipykernel)",
   "language": "python",
   "name": "python3"
  },
  "language_info": {
   "codemirror_mode": {
    "name": "ipython",
    "version": 3
   },
   "file_extension": ".py",
   "mimetype": "text/x-python",
   "name": "python",
   "nbconvert_exporter": "python",
   "pygments_lexer": "ipython3",
   "version": "3.10.9"
  }
 },
 "nbformat": 4,
 "nbformat_minor": 1
}