{
 "cells": [
  {
   "cell_type": "code",
   "execution_count": 1,
   "metadata": {
    "colab": {
     "base_uri": "https://localhost:8080/"
    },
    "id": "5IT20MupzHXO",
    "outputId": "11bbe97f-fec4-48ad-c2c6-2a5d9a7cc3f9"
   },
   "outputs": [],
   "source": [
    "import pickle\n",
    "import streamlit as st\n",
    "from sklearn.model_selection import train_test_split\n",
    "from sklearn.preprocessing import StandardScaler\n",
    "from sklearn.neighbors import KNeighborsClassifier\n",
    "from pickle import dump\n",
    "from sklearn.preprocessing import StandardScaler\n",
    "import librosa\n",
    "import pandas as pd\n",
    "import matplotlib.pyplot as plt\n",
    "import numpy as np\n",
    "import scipy.stats as stats\n",
    "from scipy.stats import skew, kurtosis, mode\n",
    "from sklearn.neighbors import KNeighborsClassifier\n",
    "from sklearn.decomposition import PCA\n",
    "from sklearn.preprocessing import MinMaxScaler\n",
    "import streamlit as st\n",
    "\n",
    "import pyaudio\n",
    "import wave\n",
    "import numpy as np\n",
    "import soundfile as sf\n"
   ]
  },
  {
   "cell_type": "code",
   "execution_count": 2,
   "metadata": {},
   "outputs": [
    {
     "ename": "NameError",
     "evalue": "name 'base_directory' is not defined",
     "output_type": "error",
     "traceback": [
      "\u001b[1;31m---------------------------------------------------------------------------\u001b[0m",
      "\u001b[1;31mNameError\u001b[0m                                 Traceback (most recent call last)",
      "Cell \u001b[1;32mIn[2], line 11\u001b[0m\n\u001b[0;32m      7\u001b[0m \u001b[38;5;66;03m# Direktori utama tempat folder-folder ini ada\u001b[39;00m\n\u001b[0;32m      8\u001b[0m \n\u001b[0;32m      9\u001b[0m \u001b[38;5;66;03m# Loop melalui setiap folder\u001b[39;00m\n\u001b[0;32m     10\u001b[0m \u001b[38;5;28;01mfor\u001b[39;00m folder \u001b[38;5;129;01min\u001b[39;00m folders:\n\u001b[1;32m---> 11\u001b[0m     folder_path \u001b[38;5;241m=\u001b[39m os\u001b[38;5;241m.\u001b[39mpath\u001b[38;5;241m.\u001b[39mjoin(\u001b[43mbase_directory\u001b[49m, folder)\n\u001b[0;32m     13\u001b[0m     \u001b[38;5;66;03m# Periksa apakah folder tersebut ada\u001b[39;00m\n\u001b[0;32m     14\u001b[0m     \u001b[38;5;28;01mif\u001b[39;00m os\u001b[38;5;241m.\u001b[39mpath\u001b[38;5;241m.\u001b[39mexists(folder_path):\n\u001b[0;32m     15\u001b[0m         \u001b[38;5;66;03m# Loop melalui file di dalam folder tersebut\u001b[39;00m\n",
      "\u001b[1;31mNameError\u001b[0m: name 'base_directory' is not defined"
     ]
    }
   ],
   "source": [
    "import os\n",
    "\n",
    "# Daftar folder yang ingin Anda jelajahi\n",
    "folders = ['YAF_sad', 'YAF_pleasant_surprised', 'YAF_neutral', 'YAF_happy', 'YAF_fear', 'YAF_disgust', 'YAF_angry',\n",
    "           'OAF_Sad', 'OAF_Pleasant_surprise', 'OAF_neutral', 'OAF_happy', 'OAF_Fear', 'disgust', 'angry']\n",
    "\n",
    "# Direktori utama tempat folder-folder ini ada\n",
    "\n",
    "# Loop melalui setiap folder\n",
    "for folder in folders:\n",
    "    folder_path = os.path.join(base_directory, folder)\n",
    "\n",
    "    # Periksa apakah folder tersebut ada\n",
    "    if os.path.exists(folder_path):\n",
    "        # Loop melalui file di dalam folder tersebut\n",
    "        for root, dirs, files in os.walk(folder_path):\n",
    "            for file in files:\n",
    "                # Di sini, Anda dapat memproses file sesuai dengan kebutuhan Anda\n",
    "                # Misalnya, mencetak jalur file\n",
    "                file_path = os.path.join(root, file)\n",
    "                print(file_path)\n",
    "    else:\n",
    "        print(f\"Folder '{folder}' tidak ditemukan di {base_directory}\")\n"
   ]
  },
  {
   "cell_type": "code",
   "execution_count": 25,
   "metadata": {
    "id": "7cnyeP6YJFLw"
   },
   "outputs": [],
   "source": [
    "folders=['YAF_sad','YAF_pleasant_surprised','YAF_neutral',\n",
    "         'YAF_happy','YAF_fear','YAF_disgust','YAF_angry',\n",
    "         'OAF_Sad','OAF_Pleasant_surprise','OAF_neutral',\n",
    "         'OAF_happy','OAF_Fear','disgust',\n",
    "         'angry',\n",
    "         ]"
   ]
  },
  {
   "cell_type": "code",
   "execution_count": 26,
   "metadata": {
    "id": "1IoLq3CrIvqT"
   },
   "outputs": [],
   "source": [
    "# Import Library\n",
    "import os\n",
    "import librosa\n",
    "import numpy as np\n",
    "import pandas as pd\n",
    "from scipy.stats import skew, kurtosis, mode\n",
    "import pickle"
   ]
  },
  {
   "cell_type": "code",
   "execution_count": 27,
   "metadata": {
    "id": "3UvuFfxiIxZ0"
   },
   "outputs": [],
   "source": [
    "def calculate_statistics(audio_path):\n",
    "    y, sr = librosa.load(audio_path)\n",
    "\n",
    "    # UNTUK MENGHITUNG NILAI STATISTIKA\n",
    "    mean = np.mean(y)\n",
    "    std_dev = np.std(y)\n",
    "    max_value = np.max(y)\n",
    "    min_value = np.min(y)\n",
    "    median = np.median(y)\n",
    "    skewness = skew(y)  # Calculate skewness\n",
    "    kurt = kurtosis(y)  # Calculate kurtosis\n",
    "    q1 = np.percentile(y, 25)\n",
    "    q3 = np.percentile(y, 75)\n",
    "    mode_value, _ = mode(y)  # Calculate mode\n",
    "    iqr = q3 - q1\n",
    "\n",
    "    # UNTUK MENGHITUNG NILAI ZCR\n",
    "    zcr_mean = np.mean(librosa.feature.zero_crossing_rate(y=y))\n",
    "    zcr_median = np.median(librosa.feature.zero_crossing_rate(y=y))\n",
    "    zcr_std_dev = np.std(librosa.feature.zero_crossing_rate(y=y))\n",
    "    zcr_kurtosis = kurtosis(librosa.feature.zero_crossing_rate(y=y)[0])\n",
    "    zcr_skew = skew(librosa.feature.zero_crossing_rate(y=y)[0])\n",
    "\n",
    "    # UNTUK MENGHITUNG NILAI RMSE\n",
    "    rmse = np.sum(y**2) / len(y)\n",
    "    rmse_median = np.median(y**2)\n",
    "    rmse_std_dev = np.std(y**2)\n",
    "    rmse_kurtosis = kurtosis(y**2)\n",
    "    rmse_skew = skew(y**2)\n",
    "\n",
    "    return [zcr_mean, zcr_median, zcr_std_dev, zcr_kurtosis, zcr_skew, rmse, rmse_median, rmse_std_dev, rmse_kurtosis, rmse_skew]\n"
   ]
  },
  {
   "cell_type": "code",
   "execution_count": 28,
   "metadata": {
    "id": "Kn6_bbxXOTcQ"
   },
   "outputs": [],
   "source": [
    "# Membuat DataFrame dari data\n",
    "columns =  ['Label', 'File'] + ['ZCR Mean', 'ZCR Median', 'ZCR Std Dev', 'ZCR Kurtosis', 'ZCR Skew', 'RMSE', 'RMSE Median', 'RMSE Std Dev', 'RMSE Kurtosis', 'RMSE Skew']\n",
    "df = pd.DataFrame(wav_files, columns=columns)"
   ]
  },
  {
   "cell_type": "code",
   "execution_count": 22,
   "metadata": {
    "colab": {
     "base_uri": "https://localhost:8080/",
     "height": 424
    },
    "id": "RkLvmkojOXDi",
    "outputId": "c7ea96a2-7458-439d-e83e-1be15cfd2003"
   },
   "outputs": [
    {
     "data": {
      "text/html": [
       "<div>\n",
       "<style scoped>\n",
       "    .dataframe tbody tr th:only-of-type {\n",
       "        vertical-align: middle;\n",
       "    }\n",
       "\n",
       "    .dataframe tbody tr th {\n",
       "        vertical-align: top;\n",
       "    }\n",
       "\n",
       "    .dataframe thead th {\n",
       "        text-align: right;\n",
       "    }\n",
       "</style>\n",
       "<table border=\"1\" class=\"dataframe\">\n",
       "  <thead>\n",
       "    <tr style=\"text-align: right;\">\n",
       "      <th></th>\n",
       "      <th>Label</th>\n",
       "      <th>File</th>\n",
       "      <th>ZCR Mean</th>\n",
       "      <th>ZCR Median</th>\n",
       "      <th>ZCR Std Dev</th>\n",
       "      <th>ZCR Kurtosis</th>\n",
       "      <th>ZCR Skew</th>\n",
       "      <th>RMSE</th>\n",
       "      <th>RMSE Median</th>\n",
       "      <th>RMSE Std Dev</th>\n",
       "      <th>RMSE Kurtosis</th>\n",
       "      <th>RMSE Skew</th>\n",
       "    </tr>\n",
       "  </thead>\n",
       "  <tbody>\n",
       "  </tbody>\n",
       "</table>\n",
       "</div>"
      ],
      "text/plain": [
       "Empty DataFrame\n",
       "Columns: [Label, File, ZCR Mean, ZCR Median, ZCR Std Dev, ZCR Kurtosis, ZCR Skew, RMSE, RMSE Median, RMSE Std Dev, RMSE Kurtosis, RMSE Skew]\n",
       "Index: []"
      ]
     },
     "execution_count": 22,
     "metadata": {},
     "output_type": "execute_result"
    }
   ],
   "source": [
    "# Menampilkan file CSV\n",
    "df"
   ]
  },
  {
   "cell_type": "code",
   "execution_count": 90,
   "metadata": {
    "id": "-5U2IFl1OYtA"
   },
   "outputs": [],
   "source": [
    "df.to_csv('emosi4.csv',index=False)"
   ]
  },
  {
   "cell_type": "code",
   "execution_count": 91,
   "metadata": {
    "id": "yz51emzFOgod"
   },
   "outputs": [
    {
     "ename": "ValueError",
     "evalue": "Found array with 0 sample(s) (shape=(0, 10)) while a minimum of 1 is required by StandardScaler.",
     "output_type": "error",
     "traceback": [
      "\u001b[1;31m---------------------------------------------------------------------------\u001b[0m",
      "\u001b[1;31mValueError\u001b[0m                                Traceback (most recent call last)",
      "Cell \u001b[1;32mIn[91], line 9\u001b[0m\n\u001b[0;32m      7\u001b[0m scaler \u001b[38;5;241m=\u001b[39m StandardScaler()\n\u001b[0;32m      8\u001b[0m \u001b[38;5;66;03m# Lakukan standarisasi pada kolom yang telah ditentukan\u001b[39;00m\n\u001b[1;32m----> 9\u001b[0m dn[kolom] \u001b[38;5;241m=\u001b[39m \u001b[43mscaler\u001b[49m\u001b[38;5;241;43m.\u001b[39;49m\u001b[43mfit_transform\u001b[49m\u001b[43m(\u001b[49m\u001b[43mdn\u001b[49m\u001b[43m[\u001b[49m\u001b[43mkolom\u001b[49m\u001b[43m]\u001b[49m\u001b[43m)\u001b[49m\n\u001b[0;32m     10\u001b[0m \u001b[38;5;66;03m# Simpan DataFrame yang telah distandarisasi ke dalam file CSV baru\u001b[39;00m\n\u001b[0;32m     11\u001b[0m dn\u001b[38;5;241m.\u001b[39mto_csv(\u001b[38;5;124m\"\u001b[39m\u001b[38;5;124memosi2normalisasi.csv\u001b[39m\u001b[38;5;124m\"\u001b[39m, index\u001b[38;5;241m=\u001b[39m\u001b[38;5;28;01mFalse\u001b[39;00m)\n",
      "File \u001b[1;32mc:\\Users\\asus\\AppData\\Local\\Programs\\Python\\Python310\\lib\\site-packages\\sklearn\\utils\\_set_output.py:140\u001b[0m, in \u001b[0;36m_wrap_method_output.<locals>.wrapped\u001b[1;34m(self, X, *args, **kwargs)\u001b[0m\n\u001b[0;32m    138\u001b[0m \u001b[38;5;129m@wraps\u001b[39m(f)\n\u001b[0;32m    139\u001b[0m \u001b[38;5;28;01mdef\u001b[39;00m \u001b[38;5;21mwrapped\u001b[39m(\u001b[38;5;28mself\u001b[39m, X, \u001b[38;5;241m*\u001b[39margs, \u001b[38;5;241m*\u001b[39m\u001b[38;5;241m*\u001b[39mkwargs):\n\u001b[1;32m--> 140\u001b[0m     data_to_wrap \u001b[38;5;241m=\u001b[39m f(\u001b[38;5;28mself\u001b[39m, X, \u001b[38;5;241m*\u001b[39margs, \u001b[38;5;241m*\u001b[39m\u001b[38;5;241m*\u001b[39mkwargs)\n\u001b[0;32m    141\u001b[0m     \u001b[38;5;28;01mif\u001b[39;00m \u001b[38;5;28misinstance\u001b[39m(data_to_wrap, \u001b[38;5;28mtuple\u001b[39m):\n\u001b[0;32m    142\u001b[0m         \u001b[38;5;66;03m# only wrap the first output for cross decomposition\u001b[39;00m\n\u001b[0;32m    143\u001b[0m         \u001b[38;5;28;01mreturn\u001b[39;00m (\n\u001b[0;32m    144\u001b[0m             _wrap_data_with_container(method, data_to_wrap[\u001b[38;5;241m0\u001b[39m], X, \u001b[38;5;28mself\u001b[39m),\n\u001b[0;32m    145\u001b[0m             \u001b[38;5;241m*\u001b[39mdata_to_wrap[\u001b[38;5;241m1\u001b[39m:],\n\u001b[0;32m    146\u001b[0m         )\n",
      "File \u001b[1;32mc:\\Users\\asus\\AppData\\Local\\Programs\\Python\\Python310\\lib\\site-packages\\sklearn\\base.py:878\u001b[0m, in \u001b[0;36mTransformerMixin.fit_transform\u001b[1;34m(self, X, y, **fit_params)\u001b[0m\n\u001b[0;32m    874\u001b[0m \u001b[38;5;66;03m# non-optimized default implementation; override when a better\u001b[39;00m\n\u001b[0;32m    875\u001b[0m \u001b[38;5;66;03m# method is possible for a given clustering algorithm\u001b[39;00m\n\u001b[0;32m    876\u001b[0m \u001b[38;5;28;01mif\u001b[39;00m y \u001b[38;5;129;01mis\u001b[39;00m \u001b[38;5;28;01mNone\u001b[39;00m:\n\u001b[0;32m    877\u001b[0m     \u001b[38;5;66;03m# fit method of arity 1 (unsupervised transformation)\u001b[39;00m\n\u001b[1;32m--> 878\u001b[0m     \u001b[38;5;28;01mreturn\u001b[39;00m \u001b[38;5;28mself\u001b[39m\u001b[38;5;241m.\u001b[39mfit(X, \u001b[38;5;241m*\u001b[39m\u001b[38;5;241m*\u001b[39mfit_params)\u001b[38;5;241m.\u001b[39mtransform(X)\n\u001b[0;32m    879\u001b[0m \u001b[38;5;28;01melse\u001b[39;00m:\n\u001b[0;32m    880\u001b[0m     \u001b[38;5;66;03m# fit method of arity 2 (supervised transformation)\u001b[39;00m\n\u001b[0;32m    881\u001b[0m     \u001b[38;5;28;01mreturn\u001b[39;00m \u001b[38;5;28mself\u001b[39m\u001b[38;5;241m.\u001b[39mfit(X, y, \u001b[38;5;241m*\u001b[39m\u001b[38;5;241m*\u001b[39mfit_params)\u001b[38;5;241m.\u001b[39mtransform(X)\n",
      "File \u001b[1;32mc:\\Users\\asus\\AppData\\Local\\Programs\\Python\\Python310\\lib\\site-packages\\sklearn\\preprocessing\\_data.py:824\u001b[0m, in \u001b[0;36mStandardScaler.fit\u001b[1;34m(self, X, y, sample_weight)\u001b[0m\n\u001b[0;32m    822\u001b[0m \u001b[38;5;66;03m# Reset internal state before fitting\u001b[39;00m\n\u001b[0;32m    823\u001b[0m \u001b[38;5;28mself\u001b[39m\u001b[38;5;241m.\u001b[39m_reset()\n\u001b[1;32m--> 824\u001b[0m \u001b[38;5;28;01mreturn\u001b[39;00m \u001b[38;5;28;43mself\u001b[39;49m\u001b[38;5;241;43m.\u001b[39;49m\u001b[43mpartial_fit\u001b[49m\u001b[43m(\u001b[49m\u001b[43mX\u001b[49m\u001b[43m,\u001b[49m\u001b[43m \u001b[49m\u001b[43my\u001b[49m\u001b[43m,\u001b[49m\u001b[43m \u001b[49m\u001b[43msample_weight\u001b[49m\u001b[43m)\u001b[49m\n",
      "File \u001b[1;32mc:\\Users\\asus\\AppData\\Local\\Programs\\Python\\Python310\\lib\\site-packages\\sklearn\\preprocessing\\_data.py:861\u001b[0m, in \u001b[0;36mStandardScaler.partial_fit\u001b[1;34m(self, X, y, sample_weight)\u001b[0m\n\u001b[0;32m    858\u001b[0m \u001b[38;5;28mself\u001b[39m\u001b[38;5;241m.\u001b[39m_validate_params()\n\u001b[0;32m    860\u001b[0m first_call \u001b[38;5;241m=\u001b[39m \u001b[38;5;129;01mnot\u001b[39;00m \u001b[38;5;28mhasattr\u001b[39m(\u001b[38;5;28mself\u001b[39m, \u001b[38;5;124m\"\u001b[39m\u001b[38;5;124mn_samples_seen_\u001b[39m\u001b[38;5;124m\"\u001b[39m)\n\u001b[1;32m--> 861\u001b[0m X \u001b[38;5;241m=\u001b[39m \u001b[38;5;28;43mself\u001b[39;49m\u001b[38;5;241;43m.\u001b[39;49m\u001b[43m_validate_data\u001b[49m\u001b[43m(\u001b[49m\n\u001b[0;32m    862\u001b[0m \u001b[43m    \u001b[49m\u001b[43mX\u001b[49m\u001b[43m,\u001b[49m\n\u001b[0;32m    863\u001b[0m \u001b[43m    \u001b[49m\u001b[43maccept_sparse\u001b[49m\u001b[38;5;241;43m=\u001b[39;49m\u001b[43m(\u001b[49m\u001b[38;5;124;43m\"\u001b[39;49m\u001b[38;5;124;43mcsr\u001b[39;49m\u001b[38;5;124;43m\"\u001b[39;49m\u001b[43m,\u001b[49m\u001b[43m \u001b[49m\u001b[38;5;124;43m\"\u001b[39;49m\u001b[38;5;124;43mcsc\u001b[39;49m\u001b[38;5;124;43m\"\u001b[39;49m\u001b[43m)\u001b[49m\u001b[43m,\u001b[49m\n\u001b[0;32m    864\u001b[0m \u001b[43m    \u001b[49m\u001b[43mdtype\u001b[49m\u001b[38;5;241;43m=\u001b[39;49m\u001b[43mFLOAT_DTYPES\u001b[49m\u001b[43m,\u001b[49m\n\u001b[0;32m    865\u001b[0m \u001b[43m    \u001b[49m\u001b[43mforce_all_finite\u001b[49m\u001b[38;5;241;43m=\u001b[39;49m\u001b[38;5;124;43m\"\u001b[39;49m\u001b[38;5;124;43mallow-nan\u001b[39;49m\u001b[38;5;124;43m\"\u001b[39;49m\u001b[43m,\u001b[49m\n\u001b[0;32m    866\u001b[0m \u001b[43m    \u001b[49m\u001b[43mreset\u001b[49m\u001b[38;5;241;43m=\u001b[39;49m\u001b[43mfirst_call\u001b[49m\u001b[43m,\u001b[49m\n\u001b[0;32m    867\u001b[0m \u001b[43m\u001b[49m\u001b[43m)\u001b[49m\n\u001b[0;32m    868\u001b[0m n_features \u001b[38;5;241m=\u001b[39m X\u001b[38;5;241m.\u001b[39mshape[\u001b[38;5;241m1\u001b[39m]\n\u001b[0;32m    870\u001b[0m \u001b[38;5;28;01mif\u001b[39;00m sample_weight \u001b[38;5;129;01mis\u001b[39;00m \u001b[38;5;129;01mnot\u001b[39;00m \u001b[38;5;28;01mNone\u001b[39;00m:\n",
      "File \u001b[1;32mc:\\Users\\asus\\AppData\\Local\\Programs\\Python\\Python310\\lib\\site-packages\\sklearn\\base.py:565\u001b[0m, in \u001b[0;36mBaseEstimator._validate_data\u001b[1;34m(self, X, y, reset, validate_separately, **check_params)\u001b[0m\n\u001b[0;32m    563\u001b[0m     \u001b[38;5;28;01mraise\u001b[39;00m \u001b[38;5;167;01mValueError\u001b[39;00m(\u001b[38;5;124m\"\u001b[39m\u001b[38;5;124mValidation should be done on X, y or both.\u001b[39m\u001b[38;5;124m\"\u001b[39m)\n\u001b[0;32m    564\u001b[0m \u001b[38;5;28;01melif\u001b[39;00m \u001b[38;5;129;01mnot\u001b[39;00m no_val_X \u001b[38;5;129;01mand\u001b[39;00m no_val_y:\n\u001b[1;32m--> 565\u001b[0m     X \u001b[38;5;241m=\u001b[39m check_array(X, input_name\u001b[38;5;241m=\u001b[39m\u001b[38;5;124m\"\u001b[39m\u001b[38;5;124mX\u001b[39m\u001b[38;5;124m\"\u001b[39m, \u001b[38;5;241m*\u001b[39m\u001b[38;5;241m*\u001b[39mcheck_params)\n\u001b[0;32m    566\u001b[0m     out \u001b[38;5;241m=\u001b[39m X\n\u001b[0;32m    567\u001b[0m \u001b[38;5;28;01melif\u001b[39;00m no_val_X \u001b[38;5;129;01mand\u001b[39;00m \u001b[38;5;129;01mnot\u001b[39;00m no_val_y:\n",
      "File \u001b[1;32mc:\\Users\\asus\\AppData\\Local\\Programs\\Python\\Python310\\lib\\site-packages\\sklearn\\utils\\validation.py:931\u001b[0m, in \u001b[0;36mcheck_array\u001b[1;34m(array, accept_sparse, accept_large_sparse, dtype, order, copy, force_all_finite, ensure_2d, allow_nd, ensure_min_samples, ensure_min_features, estimator, input_name)\u001b[0m\n\u001b[0;32m    929\u001b[0m     n_samples \u001b[38;5;241m=\u001b[39m _num_samples(array)\n\u001b[0;32m    930\u001b[0m     \u001b[38;5;28;01mif\u001b[39;00m n_samples \u001b[38;5;241m<\u001b[39m ensure_min_samples:\n\u001b[1;32m--> 931\u001b[0m         \u001b[38;5;28;01mraise\u001b[39;00m \u001b[38;5;167;01mValueError\u001b[39;00m(\n\u001b[0;32m    932\u001b[0m             \u001b[38;5;124m\"\u001b[39m\u001b[38;5;124mFound array with \u001b[39m\u001b[38;5;132;01m%d\u001b[39;00m\u001b[38;5;124m sample(s) (shape=\u001b[39m\u001b[38;5;132;01m%s\u001b[39;00m\u001b[38;5;124m) while a\u001b[39m\u001b[38;5;124m\"\u001b[39m\n\u001b[0;32m    933\u001b[0m             \u001b[38;5;124m\"\u001b[39m\u001b[38;5;124m minimum of \u001b[39m\u001b[38;5;132;01m%d\u001b[39;00m\u001b[38;5;124m is required\u001b[39m\u001b[38;5;132;01m%s\u001b[39;00m\u001b[38;5;124m.\u001b[39m\u001b[38;5;124m\"\u001b[39m\n\u001b[0;32m    934\u001b[0m             \u001b[38;5;241m%\u001b[39m (n_samples, array\u001b[38;5;241m.\u001b[39mshape, ensure_min_samples, context)\n\u001b[0;32m    935\u001b[0m         )\n\u001b[0;32m    937\u001b[0m \u001b[38;5;28;01mif\u001b[39;00m ensure_min_features \u001b[38;5;241m>\u001b[39m \u001b[38;5;241m0\u001b[39m \u001b[38;5;129;01mand\u001b[39;00m array\u001b[38;5;241m.\u001b[39mndim \u001b[38;5;241m==\u001b[39m \u001b[38;5;241m2\u001b[39m:\n\u001b[0;32m    938\u001b[0m     n_features \u001b[38;5;241m=\u001b[39m array\u001b[38;5;241m.\u001b[39mshape[\u001b[38;5;241m1\u001b[39m]\n",
      "\u001b[1;31mValueError\u001b[0m: Found array with 0 sample(s) (shape=(0, 10)) while a minimum of 1 is required by StandardScaler."
     ]
    }
   ],
   "source": [
    "from sklearn.preprocessing import StandardScaler\n",
    "# Baca file CSV\n",
    "dn = pd.read_csv(\"emosi4.csv\")\n",
    "# Tentukan kolom yang akan distandarisasi\n",
    "kolom = ['ZCR Mean', 'ZCR Median', 'ZCR Std Dev', 'ZCR Kurtosis', 'ZCR Skew', 'RMSE', 'RMSE Median', 'RMSE Std Dev', 'RMSE Kurtosis', 'RMSE Skew']\n",
    "# Inisialisasi StandardScaler\n",
    "scaler = StandardScaler()\n",
    "# Lakukan standarisasi pada kolom yang telah ditentukan\n",
    "dn[kolom] = scaler.fit_transform(dn[kolom])\n",
    "# Simpan DataFrame yang telah distandarisasi ke dalam file CSV baru\n",
    "dn.to_csv(\"emosi2normalisasi.csv\", index=False)\n"
   ]
  },
  {
   "cell_type": "code",
   "execution_count": 14,
   "metadata": {
    "colab": {
     "base_uri": "https://localhost:8080/",
     "height": 424
    },
    "id": "HkIvSnAPOjYP",
    "outputId": "8ae99c32-aafe-4b4e-ef98-d84fe9c32720"
   },
   "outputs": [
    {
     "data": {
      "text/html": [
       "<div>\n",
       "<style scoped>\n",
       "    .dataframe tbody tr th:only-of-type {\n",
       "        vertical-align: middle;\n",
       "    }\n",
       "\n",
       "    .dataframe tbody tr th {\n",
       "        vertical-align: top;\n",
       "    }\n",
       "\n",
       "    .dataframe thead th {\n",
       "        text-align: right;\n",
       "    }\n",
       "</style>\n",
       "<table border=\"1\" class=\"dataframe\">\n",
       "  <thead>\n",
       "    <tr style=\"text-align: right;\">\n",
       "      <th></th>\n",
       "      <th>Label</th>\n",
       "      <th>File</th>\n",
       "      <th>ZCR Mean</th>\n",
       "      <th>ZCR Median</th>\n",
       "      <th>ZCR Std Dev</th>\n",
       "      <th>ZCR Kurtosis</th>\n",
       "      <th>ZCR Skew</th>\n",
       "      <th>RMSE</th>\n",
       "      <th>RMSE Median</th>\n",
       "      <th>RMSE Std Dev</th>\n",
       "      <th>RMSE Kurtosis</th>\n",
       "      <th>RMSE Skew</th>\n",
       "    </tr>\n",
       "  </thead>\n",
       "  <tbody>\n",
       "    <tr>\n",
       "      <th>0</th>\n",
       "      <td>YAF_sad</td>\n",
       "      <td>YAF_back_sad.wav</td>\n",
       "      <td>-0.427129</td>\n",
       "      <td>-1.056013</td>\n",
       "      <td>0.827340</td>\n",
       "      <td>0.272212</td>\n",
       "      <td>0.537033</td>\n",
       "      <td>-0.078173</td>\n",
       "      <td>0.736737</td>\n",
       "      <td>-0.162013</td>\n",
       "      <td>-0.373043</td>\n",
       "      <td>-0.245583</td>\n",
       "    </tr>\n",
       "    <tr>\n",
       "      <th>1</th>\n",
       "      <td>YAF_sad</td>\n",
       "      <td>YAF_bar_sad.wav</td>\n",
       "      <td>-0.743235</td>\n",
       "      <td>-0.970699</td>\n",
       "      <td>0.169089</td>\n",
       "      <td>1.284258</td>\n",
       "      <td>1.259799</td>\n",
       "      <td>-0.178792</td>\n",
       "      <td>0.347507</td>\n",
       "      <td>-0.249209</td>\n",
       "      <td>-0.434258</td>\n",
       "      <td>-0.330974</td>\n",
       "    </tr>\n",
       "    <tr>\n",
       "      <th>2</th>\n",
       "      <td>YAF_sad</td>\n",
       "      <td>YAF_base_sad.wav</td>\n",
       "      <td>0.806183</td>\n",
       "      <td>-0.785852</td>\n",
       "      <td>1.612272</td>\n",
       "      <td>-1.505003</td>\n",
       "      <td>-1.461759</td>\n",
       "      <td>-0.176011</td>\n",
       "      <td>0.024205</td>\n",
       "      <td>-0.263529</td>\n",
       "      <td>-0.510053</td>\n",
       "      <td>-0.513020</td>\n",
       "    </tr>\n",
       "    <tr>\n",
       "      <th>3</th>\n",
       "      <td>YAF_sad</td>\n",
       "      <td>YAF_bath_sad.wav</td>\n",
       "      <td>-0.119632</td>\n",
       "      <td>-0.885385</td>\n",
       "      <td>0.766541</td>\n",
       "      <td>-0.030912</td>\n",
       "      <td>0.102545</td>\n",
       "      <td>-0.166318</td>\n",
       "      <td>0.399795</td>\n",
       "      <td>-0.246607</td>\n",
       "      <td>-0.356550</td>\n",
       "      <td>-0.274493</td>\n",
       "    </tr>\n",
       "    <tr>\n",
       "      <th>4</th>\n",
       "      <td>YAF_sad</td>\n",
       "      <td>YAF_bean_sad.wav</td>\n",
       "      <td>-0.847745</td>\n",
       "      <td>-0.999137</td>\n",
       "      <td>0.124849</td>\n",
       "      <td>1.555909</td>\n",
       "      <td>1.487879</td>\n",
       "      <td>-0.297819</td>\n",
       "      <td>0.248866</td>\n",
       "      <td>-0.406972</td>\n",
       "      <td>-0.684235</td>\n",
       "      <td>-0.855563</td>\n",
       "    </tr>\n",
       "    <tr>\n",
       "      <th>...</th>\n",
       "      <td>...</td>\n",
       "      <td>...</td>\n",
       "      <td>...</td>\n",
       "      <td>...</td>\n",
       "      <td>...</td>\n",
       "      <td>...</td>\n",
       "      <td>...</td>\n",
       "      <td>...</td>\n",
       "      <td>...</td>\n",
       "      <td>...</td>\n",
       "      <td>...</td>\n",
       "      <td>...</td>\n",
       "    </tr>\n",
       "    <tr>\n",
       "      <th>2395</th>\n",
       "      <td>OAF_Fear</td>\n",
       "      <td>OAF_witch_fear.wav</td>\n",
       "      <td>-0.605705</td>\n",
       "      <td>-0.743195</td>\n",
       "      <td>-0.752068</td>\n",
       "      <td>-0.604791</td>\n",
       "      <td>-0.509256</td>\n",
       "      <td>-0.572027</td>\n",
       "      <td>-0.578499</td>\n",
       "      <td>-0.568000</td>\n",
       "      <td>0.381373</td>\n",
       "      <td>0.432688</td>\n",
       "    </tr>\n",
       "    <tr>\n",
       "      <th>2396</th>\n",
       "      <td>OAF_Fear</td>\n",
       "      <td>OAF_yearn_fear.wav</td>\n",
       "      <td>-1.221112</td>\n",
       "      <td>-0.842728</td>\n",
       "      <td>-1.627113</td>\n",
       "      <td>1.448717</td>\n",
       "      <td>1.299309</td>\n",
       "      <td>-0.269546</td>\n",
       "      <td>0.810515</td>\n",
       "      <td>-0.415475</td>\n",
       "      <td>-0.568913</td>\n",
       "      <td>-0.762703</td>\n",
       "    </tr>\n",
       "    <tr>\n",
       "      <th>2397</th>\n",
       "      <td>OAF_Fear</td>\n",
       "      <td>OAF_yes_fear.wav</td>\n",
       "      <td>-0.276284</td>\n",
       "      <td>-0.586786</td>\n",
       "      <td>-0.530117</td>\n",
       "      <td>-1.085649</td>\n",
       "      <td>-0.983185</td>\n",
       "      <td>-0.550067</td>\n",
       "      <td>-0.541769</td>\n",
       "      <td>-0.554380</td>\n",
       "      <td>-0.215259</td>\n",
       "      <td>-0.108158</td>\n",
       "    </tr>\n",
       "    <tr>\n",
       "      <th>2398</th>\n",
       "      <td>OAF_Fear</td>\n",
       "      <td>OAF_young_fear.wav</td>\n",
       "      <td>-0.987928</td>\n",
       "      <td>-0.743195</td>\n",
       "      <td>-1.002686</td>\n",
       "      <td>0.891547</td>\n",
       "      <td>0.982291</td>\n",
       "      <td>-0.326879</td>\n",
       "      <td>0.331471</td>\n",
       "      <td>-0.435739</td>\n",
       "      <td>-0.481448</td>\n",
       "      <td>-0.611751</td>\n",
       "    </tr>\n",
       "    <tr>\n",
       "      <th>2399</th>\n",
       "      <td>OAF_Fear</td>\n",
       "      <td>OAF_youth_fear.wav</td>\n",
       "      <td>-0.771655</td>\n",
       "      <td>-0.800071</td>\n",
       "      <td>-1.053470</td>\n",
       "      <td>-0.104622</td>\n",
       "      <td>0.021879</td>\n",
       "      <td>-0.342376</td>\n",
       "      <td>-0.304424</td>\n",
       "      <td>-0.403013</td>\n",
       "      <td>0.164977</td>\n",
       "      <td>0.159179</td>\n",
       "    </tr>\n",
       "  </tbody>\n",
       "</table>\n",
       "<p>2400 rows × 12 columns</p>\n",
       "</div>"
      ],
      "text/plain": [
       "         Label                File  ZCR Mean  ZCR Median  ZCR Std Dev  \\\n",
       "0      YAF_sad    YAF_back_sad.wav -0.427129   -1.056013     0.827340   \n",
       "1      YAF_sad     YAF_bar_sad.wav -0.743235   -0.970699     0.169089   \n",
       "2      YAF_sad    YAF_base_sad.wav  0.806183   -0.785852     1.612272   \n",
       "3      YAF_sad    YAF_bath_sad.wav -0.119632   -0.885385     0.766541   \n",
       "4      YAF_sad    YAF_bean_sad.wav -0.847745   -0.999137     0.124849   \n",
       "...        ...                 ...       ...         ...          ...   \n",
       "2395  OAF_Fear  OAF_witch_fear.wav -0.605705   -0.743195    -0.752068   \n",
       "2396  OAF_Fear  OAF_yearn_fear.wav -1.221112   -0.842728    -1.627113   \n",
       "2397  OAF_Fear    OAF_yes_fear.wav -0.276284   -0.586786    -0.530117   \n",
       "2398  OAF_Fear  OAF_young_fear.wav -0.987928   -0.743195    -1.002686   \n",
       "2399  OAF_Fear  OAF_youth_fear.wav -0.771655   -0.800071    -1.053470   \n",
       "\n",
       "      ZCR Kurtosis  ZCR Skew      RMSE  RMSE Median  RMSE Std Dev  \\\n",
       "0         0.272212  0.537033 -0.078173     0.736737     -0.162013   \n",
       "1         1.284258  1.259799 -0.178792     0.347507     -0.249209   \n",
       "2        -1.505003 -1.461759 -0.176011     0.024205     -0.263529   \n",
       "3        -0.030912  0.102545 -0.166318     0.399795     -0.246607   \n",
       "4         1.555909  1.487879 -0.297819     0.248866     -0.406972   \n",
       "...            ...       ...       ...          ...           ...   \n",
       "2395     -0.604791 -0.509256 -0.572027    -0.578499     -0.568000   \n",
       "2396      1.448717  1.299309 -0.269546     0.810515     -0.415475   \n",
       "2397     -1.085649 -0.983185 -0.550067    -0.541769     -0.554380   \n",
       "2398      0.891547  0.982291 -0.326879     0.331471     -0.435739   \n",
       "2399     -0.104622  0.021879 -0.342376    -0.304424     -0.403013   \n",
       "\n",
       "      RMSE Kurtosis  RMSE Skew  \n",
       "0         -0.373043  -0.245583  \n",
       "1         -0.434258  -0.330974  \n",
       "2         -0.510053  -0.513020  \n",
       "3         -0.356550  -0.274493  \n",
       "4         -0.684235  -0.855563  \n",
       "...             ...        ...  \n",
       "2395       0.381373   0.432688  \n",
       "2396      -0.568913  -0.762703  \n",
       "2397      -0.215259  -0.108158  \n",
       "2398      -0.481448  -0.611751  \n",
       "2399       0.164977   0.159179  \n",
       "\n",
       "[2400 rows x 12 columns]"
      ]
     },
     "execution_count": 14,
     "metadata": {},
     "output_type": "execute_result"
    }
   ],
   "source": [
    "norm=pd.read_csv('emosi2normalisasi.csv')\n",
    "norm"
   ]
  },
  {
   "cell_type": "code",
   "execution_count": 15,
   "metadata": {
    "colab": {
     "base_uri": "https://localhost:8080/"
    },
    "id": "hy1DVx3MOnQc",
    "outputId": "009c8195-5bff-4bf6-c1c0-9e5087719721"
   },
   "outputs": [
    {
     "name": "stdout",
     "output_type": "stream",
     "text": [
      "--MEAN--\n",
      "ZCR Mean         0.0\n",
      "ZCR Median       0.0\n",
      "ZCR Std Dev      0.0\n",
      "ZCR Kurtosis     0.0\n",
      "ZCR Skew         0.0\n",
      "RMSE            -0.0\n",
      "RMSE Median      0.0\n",
      "RMSE Std Dev     0.0\n",
      "RMSE Kurtosis   -0.0\n",
      "RMSE Skew       -0.0\n",
      "dtype: float64\n"
     ]
    }
   ],
   "source": [
    "# Daftar kolom yang ingin dilewati\n",
    "kolomlabel= ['Label','File',]\n",
    "# Menghitung rata-rata untuk kolom numerik tertentu (mengabaikan kolom yang tidak diinginkan)\n",
    "rata2= norm.drop(columns=kolomlabel).mean()\n",
    "#membulatkan hasil komputasi dengan round dengan ketentuan 2 setelah koma, biar ga panjang bestiiiiiii\n",
    "dibulatkan=rata2.round(2)\n",
    "# Menampilkan rata-rata\n",
    "print('--MEAN--')\n",
    "print(dibulatkan)\n"
   ]
  },
  {
   "cell_type": "code",
   "execution_count": 16,
   "metadata": {
    "colab": {
     "base_uri": "https://localhost:8080/"
    },
    "id": "sMnYFTreOptL",
    "outputId": "5aa218cf-d695-4ba0-f7b9-b1bb6875698b"
   },
   "outputs": [
    {
     "name": "stdout",
     "output_type": "stream",
     "text": [
      "--STANDARD DEVIASI--\n",
      "ZCR Mean         1.0\n",
      "ZCR Median       1.0\n",
      "ZCR Std Dev      1.0\n",
      "ZCR Kurtosis     1.0\n",
      "ZCR Skew         1.0\n",
      "RMSE             1.0\n",
      "RMSE Median      1.0\n",
      "RMSE Std Dev     1.0\n",
      "RMSE Kurtosis    1.0\n",
      "RMSE Skew        1.0\n",
      "dtype: float64\n"
     ]
    }
   ],
   "source": [
    "# Daftar kolom yang ingin dilewati\n",
    "kolomlabel= ['Label','File']\n",
    "# Menghitung rata-rata untuk kolom numerik tertentu (mengabaikan kolom yang tidak diinginkan)\n",
    "standv= norm.drop(columns=kolomlabel).std()\n",
    "#membulatkan hasil komputasi dengan round dengan ketentuan 2 setelah koma, biar ga panjang bestiiiiiii\n",
    "bulatkan=standv.round(2)\n",
    "# Menampilkan rata-rata\n",
    "print('--STANDARD DEVIASI--')\n",
    "print(bulatkan)\n"
   ]
  },
  {
   "cell_type": "code",
   "execution_count": 17,
   "metadata": {
    "id": "WbKO-lDiOsDs"
   },
   "outputs": [],
   "source": [
    "from sklearn.model_selection import train_test_split\n",
    "from sklearn.preprocessing import StandardScaler\n",
    "from sklearn.neighbors import KNeighborsClassifier\n",
    "from pickle import dump"
   ]
  },
  {
   "cell_type": "code",
   "execution_count": 18,
   "metadata": {
    "id": "rGEmNDC2Outs"
   },
   "outputs": [],
   "source": [
    "# Baca data dari file CSV\n",
    "dataknn= pd.read_csv('emosi2.csv')\n",
    "# Pisahkan fitur (X) dan label (y)\n",
    "X = dataknn.drop(['Label','File'], axis=1)  # Ganti 'target_column' dengan nama kolom target\n",
    "y = dataknn['Label']\n",
    "# split data into train and test sets\n",
    "X_train,X_test,y_train, y_test= train_test_split(X, y, random_state=1, test_size=0.2)\n",
    "# define scaler\n",
    "scaler = StandardScaler()\n",
    "# fit scaler on the training dataset\n",
    "scaler.fit(X_train)\n",
    "# save the scaler\n",
    "dump(scaler, open('scaler.pkl', 'wb'))\n",
    "# transform the training dataset\n",
    "X_train_scaled = scaler.transform(X_train)"
   ]
  },
  {
   "cell_type": "code",
   "execution_count": 19,
   "metadata": {
    "id": "SfUusAp6OxYM"
   },
   "outputs": [],
   "source": [
    "import pickle\n",
    "with open('scaler.pkl', 'rb') as standarisasi:\n",
    "    loadscal= pickle.load(standarisasi)"
   ]
  },
  {
   "cell_type": "code",
   "execution_count": 20,
   "metadata": {
    "id": "9nbNvoF0O1uX"
   },
   "outputs": [],
   "source": [
    "X_test_scaled=loadscal.transform(X_test) #normalisasi X testing dari hasil normalisasi X train yang disimpan dalam model"
   ]
  },
  {
   "cell_type": "code",
   "execution_count": 21,
   "metadata": {
    "id": "Zw4TNBaWO1y9"
   },
   "outputs": [],
   "source": [
    "from sklearn.metrics import accuracy_score\n",
    "from sklearn.metrics import confusion_matrix"
   ]
  },
  {
   "cell_type": "code",
   "execution_count": 22,
   "metadata": {
    "colab": {
     "base_uri": "https://localhost:8080/"
    },
    "id": "2f8qaqw1O116",
    "outputId": "ad48e8f2-3afd-4711-acfe-3d1526728e8c"
   },
   "outputs": [
    {
     "name": "stdout",
     "output_type": "stream",
     "text": [
      "akurasi terbaik adalah  0.7479166666666667 dengan nilai k = 13\n"
     ]
    }
   ],
   "source": [
    "K = 30\n",
    "acc = np.zeros((K-1))\n",
    "\n",
    "for n in range(1,K,2):\n",
    "    knn = KNeighborsClassifier(n_neighbors= n, metric = \"euclidean\").fit(X_train_scaled, y_train)\n",
    "    y_pred = knn.predict(X_test_scaled)\n",
    "\n",
    "    acc[n-1]= accuracy_score(y_test,y_pred)\n",
    "\n",
    "print('akurasi terbaik adalah ', acc.max(), 'dengan nilai k =', acc.argmax()+1)"
   ]
  },
  {
   "cell_type": "code",
   "execution_count": 47,
   "metadata": {},
   "outputs": [
    {
     "name": "stdout",
     "output_type": "stream",
     "text": [
      "Akurasi dengan K=1: 0.7\n"
     ]
    }
   ],
   "source": [
    "from sklearn.neighbors import KNeighborsClassifier\n",
    "from sklearn.metrics import accuracy_score\n",
    "\n",
    "# Membuat model KNN dengan K=1\n",
    "knn = KNeighborsClassifier(n_neighbors=1, metric=\"euclidean\")\n",
    "\n",
    "# Melatih model pada data pelatihan\n",
    "knn.fit(X_train_scaled, y_train)\n",
    "\n",
    "# Melakukan prediksi pada data uji\n",
    "y_pred = knn.predict(X_test_scaled)\n",
    "\n",
    "# Menghitung akurasi\n",
    "acc = accuracy_score(y_test, y_pred)\n",
    "\n",
    "print('Akurasi dengan K=1:', acc)\n",
    "\n"
   ]
  },
  {
   "cell_type": "code",
   "execution_count": 23,
   "metadata": {
    "id": "ktyDEVKVO8mF"
   },
   "outputs": [],
   "source": [
    "knn = KNeighborsClassifier(n_neighbors= 13, metric = \"euclidean\")\n",
    "dump(knn, open('modelknn.pkl', 'wb'))\n"
   ]
  },
  {
   "cell_type": "code",
   "execution_count": 24,
   "metadata": {
    "id": "xqOx2kwxRSJb"
   },
   "outputs": [],
   "source": [
    "#array=np.array([0.1722103851,0.0419921875,0.2303348292,1.158274856,1.556415655,0.001505466753,0.00024307908,0.0033376536,24.95338147,4.40281652])\n",
    "#arnorm=loadscal.transform(array)\n",
    "#arnorm"
   ]
  },
  {
   "cell_type": "code",
   "execution_count": 25,
   "metadata": {
    "colab": {
     "base_uri": "https://localhost:8080/",
     "height": 75
    },
    "id": "ypqYFTmFRDlQ",
    "outputId": "c9488121-9abf-4725-99fc-db7583d6edd8"
   },
   "outputs": [
    {
     "data": {
      "text/html": [
       "<style>#sk-container-id-1 {color: black;background-color: white;}#sk-container-id-1 pre{padding: 0;}#sk-container-id-1 div.sk-toggleable {background-color: white;}#sk-container-id-1 label.sk-toggleable__label {cursor: pointer;display: block;width: 100%;margin-bottom: 0;padding: 0.3em;box-sizing: border-box;text-align: center;}#sk-container-id-1 label.sk-toggleable__label-arrow:before {content: \"▸\";float: left;margin-right: 0.25em;color: #696969;}#sk-container-id-1 label.sk-toggleable__label-arrow:hover:before {color: black;}#sk-container-id-1 div.sk-estimator:hover label.sk-toggleable__label-arrow:before {color: black;}#sk-container-id-1 div.sk-toggleable__content {max-height: 0;max-width: 0;overflow: hidden;text-align: left;background-color: #f0f8ff;}#sk-container-id-1 div.sk-toggleable__content pre {margin: 0.2em;color: black;border-radius: 0.25em;background-color: #f0f8ff;}#sk-container-id-1 input.sk-toggleable__control:checked~div.sk-toggleable__content {max-height: 200px;max-width: 100%;overflow: auto;}#sk-container-id-1 input.sk-toggleable__control:checked~label.sk-toggleable__label-arrow:before {content: \"▾\";}#sk-container-id-1 div.sk-estimator input.sk-toggleable__control:checked~label.sk-toggleable__label {background-color: #d4ebff;}#sk-container-id-1 div.sk-label input.sk-toggleable__control:checked~label.sk-toggleable__label {background-color: #d4ebff;}#sk-container-id-1 input.sk-hidden--visually {border: 0;clip: rect(1px 1px 1px 1px);clip: rect(1px, 1px, 1px, 1px);height: 1px;margin: -1px;overflow: hidden;padding: 0;position: absolute;width: 1px;}#sk-container-id-1 div.sk-estimator {font-family: monospace;background-color: #f0f8ff;border: 1px dotted black;border-radius: 0.25em;box-sizing: border-box;margin-bottom: 0.5em;}#sk-container-id-1 div.sk-estimator:hover {background-color: #d4ebff;}#sk-container-id-1 div.sk-parallel-item::after {content: \"\";width: 100%;border-bottom: 1px solid gray;flex-grow: 1;}#sk-container-id-1 div.sk-label:hover label.sk-toggleable__label {background-color: #d4ebff;}#sk-container-id-1 div.sk-serial::before {content: \"\";position: absolute;border-left: 1px solid gray;box-sizing: border-box;top: 0;bottom: 0;left: 50%;z-index: 0;}#sk-container-id-1 div.sk-serial {display: flex;flex-direction: column;align-items: center;background-color: white;padding-right: 0.2em;padding-left: 0.2em;position: relative;}#sk-container-id-1 div.sk-item {position: relative;z-index: 1;}#sk-container-id-1 div.sk-parallel {display: flex;align-items: stretch;justify-content: center;background-color: white;position: relative;}#sk-container-id-1 div.sk-item::before, #sk-container-id-1 div.sk-parallel-item::before {content: \"\";position: absolute;border-left: 1px solid gray;box-sizing: border-box;top: 0;bottom: 0;left: 50%;z-index: -1;}#sk-container-id-1 div.sk-parallel-item {display: flex;flex-direction: column;z-index: 1;position: relative;background-color: white;}#sk-container-id-1 div.sk-parallel-item:first-child::after {align-self: flex-end;width: 50%;}#sk-container-id-1 div.sk-parallel-item:last-child::after {align-self: flex-start;width: 50%;}#sk-container-id-1 div.sk-parallel-item:only-child::after {width: 0;}#sk-container-id-1 div.sk-dashed-wrapped {border: 1px dashed gray;margin: 0 0.4em 0.5em 0.4em;box-sizing: border-box;padding-bottom: 0.4em;background-color: white;}#sk-container-id-1 div.sk-label label {font-family: monospace;font-weight: bold;display: inline-block;line-height: 1.2em;}#sk-container-id-1 div.sk-label-container {text-align: center;}#sk-container-id-1 div.sk-container {/* jupyter's `normalize.less` sets `[hidden] { display: none; }` but bootstrap.min.css set `[hidden] { display: none !important; }` so we also need the `!important` here to be able to override the default hidden behavior on the sphinx rendered scikit-learn.org. See: https://github.com/scikit-learn/scikit-learn/issues/21755 */display: inline-block !important;position: relative;}#sk-container-id-1 div.sk-text-repr-fallback {display: none;}</style><div id=\"sk-container-id-1\" class=\"sk-top-container\"><div class=\"sk-text-repr-fallback\"><pre>KNeighborsClassifier(metric=&#x27;euclidean&#x27;, n_neighbors=13)</pre><b>In a Jupyter environment, please rerun this cell to show the HTML representation or trust the notebook. <br />On GitHub, the HTML representation is unable to render, please try loading this page with nbviewer.org.</b></div><div class=\"sk-container\" hidden><div class=\"sk-item\"><div class=\"sk-estimator sk-toggleable\"><input class=\"sk-toggleable__control sk-hidden--visually\" id=\"sk-estimator-id-1\" type=\"checkbox\" checked><label for=\"sk-estimator-id-1\" class=\"sk-toggleable__label sk-toggleable__label-arrow\">KNeighborsClassifier</label><div class=\"sk-toggleable__content\"><pre>KNeighborsClassifier(metric=&#x27;euclidean&#x27;, n_neighbors=13)</pre></div></div></div></div></div>"
      ],
      "text/plain": [
       "KNeighborsClassifier(metric='euclidean', n_neighbors=13)"
      ]
     },
     "execution_count": 25,
     "metadata": {},
     "output_type": "execute_result"
    }
   ],
   "source": [
    "import pickle\n",
    "with open('modelknn.pkl', 'rb') as knn:\n",
    "    loadknn= pickle.load(knn)\n",
    "loadknn.fit(X_train_scaled, y_train)"
   ]
  },
  {
   "cell_type": "code",
   "execution_count": 26,
   "metadata": {
    "colab": {
     "base_uri": "https://localhost:8080/"
    },
    "id": "3ws1abLQSSx9",
    "outputId": "52c758d5-a211-4d99-cfb6-50438cff444b"
   },
   "outputs": [
    {
     "data": {
      "text/plain": [
       "array(['YAF_angry', 'YAF_neutral', 'OAF_neutral', 'OAF_Pleasant_surprise',\n",
       "       'YAF_fear', 'YAF_happy', 'YAF_pleasant_surprised', 'YAF_angry',\n",
       "       'YAF_fear', 'OAF_happy', 'OAF_Sad', 'YAF_angry', 'YAF_happy',\n",
       "       'YAF_sad', 'OAF_neutral', 'YAF_angry', 'OAF_happy', 'YAF_neutral',\n",
       "       'YAF_happy', 'OAF_Fear', 'YAF_sad', 'YAF_disgust',\n",
       "       'OAF_Pleasant_surprise', 'YAF_sad', 'OAF_neutral',\n",
       "       'YAF_pleasant_surprised', 'YAF_pleasant_surprised', 'YAF_happy',\n",
       "       'OAF_Fear', 'YAF_fear', 'OAF_Sad', 'OAF_happy', 'OAF_Sad',\n",
       "       'OAF_happy', 'YAF_disgust', 'YAF_disgust', 'YAF_happy',\n",
       "       'OAF_happy', 'YAF_fear', 'YAF_pleasant_surprised',\n",
       "       'YAF_pleasant_surprised', 'OAF_neutral', 'OAF_Sad', 'YAF_disgust',\n",
       "       'YAF_sad', 'OAF_Sad', 'YAF_sad', 'OAF_Sad', 'YAF_happy', 'OAF_Sad',\n",
       "       'OAF_neutral', 'YAF_neutral', 'YAF_disgust', 'OAF_neutral',\n",
       "       'YAF_pleasant_surprised', 'YAF_angry', 'YAF_disgust',\n",
       "       'OAF_neutral', 'YAF_angry', 'YAF_disgust', 'YAF_angry',\n",
       "       'OAF_neutral', 'OAF_Fear', 'OAF_happy', 'OAF_Fear', 'OAF_Fear',\n",
       "       'OAF_Sad', 'YAF_happy', 'YAF_sad', 'YAF_happy', 'YAF_sad',\n",
       "       'YAF_disgust', 'YAF_pleasant_surprised', 'YAF_disgust',\n",
       "       'YAF_pleasant_surprised', 'YAF_sad', 'YAF_angry', 'YAF_happy',\n",
       "       'OAF_happy', 'OAF_Sad', 'YAF_happy', 'OAF_Pleasant_surprise',\n",
       "       'YAF_fear', 'OAF_Fear', 'OAF_neutral', 'YAF_happy', 'YAF_sad',\n",
       "       'OAF_Sad', 'YAF_fear', 'YAF_disgust', 'YAF_pleasant_surprised',\n",
       "       'YAF_sad', 'YAF_angry', 'OAF_happy', 'YAF_fear',\n",
       "       'YAF_pleasant_surprised', 'YAF_disgust', 'OAF_Sad', 'OAF_neutral',\n",
       "       'YAF_angry', 'YAF_angry', 'YAF_sad', 'OAF_Pleasant_surprise',\n",
       "       'YAF_happy', 'OAF_neutral', 'YAF_sad', 'YAF_disgust',\n",
       "       'YAF_disgust', 'OAF_neutral', 'YAF_neutral', 'OAF_happy',\n",
       "       'YAF_sad', 'YAF_sad', 'OAF_neutral', 'YAF_angry', 'YAF_angry',\n",
       "       'YAF_fear', 'YAF_pleasant_surprised', 'YAF_neutral', 'YAF_happy',\n",
       "       'OAF_happy', 'YAF_pleasant_surprised', 'YAF_pleasant_surprised',\n",
       "       'YAF_neutral', 'YAF_disgust', 'YAF_neutral', 'YAF_neutral',\n",
       "       'YAF_sad', 'YAF_happy', 'OAF_neutral', 'YAF_happy', 'OAF_Sad',\n",
       "       'YAF_disgust', 'YAF_angry', 'YAF_neutral', 'YAF_sad',\n",
       "       'YAF_disgust', 'YAF_disgust', 'OAF_Sad', 'OAF_Pleasant_surprise',\n",
       "       'YAF_pleasant_surprised', 'YAF_disgust', 'YAF_happy',\n",
       "       'OAF_neutral', 'OAF_Pleasant_surprise', 'YAF_sad', 'OAF_neutral',\n",
       "       'OAF_neutral', 'YAF_neutral', 'YAF_neutral', 'OAF_Sad',\n",
       "       'YAF_happy', 'YAF_disgust', 'YAF_pleasant_surprised',\n",
       "       'YAF_neutral', 'OAF_neutral', 'OAF_happy', 'YAF_fear',\n",
       "       'OAF_neutral', 'YAF_happy', 'YAF_angry', 'YAF_angry', 'OAF_Fear',\n",
       "       'YAF_fear', 'YAF_happy', 'OAF_neutral', 'OAF_Sad', 'OAF_neutral',\n",
       "       'YAF_happy', 'YAF_disgust', 'OAF_Fear', 'OAF_Pleasant_surprise',\n",
       "       'YAF_pleasant_surprised', 'YAF_pleasant_surprised', 'YAF_neutral',\n",
       "       'YAF_neutral', 'YAF_fear', 'YAF_fear', 'YAF_angry',\n",
       "       'YAF_pleasant_surprised', 'OAF_Fear', 'OAF_Sad',\n",
       "       'OAF_Pleasant_surprise', 'YAF_neutral', 'OAF_neutral',\n",
       "       'YAF_pleasant_surprised', 'OAF_Fear', 'YAF_disgust', 'OAF_Sad',\n",
       "       'OAF_happy', 'OAF_Sad', 'YAF_angry', 'OAF_Pleasant_surprise',\n",
       "       'OAF_Sad', 'YAF_disgust', 'OAF_neutral', 'OAF_Pleasant_surprise',\n",
       "       'YAF_neutral', 'YAF_neutral', 'YAF_pleasant_surprised',\n",
       "       'YAF_pleasant_surprised', 'OAF_Fear', 'YAF_neutral', 'OAF_happy',\n",
       "       'YAF_neutral', 'OAF_Fear', 'OAF_happy', 'OAF_happy', 'YAF_disgust',\n",
       "       'OAF_neutral', 'OAF_Sad', 'OAF_Fear', 'OAF_happy', 'OAF_Fear',\n",
       "       'OAF_Pleasant_surprise', 'YAF_neutral', 'YAF_fear',\n",
       "       'YAF_pleasant_surprised', 'YAF_angry', 'OAF_Fear', 'YAF_neutral',\n",
       "       'OAF_Sad', 'OAF_neutral', 'YAF_angry', 'YAF_disgust',\n",
       "       'OAF_neutral', 'OAF_neutral', 'YAF_angry', 'OAF_Pleasant_surprise',\n",
       "       'YAF_happy', 'YAF_fear', 'YAF_fear', 'YAF_happy',\n",
       "       'YAF_pleasant_surprised', 'YAF_happy', 'OAF_Sad',\n",
       "       'OAF_Pleasant_surprise', 'YAF_disgust', 'OAF_Fear', 'YAF_happy',\n",
       "       'OAF_Pleasant_surprise', 'YAF_happy', 'OAF_Sad', 'YAF_happy',\n",
       "       'OAF_Fear', 'OAF_happy', 'YAF_neutral', 'OAF_Pleasant_surprise',\n",
       "       'YAF_angry', 'OAF_Sad', 'YAF_sad', 'OAF_Fear', 'OAF_Fear',\n",
       "       'YAF_happy', 'OAF_happy', 'YAF_sad', 'OAF_Pleasant_surprise',\n",
       "       'YAF_happy', 'YAF_sad', 'OAF_Fear', 'OAF_happy', 'YAF_neutral',\n",
       "       'OAF_happy', 'YAF_happy', 'YAF_neutral', 'YAF_disgust',\n",
       "       'YAF_neutral', 'YAF_happy', 'YAF_pleasant_surprised', 'OAF_Sad',\n",
       "       'YAF_happy', 'YAF_neutral', 'OAF_Sad', 'OAF_happy', 'YAF_disgust',\n",
       "       'OAF_Sad', 'OAF_Pleasant_surprise', 'YAF_angry', 'OAF_Fear',\n",
       "       'YAF_neutral', 'YAF_disgust', 'OAF_Pleasant_surprise',\n",
       "       'YAF_neutral', 'OAF_neutral', 'YAF_fear', 'YAF_neutral',\n",
       "       'YAF_fear', 'OAF_Pleasant_surprise', 'YAF_angry',\n",
       "       'OAF_Pleasant_surprise', 'OAF_Sad', 'YAF_pleasant_surprised',\n",
       "       'OAF_Sad', 'OAF_neutral', 'OAF_neutral', 'YAF_disgust',\n",
       "       'OAF_Pleasant_surprise', 'YAF_neutral', 'YAF_pleasant_surprised',\n",
       "       'YAF_pleasant_surprised', 'OAF_Sad', 'OAF_neutral', 'YAF_neutral',\n",
       "       'YAF_fear', 'YAF_pleasant_surprised', 'OAF_Sad', 'OAF_Fear',\n",
       "       'YAF_fear', 'OAF_Sad', 'YAF_fear', 'YAF_fear',\n",
       "       'YAF_pleasant_surprised', 'OAF_neutral', 'OAF_Fear', 'OAF_happy',\n",
       "       'YAF_happy', 'OAF_Sad', 'YAF_angry', 'YAF_happy', 'OAF_Sad',\n",
       "       'OAF_happy', 'YAF_fear', 'YAF_angry', 'YAF_disgust', 'OAF_Fear',\n",
       "       'OAF_Sad', 'YAF_pleasant_surprised', 'OAF_neutral', 'OAF_neutral',\n",
       "       'YAF_pleasant_surprised', 'YAF_disgust', 'YAF_happy', 'YAF_angry',\n",
       "       'YAF_angry', 'OAF_Sad', 'YAF_fear', 'YAF_pleasant_surprised',\n",
       "       'YAF_sad', 'YAF_angry', 'YAF_fear', 'YAF_happy', 'OAF_neutral',\n",
       "       'YAF_disgust', 'OAF_neutral', 'YAF_pleasant_surprised',\n",
       "       'YAF_angry', 'YAF_sad', 'YAF_happy', 'YAF_happy', 'OAF_Sad',\n",
       "       'OAF_happy', 'YAF_disgust', 'OAF_neutral', 'OAF_Fear', 'YAF_fear',\n",
       "       'YAF_neutral', 'YAF_happy', 'YAF_sad', 'YAF_neutral',\n",
       "       'YAF_pleasant_surprised', 'YAF_angry', 'OAF_neutral', 'OAF_Fear',\n",
       "       'YAF_angry', 'YAF_angry', 'YAF_disgust', 'YAF_neutral',\n",
       "       'YAF_pleasant_surprised', 'OAF_happy', 'YAF_sad', 'YAF_angry',\n",
       "       'YAF_pleasant_surprised', 'YAF_pleasant_surprised', 'YAF_sad',\n",
       "       'YAF_disgust', 'YAF_pleasant_surprised', 'OAF_neutral',\n",
       "       'YAF_disgust', 'OAF_happy', 'YAF_neutral', 'OAF_Fear', 'YAF_angry',\n",
       "       'OAF_neutral', 'YAF_sad', 'YAF_sad', 'OAF_Pleasant_surprise',\n",
       "       'OAF_neutral', 'YAF_happy', 'YAF_disgust', 'YAF_angry',\n",
       "       'YAF_angry', 'YAF_happy', 'YAF_angry', 'YAF_angry', 'YAF_angry',\n",
       "       'YAF_fear', 'OAF_neutral', 'YAF_fear', 'OAF_Sad', 'YAF_sad',\n",
       "       'OAF_Fear', 'OAF_Sad', 'YAF_angry', 'YAF_neutral', 'OAF_Sad',\n",
       "       'YAF_angry', 'YAF_happy', 'YAF_fear', 'OAF_happy', 'OAF_Fear',\n",
       "       'YAF_angry', 'YAF_pleasant_surprised', 'OAF_happy', 'OAF_happy',\n",
       "       'OAF_happy', 'YAF_sad', 'YAF_sad', 'OAF_happy',\n",
       "       'YAF_pleasant_surprised', 'YAF_pleasant_surprised', 'OAF_Sad',\n",
       "       'OAF_happy', 'YAF_disgust', 'YAF_sad', 'YAF_neutral',\n",
       "       'OAF_neutral', 'YAF_angry', 'OAF_happy', 'OAF_happy',\n",
       "       'YAF_pleasant_surprised', 'YAF_fear', 'YAF_happy', 'OAF_Fear',\n",
       "       'OAF_Pleasant_surprise', 'YAF_fear', 'YAF_angry',\n",
       "       'YAF_pleasant_surprised', 'OAF_Sad', 'OAF_neutral', 'OAF_Fear',\n",
       "       'YAF_sad', 'YAF_disgust', 'YAF_happy', 'YAF_sad', 'YAF_disgust',\n",
       "       'OAF_Pleasant_surprise', 'YAF_happy', 'OAF_Fear',\n",
       "       'YAF_pleasant_surprised', 'YAF_happy', 'YAF_angry', 'YAF_happy',\n",
       "       'YAF_pleasant_surprised', 'OAF_Fear', 'YAF_fear', 'YAF_happy',\n",
       "       'OAF_happy', 'YAF_neutral', 'YAF_neutral', 'YAF_angry',\n",
       "       'YAF_angry', 'YAF_pleasant_surprised', 'OAF_happy', 'OAF_Sad',\n",
       "       'OAF_happy', 'YAF_neutral', 'OAF_happy', 'OAF_Pleasant_surprise',\n",
       "       'YAF_happy', 'YAF_pleasant_surprised', 'OAF_neutral', 'YAF_fear',\n",
       "       'YAF_happy', 'YAF_pleasant_surprised', 'OAF_happy',\n",
       "       'YAF_pleasant_surprised', 'YAF_angry', 'YAF_fear', 'OAF_Sad',\n",
       "       'OAF_Sad'], dtype=object)"
      ]
     },
     "execution_count": 26,
     "metadata": {},
     "output_type": "execute_result"
    }
   ],
   "source": [
    "y_pred = loadknn.predict(X_test_scaled)\n",
    "y_pred"
   ]
  },
  {
   "cell_type": "code",
   "execution_count": 27,
   "metadata": {
    "colab": {
     "base_uri": "https://localhost:8080/"
    },
    "id": "YEvb72Q0SWQF",
    "outputId": "d1f97346-6bae-4a01-e27a-9db0c32394fc"
   },
   "outputs": [
    {
     "name": "stdout",
     "output_type": "stream",
     "text": [
      "Akurasi: 0.7479166666666667\n"
     ]
    }
   ],
   "source": [
    "accuracy = accuracy_score(y_test,y_pred)\n",
    "print(\"Akurasi:\",accuracy)"
   ]
  },
  {
   "cell_type": "code",
   "execution_count": 60,
   "metadata": {
    "id": "oqNI-mlT2ON6"
   },
   "outputs": [],
   "source": [
    "from sklearn.decomposition import PCA"
   ]
  },
  {
   "cell_type": "code",
   "execution_count": 63,
   "metadata": {
    "id": "RFmR3sLD3ljh"
   },
   "outputs": [],
   "source": [
    "pca = PCA(n_components=7)\n",
    "pca.fit(X_train_scaled)\n",
    "pca_train = pca.transform(X_train_scaled)"
   ]
  },
  {
   "cell_type": "code",
   "execution_count": 64,
   "metadata": {
    "colab": {
     "base_uri": "https://localhost:8080/"
    },
    "id": "ek4x_sxP3lnJ",
    "outputId": "10cec18f-667f-4ad4-8cc6-b35be94effa6"
   },
   "outputs": [
    {
     "data": {
      "text/plain": [
       "(1920, 7)"
      ]
     },
     "execution_count": 64,
     "metadata": {},
     "output_type": "execute_result"
    }
   ],
   "source": [
    "pca_train.shape"
   ]
  },
  {
   "cell_type": "code",
   "execution_count": 65,
   "metadata": {
    "id": "rZ71mRWJ3yKi"
   },
   "outputs": [],
   "source": [
    "pca_test = pca.transform(X_test_scaled)"
   ]
  },
  {
   "cell_type": "code",
   "execution_count": 66,
   "metadata": {
    "colab": {
     "base_uri": "https://localhost:8080/"
    },
    "id": "iQ70H2_d34EL",
    "outputId": "bb69ecf0-7ed3-4e4e-ad00-613d89644bf7"
   },
   "outputs": [
    {
     "data": {
      "text/plain": [
       "numpy.ndarray"
      ]
     },
     "execution_count": 66,
     "metadata": {},
     "output_type": "execute_result"
    }
   ],
   "source": [
    "type(pca_test)"
   ]
  },
  {
   "cell_type": "code",
   "execution_count": 67,
   "metadata": {
    "colab": {
     "base_uri": "https://localhost:8080/"
    },
    "id": "a3SZmnfU39oX",
    "outputId": "e11eea6a-58cc-4347-8f74-b1b8afe3b9c7"
   },
   "outputs": [
    {
     "data": {
      "text/plain": [
       "(480, 7)"
      ]
     },
     "execution_count": 67,
     "metadata": {},
     "output_type": "execute_result"
    }
   ],
   "source": [
    "pca_test.shape"
   ]
  },
  {
   "cell_type": "code",
   "execution_count": 68,
   "metadata": {
    "id": "cLvMpakP4BSd"
   },
   "outputs": [],
   "source": [
    "dump(pca_train, open('PCA9.pkl', 'wb'))"
   ]
  },
  {
   "cell_type": "code",
   "execution_count": 69,
   "metadata": {
    "id": "3Fb0urm54T6q"
   },
   "outputs": [],
   "source": [
    "import pickle\n",
    "with open('PCA9.pkl', 'rb') as pca:\n",
    "    loadpca= pickle.load(pca)"
   ]
  },
  {
   "cell_type": "code",
   "execution_count": 70,
   "metadata": {
    "colab": {
     "base_uri": "https://localhost:8080/",
     "height": 75
    },
    "id": "m_DaG52_4Vxw",
    "outputId": "d986e524-a6e2-474b-cc77-72805309ac35"
   },
   "outputs": [
    {
     "data": {
      "text/html": [
       "<style>#sk-container-id-4 {color: black;background-color: white;}#sk-container-id-4 pre{padding: 0;}#sk-container-id-4 div.sk-toggleable {background-color: white;}#sk-container-id-4 label.sk-toggleable__label {cursor: pointer;display: block;width: 100%;margin-bottom: 0;padding: 0.3em;box-sizing: border-box;text-align: center;}#sk-container-id-4 label.sk-toggleable__label-arrow:before {content: \"▸\";float: left;margin-right: 0.25em;color: #696969;}#sk-container-id-4 label.sk-toggleable__label-arrow:hover:before {color: black;}#sk-container-id-4 div.sk-estimator:hover label.sk-toggleable__label-arrow:before {color: black;}#sk-container-id-4 div.sk-toggleable__content {max-height: 0;max-width: 0;overflow: hidden;text-align: left;background-color: #f0f8ff;}#sk-container-id-4 div.sk-toggleable__content pre {margin: 0.2em;color: black;border-radius: 0.25em;background-color: #f0f8ff;}#sk-container-id-4 input.sk-toggleable__control:checked~div.sk-toggleable__content {max-height: 200px;max-width: 100%;overflow: auto;}#sk-container-id-4 input.sk-toggleable__control:checked~label.sk-toggleable__label-arrow:before {content: \"▾\";}#sk-container-id-4 div.sk-estimator input.sk-toggleable__control:checked~label.sk-toggleable__label {background-color: #d4ebff;}#sk-container-id-4 div.sk-label input.sk-toggleable__control:checked~label.sk-toggleable__label {background-color: #d4ebff;}#sk-container-id-4 input.sk-hidden--visually {border: 0;clip: rect(1px 1px 1px 1px);clip: rect(1px, 1px, 1px, 1px);height: 1px;margin: -1px;overflow: hidden;padding: 0;position: absolute;width: 1px;}#sk-container-id-4 div.sk-estimator {font-family: monospace;background-color: #f0f8ff;border: 1px dotted black;border-radius: 0.25em;box-sizing: border-box;margin-bottom: 0.5em;}#sk-container-id-4 div.sk-estimator:hover {background-color: #d4ebff;}#sk-container-id-4 div.sk-parallel-item::after {content: \"\";width: 100%;border-bottom: 1px solid gray;flex-grow: 1;}#sk-container-id-4 div.sk-label:hover label.sk-toggleable__label {background-color: #d4ebff;}#sk-container-id-4 div.sk-serial::before {content: \"\";position: absolute;border-left: 1px solid gray;box-sizing: border-box;top: 0;bottom: 0;left: 50%;z-index: 0;}#sk-container-id-4 div.sk-serial {display: flex;flex-direction: column;align-items: center;background-color: white;padding-right: 0.2em;padding-left: 0.2em;position: relative;}#sk-container-id-4 div.sk-item {position: relative;z-index: 1;}#sk-container-id-4 div.sk-parallel {display: flex;align-items: stretch;justify-content: center;background-color: white;position: relative;}#sk-container-id-4 div.sk-item::before, #sk-container-id-4 div.sk-parallel-item::before {content: \"\";position: absolute;border-left: 1px solid gray;box-sizing: border-box;top: 0;bottom: 0;left: 50%;z-index: -1;}#sk-container-id-4 div.sk-parallel-item {display: flex;flex-direction: column;z-index: 1;position: relative;background-color: white;}#sk-container-id-4 div.sk-parallel-item:first-child::after {align-self: flex-end;width: 50%;}#sk-container-id-4 div.sk-parallel-item:last-child::after {align-self: flex-start;width: 50%;}#sk-container-id-4 div.sk-parallel-item:only-child::after {width: 0;}#sk-container-id-4 div.sk-dashed-wrapped {border: 1px dashed gray;margin: 0 0.4em 0.5em 0.4em;box-sizing: border-box;padding-bottom: 0.4em;background-color: white;}#sk-container-id-4 div.sk-label label {font-family: monospace;font-weight: bold;display: inline-block;line-height: 1.2em;}#sk-container-id-4 div.sk-label-container {text-align: center;}#sk-container-id-4 div.sk-container {/* jupyter's `normalize.less` sets `[hidden] { display: none; }` but bootstrap.min.css set `[hidden] { display: none !important; }` so we also need the `!important` here to be able to override the default hidden behavior on the sphinx rendered scikit-learn.org. See: https://github.com/scikit-learn/scikit-learn/issues/21755 */display: inline-block !important;position: relative;}#sk-container-id-4 div.sk-text-repr-fallback {display: none;}</style><div id=\"sk-container-id-4\" class=\"sk-top-container\"><div class=\"sk-text-repr-fallback\"><pre>KNeighborsClassifier(n_neighbors=11)</pre><b>In a Jupyter environment, please rerun this cell to show the HTML representation or trust the notebook. <br />On GitHub, the HTML representation is unable to render, please try loading this page with nbviewer.org.</b></div><div class=\"sk-container\" hidden><div class=\"sk-item\"><div class=\"sk-estimator sk-toggleable\"><input class=\"sk-toggleable__control sk-hidden--visually\" id=\"sk-estimator-id-4\" type=\"checkbox\" checked><label for=\"sk-estimator-id-4\" class=\"sk-toggleable__label sk-toggleable__label-arrow\">KNeighborsClassifier</label><div class=\"sk-toggleable__content\"><pre>KNeighborsClassifier(n_neighbors=11)</pre></div></div></div></div></div>"
      ],
      "text/plain": [
       "KNeighborsClassifier(n_neighbors=11)"
      ]
     },
     "execution_count": 70,
     "metadata": {},
     "output_type": "execute_result"
    }
   ],
   "source": [
    "from sklearn.neighbors import KNeighborsClassifier\n",
    "classifier = KNeighborsClassifier(n_neighbors=11)\n",
    "classifier.fit(pca_train, y_train)"
   ]
  },
  {
   "cell_type": "code",
   "execution_count": 71,
   "metadata": {
    "colab": {
     "base_uri": "https://localhost:8080/"
    },
    "id": "u5sn-SQS4Zdr",
    "outputId": "a051f5b0-e84d-4a11-a6ea-927a4f2178e3"
   },
   "outputs": [
    {
     "data": {
      "text/plain": [
       "array(['YAF_angry', 'YAF_neutral', 'OAF_neutral', 'OAF_Pleasant_surprise',\n",
       "       'YAF_fear', 'YAF_happy', 'YAF_pleasant_surprised', 'YAF_angry',\n",
       "       'YAF_fear', 'OAF_happy', 'OAF_Sad', 'YAF_angry', 'YAF_angry',\n",
       "       'YAF_sad', 'OAF_neutral', 'YAF_angry', 'OAF_Sad', 'YAF_neutral',\n",
       "       'YAF_happy', 'OAF_Fear', 'YAF_sad', 'YAF_disgust',\n",
       "       'OAF_Pleasant_surprise', 'YAF_fear', 'OAF_neutral',\n",
       "       'YAF_pleasant_surprised', 'YAF_pleasant_surprised', 'YAF_happy',\n",
       "       'OAF_Fear', 'YAF_fear', 'OAF_Sad', 'OAF_happy', 'OAF_Sad',\n",
       "       'OAF_Fear', 'YAF_disgust', 'YAF_disgust', 'YAF_happy', 'OAF_happy',\n",
       "       'YAF_fear', 'YAF_pleasant_surprised', 'YAF_pleasant_surprised',\n",
       "       'OAF_neutral', 'OAF_Sad', 'YAF_disgust', 'YAF_sad', 'OAF_Sad',\n",
       "       'YAF_sad', 'OAF_Sad', 'YAF_happy', 'OAF_Sad', 'OAF_neutral',\n",
       "       'YAF_neutral', 'YAF_disgust', 'OAF_neutral',\n",
       "       'YAF_pleasant_surprised', 'YAF_angry', 'YAF_disgust',\n",
       "       'OAF_neutral', 'YAF_angry', 'YAF_disgust', 'YAF_angry',\n",
       "       'OAF_neutral', 'OAF_Fear', 'OAF_happy', 'OAF_Pleasant_surprise',\n",
       "       'OAF_Fear', 'OAF_Sad', 'YAF_happy', 'YAF_sad', 'YAF_happy',\n",
       "       'YAF_sad', 'YAF_disgust', 'YAF_disgust', 'YAF_disgust',\n",
       "       'YAF_pleasant_surprised', 'YAF_sad', 'YAF_angry', 'YAF_happy',\n",
       "       'OAF_happy', 'OAF_Sad', 'YAF_happy', 'OAF_Pleasant_surprise',\n",
       "       'YAF_fear', 'OAF_Pleasant_surprise', 'OAF_neutral', 'YAF_happy',\n",
       "       'YAF_sad', 'OAF_Sad', 'YAF_fear', 'YAF_disgust',\n",
       "       'YAF_pleasant_surprised', 'YAF_sad', 'YAF_angry', 'OAF_happy',\n",
       "       'YAF_fear', 'YAF_pleasant_surprised', 'YAF_disgust', 'OAF_Sad',\n",
       "       'OAF_Sad', 'YAF_angry', 'YAF_angry', 'YAF_sad', 'OAF_Fear',\n",
       "       'YAF_happy', 'OAF_neutral', 'YAF_sad', 'YAF_disgust',\n",
       "       'YAF_disgust', 'OAF_neutral', 'YAF_neutral', 'OAF_happy',\n",
       "       'YAF_sad', 'YAF_sad', 'OAF_neutral', 'YAF_angry', 'YAF_angry',\n",
       "       'YAF_angry', 'YAF_pleasant_surprised', 'YAF_neutral', 'YAF_happy',\n",
       "       'OAF_happy', 'YAF_pleasant_surprised', 'YAF_pleasant_surprised',\n",
       "       'YAF_neutral', 'YAF_disgust', 'YAF_neutral', 'YAF_neutral',\n",
       "       'YAF_sad', 'YAF_happy', 'OAF_neutral', 'YAF_happy', 'OAF_Sad',\n",
       "       'YAF_disgust', 'YAF_angry', 'YAF_neutral', 'YAF_sad',\n",
       "       'YAF_disgust', 'YAF_disgust', 'OAF_Sad', 'OAF_Pleasant_surprise',\n",
       "       'YAF_pleasant_surprised', 'YAF_disgust', 'YAF_happy',\n",
       "       'OAF_neutral', 'OAF_Pleasant_surprise', 'YAF_sad', 'OAF_neutral',\n",
       "       'OAF_neutral', 'YAF_neutral', 'YAF_neutral', 'OAF_Sad',\n",
       "       'YAF_happy', 'YAF_disgust', 'YAF_pleasant_surprised',\n",
       "       'YAF_neutral', 'OAF_neutral', 'OAF_happy', 'YAF_fear',\n",
       "       'OAF_neutral', 'YAF_happy', 'YAF_angry', 'YAF_angry', 'OAF_Fear',\n",
       "       'YAF_fear', 'YAF_happy', 'OAF_neutral', 'OAF_Sad', 'OAF_neutral',\n",
       "       'YAF_happy', 'YAF_disgust', 'OAF_Fear', 'OAF_Pleasant_surprise',\n",
       "       'YAF_pleasant_surprised', 'YAF_pleasant_surprised', 'YAF_neutral',\n",
       "       'YAF_neutral', 'YAF_fear', 'YAF_fear', 'YAF_angry',\n",
       "       'YAF_pleasant_surprised', 'OAF_Fear', 'OAF_Sad',\n",
       "       'OAF_Pleasant_surprise', 'YAF_neutral', 'OAF_neutral',\n",
       "       'YAF_pleasant_surprised', 'OAF_Fear', 'YAF_disgust', 'OAF_Sad',\n",
       "       'OAF_happy', 'OAF_Sad', 'YAF_angry', 'OAF_happy', 'OAF_Sad',\n",
       "       'YAF_disgust', 'OAF_neutral', 'OAF_Pleasant_surprise',\n",
       "       'YAF_neutral', 'YAF_neutral', 'YAF_fear', 'YAF_pleasant_surprised',\n",
       "       'OAF_Fear', 'YAF_neutral', 'OAF_happy', 'YAF_neutral', 'OAF_Fear',\n",
       "       'OAF_happy', 'OAF_happy', 'YAF_disgust', 'OAF_neutral', 'OAF_Sad',\n",
       "       'OAF_Fear', 'OAF_happy', 'OAF_Fear', 'OAF_Pleasant_surprise',\n",
       "       'YAF_neutral', 'YAF_angry', 'YAF_pleasant_surprised', 'YAF_angry',\n",
       "       'OAF_Fear', 'YAF_neutral', 'OAF_Sad', 'OAF_neutral', 'YAF_angry',\n",
       "       'YAF_disgust', 'OAF_neutral', 'OAF_neutral', 'YAF_angry',\n",
       "       'OAF_Pleasant_surprise', 'YAF_happy', 'YAF_angry', 'YAF_fear',\n",
       "       'YAF_happy', 'YAF_pleasant_surprised', 'YAF_happy', 'OAF_Sad',\n",
       "       'OAF_Pleasant_surprise', 'YAF_disgust', 'OAF_Fear', 'YAF_happy',\n",
       "       'OAF_happy', 'YAF_happy', 'OAF_Sad', 'YAF_happy', 'OAF_Fear',\n",
       "       'OAF_happy', 'YAF_neutral', 'OAF_Pleasant_surprise', 'YAF_angry',\n",
       "       'OAF_Sad', 'YAF_sad', 'OAF_Fear', 'OAF_Fear', 'YAF_happy',\n",
       "       'OAF_happy', 'YAF_sad', 'OAF_Pleasant_surprise', 'YAF_happy',\n",
       "       'YAF_sad', 'OAF_Fear', 'OAF_happy', 'YAF_neutral', 'OAF_happy',\n",
       "       'YAF_happy', 'YAF_neutral', 'YAF_disgust', 'YAF_neutral',\n",
       "       'YAF_happy', 'YAF_pleasant_surprised', 'OAF_Sad', 'YAF_happy',\n",
       "       'YAF_neutral', 'OAF_Sad', 'OAF_happy', 'YAF_disgust', 'OAF_Sad',\n",
       "       'OAF_Pleasant_surprise', 'YAF_angry', 'OAF_Fear', 'YAF_neutral',\n",
       "       'YAF_disgust', 'OAF_happy', 'YAF_neutral', 'OAF_neutral',\n",
       "       'YAF_fear', 'YAF_neutral', 'YAF_angry', 'OAF_Fear', 'YAF_angry',\n",
       "       'OAF_Pleasant_surprise', 'OAF_Sad', 'YAF_pleasant_surprised',\n",
       "       'OAF_Sad', 'OAF_neutral', 'OAF_neutral', 'YAF_disgust',\n",
       "       'OAF_Pleasant_surprise', 'YAF_neutral', 'YAF_pleasant_surprised',\n",
       "       'YAF_fear', 'OAF_Sad', 'OAF_neutral', 'YAF_neutral', 'YAF_fear',\n",
       "       'YAF_pleasant_surprised', 'OAF_Sad', 'OAF_Fear', 'YAF_fear',\n",
       "       'OAF_Sad', 'YAF_fear', 'YAF_fear', 'YAF_pleasant_surprised',\n",
       "       'OAF_neutral', 'OAF_Fear', 'OAF_happy', 'YAF_happy', 'OAF_Sad',\n",
       "       'YAF_angry', 'YAF_happy', 'OAF_Sad', 'OAF_happy', 'YAF_fear',\n",
       "       'YAF_angry', 'YAF_disgust', 'OAF_Fear', 'OAF_Sad',\n",
       "       'YAF_pleasant_surprised', 'OAF_neutral', 'OAF_neutral',\n",
       "       'YAF_pleasant_surprised', 'YAF_disgust', 'YAF_happy', 'YAF_fear',\n",
       "       'YAF_angry', 'OAF_Sad', 'YAF_fear', 'YAF_pleasant_surprised',\n",
       "       'YAF_sad', 'YAF_angry', 'YAF_fear', 'YAF_happy', 'OAF_neutral',\n",
       "       'YAF_disgust', 'OAF_neutral', 'YAF_pleasant_surprised',\n",
       "       'YAF_angry', 'YAF_sad', 'YAF_happy', 'YAF_happy', 'OAF_Sad',\n",
       "       'OAF_happy', 'YAF_disgust', 'OAF_neutral', 'OAF_Fear', 'YAF_fear',\n",
       "       'YAF_sad', 'YAF_happy', 'YAF_sad', 'YAF_neutral',\n",
       "       'YAF_pleasant_surprised', 'YAF_angry', 'OAF_neutral', 'OAF_Fear',\n",
       "       'YAF_angry', 'YAF_angry', 'YAF_disgust', 'YAF_neutral',\n",
       "       'YAF_pleasant_surprised', 'OAF_happy', 'YAF_sad', 'YAF_angry',\n",
       "       'YAF_pleasant_surprised', 'YAF_pleasant_surprised', 'YAF_sad',\n",
       "       'YAF_disgust', 'YAF_pleasant_surprised', 'OAF_neutral',\n",
       "       'YAF_neutral', 'OAF_happy', 'YAF_neutral', 'OAF_Fear', 'YAF_angry',\n",
       "       'OAF_neutral', 'YAF_sad', 'YAF_sad', 'OAF_Pleasant_surprise',\n",
       "       'OAF_neutral', 'YAF_happy', 'YAF_disgust', 'YAF_angry',\n",
       "       'YAF_angry', 'YAF_happy', 'YAF_angry', 'YAF_angry', 'YAF_disgust',\n",
       "       'YAF_fear', 'OAF_neutral', 'YAF_fear', 'OAF_Sad', 'YAF_sad',\n",
       "       'OAF_Fear', 'OAF_Sad', 'YAF_angry', 'YAF_neutral', 'OAF_Sad',\n",
       "       'YAF_angry', 'YAF_happy', 'YAF_fear', 'OAF_happy', 'OAF_Fear',\n",
       "       'YAF_angry', 'YAF_neutral', 'OAF_Pleasant_surprise', 'OAF_happy',\n",
       "       'OAF_happy', 'YAF_sad', 'YAF_sad', 'OAF_happy',\n",
       "       'YAF_pleasant_surprised', 'YAF_pleasant_surprised', 'OAF_Sad',\n",
       "       'OAF_happy', 'YAF_disgust', 'YAF_sad', 'YAF_neutral',\n",
       "       'OAF_neutral', 'YAF_angry', 'OAF_happy', 'OAF_Fear',\n",
       "       'YAF_pleasant_surprised', 'YAF_fear', 'YAF_happy', 'OAF_Fear',\n",
       "       'OAF_happy', 'YAF_fear', 'YAF_angry', 'YAF_pleasant_surprised',\n",
       "       'OAF_Sad', 'OAF_neutral', 'OAF_Fear', 'YAF_sad', 'YAF_disgust',\n",
       "       'YAF_happy', 'YAF_fear', 'YAF_disgust', 'OAF_Fear', 'YAF_happy',\n",
       "       'OAF_happy', 'YAF_pleasant_surprised', 'YAF_happy', 'YAF_angry',\n",
       "       'YAF_happy', 'YAF_pleasant_surprised', 'OAF_Fear', 'YAF_fear',\n",
       "       'YAF_happy', 'OAF_happy', 'YAF_neutral', 'YAF_neutral',\n",
       "       'YAF_angry', 'YAF_angry', 'YAF_angry', 'OAF_happy', 'OAF_Sad',\n",
       "       'OAF_happy', 'YAF_neutral', 'OAF_happy', 'OAF_Pleasant_surprise',\n",
       "       'YAF_happy', 'YAF_pleasant_surprised', 'OAF_neutral', 'YAF_fear',\n",
       "       'YAF_happy', 'YAF_pleasant_surprised', 'OAF_happy', 'YAF_angry',\n",
       "       'YAF_angry', 'YAF_fear', 'OAF_Sad', 'OAF_Sad'], dtype=object)"
      ]
     },
     "execution_count": 71,
     "metadata": {},
     "output_type": "execute_result"
    }
   ],
   "source": [
    "y_prediksi = classifier.predict(pca_test)\n",
    "y_prediksi"
   ]
  },
  {
   "cell_type": "code",
   "execution_count": 72,
   "metadata": {
    "colab": {
     "base_uri": "https://localhost:8080/"
    },
    "id": "AChsPQjg4ct9",
    "outputId": "89f3a769-76ea-443b-fcb3-024844170e84"
   },
   "outputs": [
    {
     "name": "stdout",
     "output_type": "stream",
     "text": [
      "Akurasi: 0.7208333333333333\n"
     ]
    }
   ],
   "source": [
    "acc_pca= accuracy_score(y_test,y_prediksi)\n",
    "print(\"Akurasi:\",acc_pca)\n",
    "#Akurasi: 0.7153024911032029"
   ]
  },
  {
   "cell_type": "code",
   "execution_count": 73,
   "metadata": {},
   "outputs": [
    {
     "name": "stdout",
     "output_type": "stream",
     "text": [
      "Akurasi dengan SVM: 0.8083333333333333\n"
     ]
    }
   ],
   "source": [
    "from sklearn.svm import SVC\n",
    "from sklearn.metrics import accuracy_score\n",
    "import pickle\n",
    "\n",
    "# Membuat model SVM dengan kernel linear (Anda dapat memilih kernel lain sesuai kebutuhan)\n",
    "svm = SVC(kernel='linear')\n",
    "\n",
    "# Melatih model pada data pelatihan\n",
    "svm.fit(X_train_scaled, y_train)\n",
    "\n",
    "# Melakukan prediksi pada data uji\n",
    "y_pred = svm.predict(X_test_scaled)\n",
    "\n",
    "# Menghitung akurasi\n",
    "acc = accuracy_score(y_test, y_pred)\n",
    "\n",
    "print('Akurasi dengan SVM:', acc)\n",
    "\n",
    "# Simpan model SVM ke dalam file menggunakan pickle\n",
    "with open('modelsvm.pkl', 'wb') as model_file:\n",
    "    pickle.dump(svm, model_file)\n"
   ]
  },
  {
   "cell_type": "code",
   "execution_count": null,
   "metadata": {},
   "outputs": [],
   "source": []
  }
 ],
 "metadata": {
  "colab": {
   "provenance": []
  },
  "kernelspec": {
   "display_name": "Python 3 (ipykernel)",
   "language": "python",
   "name": "python3"
  },
  "language_info": {
   "codemirror_mode": {
    "name": "ipython",
    "version": 3
   },
   "file_extension": ".py",
   "mimetype": "text/x-python",
   "name": "python",
   "nbconvert_exporter": "python",
   "pygments_lexer": "ipython3",
   "version": "3.10.9"
  }
 },
 "nbformat": 4,
 "nbformat_minor": 1
}