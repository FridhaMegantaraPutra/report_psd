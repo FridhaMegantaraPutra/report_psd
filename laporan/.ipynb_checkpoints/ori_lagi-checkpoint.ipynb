{
 "cells": [
  {
   "cell_type": "code",
   "execution_count": 1,
   "metadata": {},
   "outputs": [],
   "source": [
    "import os\n",
    "\n",
    "# Ganti 'nama_folder' dengan nama folder yang ingin Anda masuki\n",
    "path = 'suara'\n",
    "\n",
    "# Gunakan metode `chdir` untuk berpindah ke folder tersebut\n",
    "os.chdir(path)\n",
    "\n",
    "# Sekarang Anda berada di dalam folder tersebut"
   ]
  },
  {
   "cell_type": "code",
   "execution_count": 17,
   "metadata": {
    "id": "7cnyeP6YJFLw"
   },
   "outputs": [],
   "source": [
    "folders=['YAF_sad','YAF_pleasant_surprised','YAF_neutral',\n",
    "         'YAF_happy','YAF_fear','YAF_disgust','YAF_angry',\n",
    "         'OAF_Sad','OAF_Pleasant_surprise','OAF_neutral',\n",
    "         'OAF_happy','OAF_Fear','OAF_disgust',\n",
    "         'OAF_angry',\n",
    "         ]"
   ]
  },
  {
   "cell_type": "code",
   "execution_count": 18,
   "metadata": {
    "id": "1IoLq3CrIvqT"
   },
   "outputs": [],
   "source": [
    "# Import Library\n",
    "import os\n",
    "import librosa\n",
    "import numpy as np\n",
    "import pandas as pd\n",
    "from scipy.stats import skew, kurtosis, mode\n",
    "import pickle"
   ]
  },
  {
   "cell_type": "code",
   "execution_count": 19,
   "metadata": {
    "id": "3UvuFfxiIxZ0"
   },
   "outputs": [],
   "source": [
    "def calculate_statistics(audio_path):\n",
    "    y, sr = librosa.load(audio_path)\n",
    "\n",
    "    # UNTUK MENGHITUNG NILAI STATISTIKA\n",
    "    mean = np.mean(y)\n",
    "    std_dev = np.std(y)\n",
    "    max_value = np.max(y)\n",
    "    min_value = np.min(y)\n",
    "    median = np.median(y)\n",
    "    skewness = skew(y)  # Calculate skewness\n",
    "    kurt = kurtosis(y)  # Calculate kurtosis\n",
    "    q1 = np.percentile(y, 25)\n",
    "    q3 = np.percentile(y, 75)\n",
    "    mode_value, _ = mode(y)  # Calculate mode\n",
    "    iqr = q3 - q1\n",
    "\n",
    "    # UNTUK MENGHITUNG NILAI ZCR\n",
    "    zcr_mean = np.mean(librosa.feature.zero_crossing_rate(y=y))\n",
    "    zcr_median = np.median(librosa.feature.zero_crossing_rate(y=y))\n",
    "    zcr_std_dev = np.std(librosa.feature.zero_crossing_rate(y=y))\n",
    "    zcr_kurtosis = kurtosis(librosa.feature.zero_crossing_rate(y=y)[0])\n",
    "    zcr_skew = skew(librosa.feature.zero_crossing_rate(y=y)[0])\n",
    "\n",
    "    # UNTUK MENGHITUNG NILAI RMSE\n",
    "    rmse = np.sum(y**2) / len(y)\n",
    "    rmse_median = np.median(y**2)\n",
    "    rmse_std_dev = np.std(y**2)\n",
    "    rmse_kurtosis = kurtosis(y**2)\n",
    "    rmse_skew = skew(y**2)\n",
    "\n",
    "    return [zcr_mean, zcr_median, zcr_std_dev, zcr_kurtosis, zcr_skew, rmse]\n"
   ]
  },
  {
   "cell_type": "code",
   "execution_count": 20,
   "metadata": {
    "id": "0wJlTo7kNEEd"
   },
   "outputs": [],
   "source": [
    "features =[]"
   ]
  },
  {
   "cell_type": "code",
   "execution_count": 21,
   "metadata": {
    "id": "8F5zTZk1NFGe"
   },
   "outputs": [],
   "source": [
    "for folder in folders:\n",
    "    folder_path = f'{folder}'\n",
    "    for filename in os.listdir(folder_path):\n",
    "        if filename.endswith('.wav'):\n",
    "            audio_path = os.path.join(folder_path, filename)\n",
    "            statistics = calculate_statistics(audio_path)\n",
    "            features.append([folder, filename] + statistics)"
   ]
  },
  {
   "cell_type": "code",
   "execution_count": 22,
   "metadata": {
    "id": "Kn6_bbxXOTcQ"
   },
   "outputs": [],
   "source": [
    "# Membuat DataFrame dari data\n",
    "columns =  ['Label', 'File'] + ['ZCR Mean', 'ZCR Median', 'ZCR Std Dev', 'ZCR Kurtosis', 'ZCR Skew']\n",
    "df = pd.DataFrame(features, columns=columns)"
   ]
  },
  {
   "cell_type": "code",
   "execution_count": 23,
   "metadata": {
    "colab": {
     "base_uri": "https://localhost:8080/",
     "height": 424
    },
    "id": "RkLvmkojOXDi",
    "outputId": "c7ea96a2-7458-439d-e83e-1be15cfd2003"
   },
   "outputs": [
    {
     "data": {
      "text/html": [
       "<div>\n",
       "<style scoped>\n",
       "    .dataframe tbody tr th:only-of-type {\n",
       "        vertical-align: middle;\n",
       "    }\n",
       "\n",
       "    .dataframe tbody tr th {\n",
       "        vertical-align: top;\n",
       "    }\n",
       "\n",
       "    .dataframe thead th {\n",
       "        text-align: right;\n",
       "    }\n",
       "</style>\n",
       "<table border=\"1\" class=\"dataframe\">\n",
       "  <thead>\n",
       "    <tr style=\"text-align: right;\">\n",
       "      <th></th>\n",
       "      <th>Label</th>\n",
       "      <th>File</th>\n",
       "      <th>ZCR Mean</th>\n",
       "      <th>ZCR Median</th>\n",
       "      <th>ZCR Std Dev</th>\n",
       "      <th>ZCR Kurtosis</th>\n",
       "      <th>ZCR Skew</th>\n",
       "      <th>RMSE</th>\n",
       "      <th>RMSE Median</th>\n",
       "      <th>RMSE Std Dev</th>\n",
       "      <th>RMSE Kurtosis</th>\n",
       "      <th>RMSE Skew</th>\n",
       "    </tr>\n",
       "  </thead>\n",
       "  <tbody>\n",
       "    <tr>\n",
       "      <th>0</th>\n",
       "      <td>YAF_sad</td>\n",
       "      <td>YAF_back_sad.wav</td>\n",
       "      <td>0.128581</td>\n",
       "      <td>0.033203</td>\n",
       "      <td>0.225249</td>\n",
       "      <td>3.231511</td>\n",
       "      <td>2.213080</td>\n",
       "      <td>0.001907</td>\n",
       "      <td>0.000391</td>\n",
       "      <td>0.004361</td>\n",
       "      <td>28.695122</td>\n",
       "      <td>4.718994</td>\n",
       "    </tr>\n",
       "    <tr>\n",
       "      <th>1</th>\n",
       "      <td>YAF_sad</td>\n",
       "      <td>YAF_bar_sad.wav</td>\n",
       "      <td>0.111230</td>\n",
       "      <td>0.036133</td>\n",
       "      <td>0.196220</td>\n",
       "      <td>5.189765</td>\n",
       "      <td>2.569729</td>\n",
       "      <td>0.001619</td>\n",
       "      <td>0.000294</td>\n",
       "      <td>0.003666</td>\n",
       "      <td>26.103527</td>\n",
       "      <td>4.546180</td>\n",
       "    </tr>\n",
       "    <tr>\n",
       "      <th>2</th>\n",
       "      <td>YAF_sad</td>\n",
       "      <td>YAF_base_sad.wav</td>\n",
       "      <td>0.196274</td>\n",
       "      <td>0.042480</td>\n",
       "      <td>0.259866</td>\n",
       "      <td>-0.207301</td>\n",
       "      <td>1.226778</td>\n",
       "      <td>0.001627</td>\n",
       "      <td>0.000214</td>\n",
       "      <td>0.003552</td>\n",
       "      <td>22.894698</td>\n",
       "      <td>4.177756</td>\n",
       "    </tr>\n",
       "    <tr>\n",
       "      <th>3</th>\n",
       "      <td>YAF_sad</td>\n",
       "      <td>YAF_bath_sad.wav</td>\n",
       "      <td>0.145458</td>\n",
       "      <td>0.039062</td>\n",
       "      <td>0.222568</td>\n",
       "      <td>2.644984</td>\n",
       "      <td>1.998682</td>\n",
       "      <td>0.001655</td>\n",
       "      <td>0.000307</td>\n",
       "      <td>0.003687</td>\n",
       "      <td>29.393371</td>\n",
       "      <td>4.660485</td>\n",
       "    </tr>\n",
       "    <tr>\n",
       "      <th>4</th>\n",
       "      <td>YAF_sad</td>\n",
       "      <td>YAF_bean_sad.wav</td>\n",
       "      <td>0.105494</td>\n",
       "      <td>0.035156</td>\n",
       "      <td>0.194269</td>\n",
       "      <td>5.715395</td>\n",
       "      <td>2.682275</td>\n",
       "      <td>0.001279</td>\n",
       "      <td>0.000270</td>\n",
       "      <td>0.002408</td>\n",
       "      <td>15.520607</td>\n",
       "      <td>3.484518</td>\n",
       "    </tr>\n",
       "    <tr>\n",
       "      <th>...</th>\n",
       "      <td>...</td>\n",
       "      <td>...</td>\n",
       "      <td>...</td>\n",
       "      <td>...</td>\n",
       "      <td>...</td>\n",
       "      <td>...</td>\n",
       "      <td>...</td>\n",
       "      <td>...</td>\n",
       "      <td>...</td>\n",
       "      <td>...</td>\n",
       "      <td>...</td>\n",
       "      <td>...</td>\n",
       "    </tr>\n",
       "    <tr>\n",
       "      <th>2795</th>\n",
       "      <td>OAF_angry</td>\n",
       "      <td>OAF_witch_angry.wav</td>\n",
       "      <td>0.095215</td>\n",
       "      <td>0.070801</td>\n",
       "      <td>0.084418</td>\n",
       "      <td>2.776079</td>\n",
       "      <td>1.733152</td>\n",
       "      <td>0.000805</td>\n",
       "      <td>0.000052</td>\n",
       "      <td>0.002297</td>\n",
       "      <td>57.131611</td>\n",
       "      <td>6.332563</td>\n",
       "    </tr>\n",
       "    <tr>\n",
       "      <th>2796</th>\n",
       "      <td>OAF_angry</td>\n",
       "      <td>OAF_yearn_angry.wav</td>\n",
       "      <td>0.083991</td>\n",
       "      <td>0.051270</td>\n",
       "      <td>0.091742</td>\n",
       "      <td>7.208814</td>\n",
       "      <td>2.744011</td>\n",
       "      <td>0.003030</td>\n",
       "      <td>0.000291</td>\n",
       "      <td>0.006712</td>\n",
       "      <td>21.150837</td>\n",
       "      <td>3.983284</td>\n",
       "    </tr>\n",
       "    <tr>\n",
       "      <th>2797</th>\n",
       "      <td>OAF_angry</td>\n",
       "      <td>OAF_yes_angry.wav</td>\n",
       "      <td>0.115001</td>\n",
       "      <td>0.060059</td>\n",
       "      <td>0.118703</td>\n",
       "      <td>3.370580</td>\n",
       "      <td>2.012270</td>\n",
       "      <td>0.001743</td>\n",
       "      <td>0.000146</td>\n",
       "      <td>0.004667</td>\n",
       "      <td>41.713202</td>\n",
       "      <td>5.561089</td>\n",
       "    </tr>\n",
       "    <tr>\n",
       "      <th>2798</th>\n",
       "      <td>OAF_angry</td>\n",
       "      <td>OAF_young_angry.wav</td>\n",
       "      <td>0.085005</td>\n",
       "      <td>0.059082</td>\n",
       "      <td>0.090037</td>\n",
       "      <td>5.366187</td>\n",
       "      <td>2.422199</td>\n",
       "      <td>0.001496</td>\n",
       "      <td>0.000135</td>\n",
       "      <td>0.004290</td>\n",
       "      <td>31.532774</td>\n",
       "      <td>5.091522</td>\n",
       "    </tr>\n",
       "    <tr>\n",
       "      <th>2799</th>\n",
       "      <td>OAF_angry</td>\n",
       "      <td>OAF_youth_angry.wav</td>\n",
       "      <td>0.074580</td>\n",
       "      <td>0.048340</td>\n",
       "      <td>0.098578</td>\n",
       "      <td>7.797457</td>\n",
       "      <td>2.908089</td>\n",
       "      <td>0.002085</td>\n",
       "      <td>0.000142</td>\n",
       "      <td>0.005027</td>\n",
       "      <td>26.139706</td>\n",
       "      <td>4.373508</td>\n",
       "    </tr>\n",
       "  </tbody>\n",
       "</table>\n",
       "<p>2800 rows × 12 columns</p>\n",
       "</div>"
      ],
      "text/plain": [
       "          Label                 File  ZCR Mean  ZCR Median  ZCR Std Dev  \\\n",
       "0       YAF_sad     YAF_back_sad.wav  0.128581    0.033203     0.225249   \n",
       "1       YAF_sad      YAF_bar_sad.wav  0.111230    0.036133     0.196220   \n",
       "2       YAF_sad     YAF_base_sad.wav  0.196274    0.042480     0.259866   \n",
       "3       YAF_sad     YAF_bath_sad.wav  0.145458    0.039062     0.222568   \n",
       "4       YAF_sad     YAF_bean_sad.wav  0.105494    0.035156     0.194269   \n",
       "...         ...                  ...       ...         ...          ...   \n",
       "2795  OAF_angry  OAF_witch_angry.wav  0.095215    0.070801     0.084418   \n",
       "2796  OAF_angry  OAF_yearn_angry.wav  0.083991    0.051270     0.091742   \n",
       "2797  OAF_angry    OAF_yes_angry.wav  0.115001    0.060059     0.118703   \n",
       "2798  OAF_angry  OAF_young_angry.wav  0.085005    0.059082     0.090037   \n",
       "2799  OAF_angry  OAF_youth_angry.wav  0.074580    0.048340     0.098578   \n",
       "\n",
       "      ZCR Kurtosis  ZCR Skew      RMSE  RMSE Median  RMSE Std Dev  \\\n",
       "0         3.231511  2.213080  0.001907     0.000391      0.004361   \n",
       "1         5.189765  2.569729  0.001619     0.000294      0.003666   \n",
       "2        -0.207301  1.226778  0.001627     0.000214      0.003552   \n",
       "3         2.644984  1.998682  0.001655     0.000307      0.003687   \n",
       "4         5.715395  2.682275  0.001279     0.000270      0.002408   \n",
       "...            ...       ...       ...          ...           ...   \n",
       "2795      2.776079  1.733152  0.000805     0.000052      0.002297   \n",
       "2796      7.208814  2.744011  0.003030     0.000291      0.006712   \n",
       "2797      3.370580  2.012270  0.001743     0.000146      0.004667   \n",
       "2798      5.366187  2.422199  0.001496     0.000135      0.004290   \n",
       "2799      7.797457  2.908089  0.002085     0.000142      0.005027   \n",
       "\n",
       "      RMSE Kurtosis  RMSE Skew  \n",
       "0         28.695122   4.718994  \n",
       "1         26.103527   4.546180  \n",
       "2         22.894698   4.177756  \n",
       "3         29.393371   4.660485  \n",
       "4         15.520607   3.484518  \n",
       "...             ...        ...  \n",
       "2795      57.131611   6.332563  \n",
       "2796      21.150837   3.983284  \n",
       "2797      41.713202   5.561089  \n",
       "2798      31.532774   5.091522  \n",
       "2799      26.139706   4.373508  \n",
       "\n",
       "[2800 rows x 12 columns]"
      ]
     },
     "execution_count": 23,
     "metadata": {},
     "output_type": "execute_result"
    }
   ],
   "source": [
    "# Menampilkan file CSV\n",
    "df"
   ]
  },
  {
   "cell_type": "code",
   "execution_count": null,
   "metadata": {
    "id": "-5U2IFl1OYtA"
   },
   "outputs": [],
   "source": [
    "df.to_csv('emosi2.csv',index=False)"
   ]
  },
  {
   "cell_type": "code",
   "execution_count": null,
   "metadata": {
    "id": "yz51emzFOgod"
   },
   "outputs": [],
   "source": [
    "from sklearn.preprocessing import StandardScaler\n",
    "# Baca file CSV\n",
    "dn = pd.read_csv(\"emosi2.csv\")\n",
    "# Tentukan kolom yang akan distandarisasi\n",
    "kolom = ['ZCR Mean', 'ZCR Median', 'ZCR Std Dev', 'ZCR Kurtosis', 'ZCR Skew', 'RMSE']\n",
    "# Inisialisasi StandardScaler\n",
    "scaler = StandardScaler()\n",
    "# Lakukan standarisasi pada kolom yang telah ditentukan\n",
    "dn[kolom] = scaler.fit_transform(dn[kolom])\n",
    "# Simpan DataFrame yang telah distandarisasi ke dalam file CSV baru\n",
    "dn.to_csv(\"emosi2normalisasi.csv\", index=False)\n"
   ]
  },
  {
   "cell_type": "code",
   "execution_count": null,
   "metadata": {
    "colab": {
     "base_uri": "https://localhost:8080/",
     "height": 424
    },
    "id": "HkIvSnAPOjYP",
    "outputId": "8ae99c32-aafe-4b4e-ef98-d84fe9c32720"
   },
   "outputs": [
    {
     "data": {
      "text/html": [
       "\n",
       "  <div id=\"df-8153ec1f-a879-44f4-9f52-0f4f83213e79\" class=\"colab-df-container\">\n",
       "    <div>\n",
       "<style scoped>\n",
       "    .dataframe tbody tr th:only-of-type {\n",
       "        vertical-align: middle;\n",
       "    }\n",
       "\n",
       "    .dataframe tbody tr th {\n",
       "        vertical-align: top;\n",
       "    }\n",
       "\n",
       "    .dataframe thead th {\n",
       "        text-align: right;\n",
       "    }\n",
       "</style>\n",
       "<table border=\"1\" class=\"dataframe\">\n",
       "  <thead>\n",
       "    <tr style=\"text-align: right;\">\n",
       "      <th></th>\n",
       "      <th>Label</th>\n",
       "      <th>File</th>\n",
       "      <th>ZCR Mean</th>\n",
       "      <th>ZCR Median</th>\n",
       "      <th>ZCR Std Dev</th>\n",
       "      <th>ZCR Kurtosis</th>\n",
       "      <th>ZCR Skew</th>\n",
       "      <th>RMSE</th>\n",
       "      <th>RMSE Median</th>\n",
       "      <th>RMSE Std Dev</th>\n",
       "      <th>RMSE Kurtosis</th>\n",
       "      <th>RMSE Skew</th>\n",
       "    </tr>\n",
       "  </thead>\n",
       "  <tbody>\n",
       "    <tr>\n",
       "      <th>0</th>\n",
       "      <td>YAF_sad</td>\n",
       "      <td>YAF_five_sad.wav</td>\n",
       "      <td>0.417567</td>\n",
       "      <td>-0.632066</td>\n",
       "      <td>0.918615</td>\n",
       "      <td>-0.857907</td>\n",
       "      <td>-0.863771</td>\n",
       "      <td>-0.095773</td>\n",
       "      <td>0.148228</td>\n",
       "      <td>-0.195603</td>\n",
       "      <td>-0.638306</td>\n",
       "      <td>-0.724434</td>\n",
       "    </tr>\n",
       "    <tr>\n",
       "      <th>1</th>\n",
       "      <td>YAF_sad</td>\n",
       "      <td>YAF_far_sad.wav</td>\n",
       "      <td>0.022307</td>\n",
       "      <td>-1.045013</td>\n",
       "      <td>0.756379</td>\n",
       "      <td>-0.437007</td>\n",
       "      <td>-0.322893</td>\n",
       "      <td>-0.228551</td>\n",
       "      <td>0.111430</td>\n",
       "      <td>-0.320760</td>\n",
       "      <td>-0.712435</td>\n",
       "      <td>-0.863297</td>\n",
       "    </tr>\n",
       "    <tr>\n",
       "      <th>2</th>\n",
       "      <td>YAF_sad</td>\n",
       "      <td>YAF_check_sad.wav</td>\n",
       "      <td>0.367532</td>\n",
       "      <td>-0.106497</td>\n",
       "      <td>0.745229</td>\n",
       "      <td>-0.352883</td>\n",
       "      <td>-0.377554</td>\n",
       "      <td>-0.232075</td>\n",
       "      <td>-0.183732</td>\n",
       "      <td>-0.282783</td>\n",
       "      <td>-0.553596</td>\n",
       "      <td>-0.565757</td>\n",
       "    </tr>\n",
       "    <tr>\n",
       "      <th>3</th>\n",
       "      <td>YAF_sad</td>\n",
       "      <td>YAF_join_sad.wav</td>\n",
       "      <td>-0.288993</td>\n",
       "      <td>-1.097570</td>\n",
       "      <td>0.643528</td>\n",
       "      <td>-0.053653</td>\n",
       "      <td>0.108951</td>\n",
       "      <td>-0.233002</td>\n",
       "      <td>0.527433</td>\n",
       "      <td>-0.339909</td>\n",
       "      <td>-0.632428</td>\n",
       "      <td>-0.731046</td>\n",
       "    </tr>\n",
       "    <tr>\n",
       "      <th>4</th>\n",
       "      <td>YAF_sad</td>\n",
       "      <td>YAF_jail_sad.wav</td>\n",
       "      <td>-0.448926</td>\n",
       "      <td>-0.939899</td>\n",
       "      <td>0.319801</td>\n",
       "      <td>0.425721</td>\n",
       "      <td>0.521313</td>\n",
       "      <td>0.554133</td>\n",
       "      <td>1.656748</td>\n",
       "      <td>0.214162</td>\n",
       "      <td>-0.748456</td>\n",
       "      <td>-0.957346</td>\n",
       "    </tr>\n",
       "    <tr>\n",
       "      <th>...</th>\n",
       "      <td>...</td>\n",
       "      <td>...</td>\n",
       "      <td>...</td>\n",
       "      <td>...</td>\n",
       "      <td>...</td>\n",
       "      <td>...</td>\n",
       "      <td>...</td>\n",
       "      <td>...</td>\n",
       "      <td>...</td>\n",
       "      <td>...</td>\n",
       "      <td>...</td>\n",
       "      <td>...</td>\n",
       "    </tr>\n",
       "    <tr>\n",
       "      <th>2795</th>\n",
       "      <td>angry</td>\n",
       "      <td>OAF_shall_angry.wav</td>\n",
       "      <td>-0.396287</td>\n",
       "      <td>0.058681</td>\n",
       "      <td>-1.217952</td>\n",
       "      <td>-0.813188</td>\n",
       "      <td>-0.831839</td>\n",
       "      <td>0.121467</td>\n",
       "      <td>-0.101155</td>\n",
       "      <td>0.057880</td>\n",
       "      <td>-0.555335</td>\n",
       "      <td>-0.548721</td>\n",
       "    </tr>\n",
       "    <tr>\n",
       "      <th>2796</th>\n",
       "      <td>angry</td>\n",
       "      <td>OAF_mouse_angry.wav</td>\n",
       "      <td>-0.845788</td>\n",
       "      <td>-0.399314</td>\n",
       "      <td>-1.448134</td>\n",
       "      <td>0.208753</td>\n",
       "      <td>0.047452</td>\n",
       "      <td>0.437184</td>\n",
       "      <td>0.019580</td>\n",
       "      <td>0.251264</td>\n",
       "      <td>-0.695206</td>\n",
       "      <td>-0.825462</td>\n",
       "    </tr>\n",
       "    <tr>\n",
       "      <th>2797</th>\n",
       "      <td>angry</td>\n",
       "      <td>OAF_pain_angry.wav</td>\n",
       "      <td>-0.900272</td>\n",
       "      <td>-0.511936</td>\n",
       "      <td>-1.342461</td>\n",
       "      <td>1.025157</td>\n",
       "      <td>0.719613</td>\n",
       "      <td>0.228061</td>\n",
       "      <td>-0.206343</td>\n",
       "      <td>0.208747</td>\n",
       "      <td>-0.419145</td>\n",
       "      <td>-0.365278</td>\n",
       "    </tr>\n",
       "    <tr>\n",
       "      <th>2798</th>\n",
       "      <td>angry</td>\n",
       "      <td>OAF_lot_angry.wav</td>\n",
       "      <td>-1.057913</td>\n",
       "      <td>-0.354265</td>\n",
       "      <td>-1.655259</td>\n",
       "      <td>1.637021</td>\n",
       "      <td>1.345262</td>\n",
       "      <td>0.117841</td>\n",
       "      <td>0.183813</td>\n",
       "      <td>0.143426</td>\n",
       "      <td>-0.119439</td>\n",
       "      <td>0.186219</td>\n",
       "    </tr>\n",
       "    <tr>\n",
       "      <th>2799</th>\n",
       "      <td>angry</td>\n",
       "      <td>OAF_talk_angry.wav</td>\n",
       "      <td>-0.964110</td>\n",
       "      <td>-0.354265</td>\n",
       "      <td>-1.829384</td>\n",
       "      <td>1.230543</td>\n",
       "      <td>0.846723</td>\n",
       "      <td>0.240121</td>\n",
       "      <td>-0.286667</td>\n",
       "      <td>0.202802</td>\n",
       "      <td>-0.496682</td>\n",
       "      <td>-0.421484</td>\n",
       "    </tr>\n",
       "  </tbody>\n",
       "</table>\n",
       "<p>2800 rows × 12 columns</p>\n",
       "</div>\n",
       "    <div class=\"colab-df-buttons\">\n",
       "\n",
       "  <div class=\"colab-df-container\">\n",
       "    <button class=\"colab-df-convert\" onclick=\"convertToInteractive('df-8153ec1f-a879-44f4-9f52-0f4f83213e79')\"\n",
       "            title=\"Convert this dataframe to an interactive table.\"\n",
       "            style=\"display:none;\">\n",
       "\n",
       "  <svg xmlns=\"http://www.w3.org/2000/svg\" height=\"24px\" viewBox=\"0 -960 960 960\">\n",
       "    <path d=\"M120-120v-720h720v720H120Zm60-500h600v-160H180v160Zm220 220h160v-160H400v160Zm0 220h160v-160H400v160ZM180-400h160v-160H180v160Zm440 0h160v-160H620v160ZM180-180h160v-160H180v160Zm440 0h160v-160H620v160Z\"/>\n",
       "  </svg>\n",
       "    </button>\n",
       "\n",
       "  <style>\n",
       "    .colab-df-container {\n",
       "      display:flex;\n",
       "      gap: 12px;\n",
       "    }\n",
       "\n",
       "    .colab-df-convert {\n",
       "      background-color: #E8F0FE;\n",
       "      border: none;\n",
       "      border-radius: 50%;\n",
       "      cursor: pointer;\n",
       "      display: none;\n",
       "      fill: #1967D2;\n",
       "      height: 32px;\n",
       "      padding: 0 0 0 0;\n",
       "      width: 32px;\n",
       "    }\n",
       "\n",
       "    .colab-df-convert:hover {\n",
       "      background-color: #E2EBFA;\n",
       "      box-shadow: 0px 1px 2px rgba(60, 64, 67, 0.3), 0px 1px 3px 1px rgba(60, 64, 67, 0.15);\n",
       "      fill: #174EA6;\n",
       "    }\n",
       "\n",
       "    .colab-df-buttons div {\n",
       "      margin-bottom: 4px;\n",
       "    }\n",
       "\n",
       "    [theme=dark] .colab-df-convert {\n",
       "      background-color: #3B4455;\n",
       "      fill: #D2E3FC;\n",
       "    }\n",
       "\n",
       "    [theme=dark] .colab-df-convert:hover {\n",
       "      background-color: #434B5C;\n",
       "      box-shadow: 0px 1px 3px 1px rgba(0, 0, 0, 0.15);\n",
       "      filter: drop-shadow(0px 1px 2px rgba(0, 0, 0, 0.3));\n",
       "      fill: #FFFFFF;\n",
       "    }\n",
       "  </style>\n",
       "\n",
       "    <script>\n",
       "      const buttonEl =\n",
       "        document.querySelector('#df-8153ec1f-a879-44f4-9f52-0f4f83213e79 button.colab-df-convert');\n",
       "      buttonEl.style.display =\n",
       "        google.colab.kernel.accessAllowed ? 'block' : 'none';\n",
       "\n",
       "      async function convertToInteractive(key) {\n",
       "        const element = document.querySelector('#df-8153ec1f-a879-44f4-9f52-0f4f83213e79');\n",
       "        const dataTable =\n",
       "          await google.colab.kernel.invokeFunction('convertToInteractive',\n",
       "                                                    [key], {});\n",
       "        if (!dataTable) return;\n",
       "\n",
       "        const docLinkHtml = 'Like what you see? Visit the ' +\n",
       "          '<a target=\"_blank\" href=https://colab.research.google.com/notebooks/data_table.ipynb>data table notebook</a>'\n",
       "          + ' to learn more about interactive tables.';\n",
       "        element.innerHTML = '';\n",
       "        dataTable['output_type'] = 'display_data';\n",
       "        await google.colab.output.renderOutput(dataTable, element);\n",
       "        const docLink = document.createElement('div');\n",
       "        docLink.innerHTML = docLinkHtml;\n",
       "        element.appendChild(docLink);\n",
       "      }\n",
       "    </script>\n",
       "  </div>\n",
       "\n",
       "\n",
       "<div id=\"df-fddf1741-a838-42e0-bf43-e9202ceb5be2\">\n",
       "  <button class=\"colab-df-quickchart\" onclick=\"quickchart('df-fddf1741-a838-42e0-bf43-e9202ceb5be2')\"\n",
       "            title=\"Suggest charts.\"\n",
       "            style=\"display:none;\">\n",
       "\n",
       "<svg xmlns=\"http://www.w3.org/2000/svg\" height=\"24px\"viewBox=\"0 0 24 24\"\n",
       "     width=\"24px\">\n",
       "    <g>\n",
       "        <path d=\"M19 3H5c-1.1 0-2 .9-2 2v14c0 1.1.9 2 2 2h14c1.1 0 2-.9 2-2V5c0-1.1-.9-2-2-2zM9 17H7v-7h2v7zm4 0h-2V7h2v10zm4 0h-2v-4h2v4z\"/>\n",
       "    </g>\n",
       "</svg>\n",
       "  </button>\n",
       "\n",
       "<style>\n",
       "  .colab-df-quickchart {\n",
       "      --bg-color: #E8F0FE;\n",
       "      --fill-color: #1967D2;\n",
       "      --hover-bg-color: #E2EBFA;\n",
       "      --hover-fill-color: #174EA6;\n",
       "      --disabled-fill-color: #AAA;\n",
       "      --disabled-bg-color: #DDD;\n",
       "  }\n",
       "\n",
       "  [theme=dark] .colab-df-quickchart {\n",
       "      --bg-color: #3B4455;\n",
       "      --fill-color: #D2E3FC;\n",
       "      --hover-bg-color: #434B5C;\n",
       "      --hover-fill-color: #FFFFFF;\n",
       "      --disabled-bg-color: #3B4455;\n",
       "      --disabled-fill-color: #666;\n",
       "  }\n",
       "\n",
       "  .colab-df-quickchart {\n",
       "    background-color: var(--bg-color);\n",
       "    border: none;\n",
       "    border-radius: 50%;\n",
       "    cursor: pointer;\n",
       "    display: none;\n",
       "    fill: var(--fill-color);\n",
       "    height: 32px;\n",
       "    padding: 0;\n",
       "    width: 32px;\n",
       "  }\n",
       "\n",
       "  .colab-df-quickchart:hover {\n",
       "    background-color: var(--hover-bg-color);\n",
       "    box-shadow: 0 1px 2px rgba(60, 64, 67, 0.3), 0 1px 3px 1px rgba(60, 64, 67, 0.15);\n",
       "    fill: var(--button-hover-fill-color);\n",
       "  }\n",
       "\n",
       "  .colab-df-quickchart-complete:disabled,\n",
       "  .colab-df-quickchart-complete:disabled:hover {\n",
       "    background-color: var(--disabled-bg-color);\n",
       "    fill: var(--disabled-fill-color);\n",
       "    box-shadow: none;\n",
       "  }\n",
       "\n",
       "  .colab-df-spinner {\n",
       "    border: 2px solid var(--fill-color);\n",
       "    border-color: transparent;\n",
       "    border-bottom-color: var(--fill-color);\n",
       "    animation:\n",
       "      spin 1s steps(1) infinite;\n",
       "  }\n",
       "\n",
       "  @keyframes spin {\n",
       "    0% {\n",
       "      border-color: transparent;\n",
       "      border-bottom-color: var(--fill-color);\n",
       "      border-left-color: var(--fill-color);\n",
       "    }\n",
       "    20% {\n",
       "      border-color: transparent;\n",
       "      border-left-color: var(--fill-color);\n",
       "      border-top-color: var(--fill-color);\n",
       "    }\n",
       "    30% {\n",
       "      border-color: transparent;\n",
       "      border-left-color: var(--fill-color);\n",
       "      border-top-color: var(--fill-color);\n",
       "      border-right-color: var(--fill-color);\n",
       "    }\n",
       "    40% {\n",
       "      border-color: transparent;\n",
       "      border-right-color: var(--fill-color);\n",
       "      border-top-color: var(--fill-color);\n",
       "    }\n",
       "    60% {\n",
       "      border-color: transparent;\n",
       "      border-right-color: var(--fill-color);\n",
       "    }\n",
       "    80% {\n",
       "      border-color: transparent;\n",
       "      border-right-color: var(--fill-color);\n",
       "      border-bottom-color: var(--fill-color);\n",
       "    }\n",
       "    90% {\n",
       "      border-color: transparent;\n",
       "      border-bottom-color: var(--fill-color);\n",
       "    }\n",
       "  }\n",
       "</style>\n",
       "\n",
       "  <script>\n",
       "    async function quickchart(key) {\n",
       "      const quickchartButtonEl =\n",
       "        document.querySelector('#' + key + ' button');\n",
       "      quickchartButtonEl.disabled = true;  // To prevent multiple clicks.\n",
       "      quickchartButtonEl.classList.add('colab-df-spinner');\n",
       "      try {\n",
       "        const charts = await google.colab.kernel.invokeFunction(\n",
       "            'suggestCharts', [key], {});\n",
       "      } catch (error) {\n",
       "        console.error('Error during call to suggestCharts:', error);\n",
       "      }\n",
       "      quickchartButtonEl.classList.remove('colab-df-spinner');\n",
       "      quickchartButtonEl.classList.add('colab-df-quickchart-complete');\n",
       "    }\n",
       "    (() => {\n",
       "      let quickchartButtonEl =\n",
       "        document.querySelector('#df-fddf1741-a838-42e0-bf43-e9202ceb5be2 button');\n",
       "      quickchartButtonEl.style.display =\n",
       "        google.colab.kernel.accessAllowed ? 'block' : 'none';\n",
       "    })();\n",
       "  </script>\n",
       "</div>\n",
       "    </div>\n",
       "  </div>\n"
      ],
      "text/plain": [
       "        Label                 File  ZCR Mean  ZCR Median  ZCR Std Dev  \\\n",
       "0     YAF_sad     YAF_five_sad.wav  0.417567   -0.632066     0.918615   \n",
       "1     YAF_sad      YAF_far_sad.wav  0.022307   -1.045013     0.756379   \n",
       "2     YAF_sad    YAF_check_sad.wav  0.367532   -0.106497     0.745229   \n",
       "3     YAF_sad     YAF_join_sad.wav -0.288993   -1.097570     0.643528   \n",
       "4     YAF_sad     YAF_jail_sad.wav -0.448926   -0.939899     0.319801   \n",
       "...       ...                  ...       ...         ...          ...   \n",
       "2795    angry  OAF_shall_angry.wav -0.396287    0.058681    -1.217952   \n",
       "2796    angry  OAF_mouse_angry.wav -0.845788   -0.399314    -1.448134   \n",
       "2797    angry   OAF_pain_angry.wav -0.900272   -0.511936    -1.342461   \n",
       "2798    angry    OAF_lot_angry.wav -1.057913   -0.354265    -1.655259   \n",
       "2799    angry   OAF_talk_angry.wav -0.964110   -0.354265    -1.829384   \n",
       "\n",
       "      ZCR Kurtosis  ZCR Skew      RMSE  RMSE Median  RMSE Std Dev  \\\n",
       "0        -0.857907 -0.863771 -0.095773     0.148228     -0.195603   \n",
       "1        -0.437007 -0.322893 -0.228551     0.111430     -0.320760   \n",
       "2        -0.352883 -0.377554 -0.232075    -0.183732     -0.282783   \n",
       "3        -0.053653  0.108951 -0.233002     0.527433     -0.339909   \n",
       "4         0.425721  0.521313  0.554133     1.656748      0.214162   \n",
       "...            ...       ...       ...          ...           ...   \n",
       "2795     -0.813188 -0.831839  0.121467    -0.101155      0.057880   \n",
       "2796      0.208753  0.047452  0.437184     0.019580      0.251264   \n",
       "2797      1.025157  0.719613  0.228061    -0.206343      0.208747   \n",
       "2798      1.637021  1.345262  0.117841     0.183813      0.143426   \n",
       "2799      1.230543  0.846723  0.240121    -0.286667      0.202802   \n",
       "\n",
       "      RMSE Kurtosis  RMSE Skew  \n",
       "0         -0.638306  -0.724434  \n",
       "1         -0.712435  -0.863297  \n",
       "2         -0.553596  -0.565757  \n",
       "3         -0.632428  -0.731046  \n",
       "4         -0.748456  -0.957346  \n",
       "...             ...        ...  \n",
       "2795      -0.555335  -0.548721  \n",
       "2796      -0.695206  -0.825462  \n",
       "2797      -0.419145  -0.365278  \n",
       "2798      -0.119439   0.186219  \n",
       "2799      -0.496682  -0.421484  \n",
       "\n",
       "[2800 rows x 12 columns]"
      ]
     },
     "execution_count": 13,
     "metadata": {},
     "output_type": "execute_result"
    }
   ],
   "source": [
    "norm=pd.read_csv('emosi2normalisasi.csv')\n",
    "norm"
   ]
  },
  {
   "cell_type": "code",
   "execution_count": null,
   "metadata": {
    "colab": {
     "base_uri": "https://localhost:8080/"
    },
    "id": "hy1DVx3MOnQc",
    "outputId": "009c8195-5bff-4bf6-c1c0-9e5087719721"
   },
   "outputs": [
    {
     "name": "stdout",
     "output_type": "stream",
     "text": [
      "--MEAN--\n",
      "ZCR Mean         0.0\n",
      "ZCR Median       0.0\n",
      "ZCR Std Dev      0.0\n",
      "ZCR Kurtosis    -0.0\n",
      "ZCR Skew        -0.0\n",
      "RMSE             0.0\n",
      "RMSE Median      0.0\n",
      "RMSE Std Dev    -0.0\n",
      "RMSE Kurtosis    0.0\n",
      "RMSE Skew        0.0\n",
      "dtype: float64\n"
     ]
    }
   ],
   "source": [
    "# Daftar kolom yang ingin dilewati\n",
    "kolomlabel= ['Label','File',]\n",
    "# Menghitung rata-rata untuk kolom numerik tertentu (mengabaikan kolom yang tidak diinginkan)\n",
    "rata2= norm.drop(columns=kolomlabel).mean()\n",
    "#membulatkan hasil komputasi dengan round dengan ketentuan 2 setelah koma, biar ga panjang bestiiiiiii\n",
    "dibulatkan=rata2.round(2)\n",
    "# Menampilkan rata-rata\n",
    "print('--MEAN--')\n",
    "print(dibulatkan)\n"
   ]
  },
  {
   "cell_type": "code",
   "execution_count": null,
   "metadata": {
    "colab": {
     "base_uri": "https://localhost:8080/"
    },
    "id": "sMnYFTreOptL",
    "outputId": "5aa218cf-d695-4ba0-f7b9-b1bb6875698b"
   },
   "outputs": [
    {
     "name": "stdout",
     "output_type": "stream",
     "text": [
      "--STANDARD DEVIASI--\n",
      "ZCR Mean         1.0\n",
      "ZCR Median       1.0\n",
      "ZCR Std Dev      1.0\n",
      "ZCR Kurtosis     1.0\n",
      "ZCR Skew         1.0\n",
      "RMSE             1.0\n",
      "RMSE Median      1.0\n",
      "RMSE Std Dev     1.0\n",
      "RMSE Kurtosis    1.0\n",
      "RMSE Skew        1.0\n",
      "dtype: float64\n"
     ]
    }
   ],
   "source": [
    "# Daftar kolom yang ingin dilewati\n",
    "kolomlabel= ['Label','File']\n",
    "# Menghitung rata-rata untuk kolom numerik tertentu (mengabaikan kolom yang tidak diinginkan)\n",
    "standv= norm.drop(columns=kolomlabel).std()\n",
    "#membulatkan hasil komputasi dengan round dengan ketentuan 2 setelah koma, biar ga panjang bestiiiiiii\n",
    "bulatkan=standv.round(2)\n",
    "# Menampilkan rata-rata\n",
    "print('--STANDARD DEVIASI--')\n",
    "print(bulatkan)\n"
   ]
  },
  {
   "cell_type": "code",
   "execution_count": null,
   "metadata": {
    "id": "WbKO-lDiOsDs"
   },
   "outputs": [],
   "source": [
    "from sklearn.model_selection import train_test_split\n",
    "from sklearn.preprocessing import StandardScaler\n",
    "from sklearn.neighbors import KNeighborsClassifier\n",
    "from pickle import dump"
   ]
  },
  {
   "cell_type": "code",
   "execution_count": null,
   "metadata": {
    "id": "rGEmNDC2Outs"
   },
   "outputs": [],
   "source": [
    "# Baca data dari file CSV\n",
    "dataknn= pd.read_csv('emosi2.csv')\n",
    "# Pisahkan fitur (X) dan label (y)\n",
    "X = dataknn.drop(['Label','File'], axis=1)  # Ganti 'target_column' dengan nama kolom target\n",
    "y = dataknn['Label']\n",
    "# split data into train and test sets\n",
    "X_train,X_test,y_train, y_test= train_test_split(X, y, random_state=1, test_size=0.2)\n",
    "# define scaler\n",
    "scaler = StandardScaler()\n",
    "# fit scaler on the training dataset\n",
    "scaler.fit(X_train)\n",
    "# save the scaler\n",
    "dump(scaler, open('scaler.pkl', 'wb'))\n",
    "# transform the training dataset\n",
    "X_train_scaled = scaler.transform(X_train)"
   ]
  },
  {
   "cell_type": "code",
   "execution_count": null,
   "metadata": {
    "id": "SfUusAp6OxYM"
   },
   "outputs": [],
   "source": [
    "import pickle\n",
    "with open('scaler.pkl', 'rb') as standarisasi:\n",
    "    loadscal= pickle.load(standarisasi)"
   ]
  },
  {
   "cell_type": "code",
   "execution_count": null,
   "metadata": {
    "id": "9nbNvoF0O1uX"
   },
   "outputs": [],
   "source": [
    "X_test_scaled=loadscal.transform(X_test) #normalisasi X testing dari hasil normalisasi X train yang disimpan dalam model"
   ]
  },
  {
   "cell_type": "code",
   "execution_count": null,
   "metadata": {
    "id": "Zw4TNBaWO1y9"
   },
   "outputs": [],
   "source": [
    "from sklearn.metrics import accuracy_score\n",
    "from sklearn.metrics import confusion_matrix"
   ]
  },
  {
   "cell_type": "code",
   "execution_count": null,
   "metadata": {
    "colab": {
     "base_uri": "https://localhost:8080/"
    },
    "id": "2f8qaqw1O116",
    "outputId": "ad48e8f2-3afd-4711-acfe-3d1526728e8c"
   },
   "outputs": [
    {
     "name": "stdout",
     "output_type": "stream",
     "text": [
      "akurasi terbaik adalah  0.7035714285714286 dengan nilai k = 7\n"
     ]
    }
   ],
   "source": [
    "K = 30\n",
    "acc = np.zeros((K-1))\n",
    "\n",
    "for n in range(1,K,2):\n",
    "    knn = KNeighborsClassifier(n_neighbors= n, metric = \"euclidean\").fit(X_train_scaled, y_train)\n",
    "    y_pred = knn.predict(X_test_scaled)\n",
    "\n",
    "    acc[n-1]= accuracy_score(y_test,y_pred)\n",
    "\n",
    "print('akurasi terbaik adalah ', acc.max(), 'dengan nilai k =', acc.argmax()+1)"
   ]
  },
  {
   "cell_type": "code",
   "execution_count": null,
   "metadata": {
    "id": "ktyDEVKVO8mF"
   },
   "outputs": [],
   "source": [
    "knn = KNeighborsClassifier(n_neighbors= 13, metric = \"euclidean\")\n",
    "dump(knn, open('modelknn.pkl', 'wb'))\n"
   ]
  },
  {
   "cell_type": "code",
   "execution_count": null,
   "metadata": {
    "id": "xqOx2kwxRSJb"
   },
   "outputs": [],
   "source": [
    "#array=np.array([0.1722103851,0.0419921875,0.2303348292,1.158274856,1.556415655,0.001505466753,0.00024307908,0.0033376536,24.95338147,4.40281652])\n",
    "#arnorm=loadscal.transform(array)\n",
    "#arnorm"
   ]
  },
  {
   "cell_type": "code",
   "execution_count": null,
   "metadata": {
    "colab": {
     "base_uri": "https://localhost:8080/",
     "height": 75
    },
    "id": "ypqYFTmFRDlQ",
    "outputId": "c9488121-9abf-4725-99fc-db7583d6edd8"
   },
   "outputs": [
    {
     "data": {
      "text/html": [
       "<style>#sk-container-id-1 {color: black;background-color: white;}#sk-container-id-1 pre{padding: 0;}#sk-container-id-1 div.sk-toggleable {background-color: white;}#sk-container-id-1 label.sk-toggleable__label {cursor: pointer;display: block;width: 100%;margin-bottom: 0;padding: 0.3em;box-sizing: border-box;text-align: center;}#sk-container-id-1 label.sk-toggleable__label-arrow:before {content: \"▸\";float: left;margin-right: 0.25em;color: #696969;}#sk-container-id-1 label.sk-toggleable__label-arrow:hover:before {color: black;}#sk-container-id-1 div.sk-estimator:hover label.sk-toggleable__label-arrow:before {color: black;}#sk-container-id-1 div.sk-toggleable__content {max-height: 0;max-width: 0;overflow: hidden;text-align: left;background-color: #f0f8ff;}#sk-container-id-1 div.sk-toggleable__content pre {margin: 0.2em;color: black;border-radius: 0.25em;background-color: #f0f8ff;}#sk-container-id-1 input.sk-toggleable__control:checked~div.sk-toggleable__content {max-height: 200px;max-width: 100%;overflow: auto;}#sk-container-id-1 input.sk-toggleable__control:checked~label.sk-toggleable__label-arrow:before {content: \"▾\";}#sk-container-id-1 div.sk-estimator input.sk-toggleable__control:checked~label.sk-toggleable__label {background-color: #d4ebff;}#sk-container-id-1 div.sk-label input.sk-toggleable__control:checked~label.sk-toggleable__label {background-color: #d4ebff;}#sk-container-id-1 input.sk-hidden--visually {border: 0;clip: rect(1px 1px 1px 1px);clip: rect(1px, 1px, 1px, 1px);height: 1px;margin: -1px;overflow: hidden;padding: 0;position: absolute;width: 1px;}#sk-container-id-1 div.sk-estimator {font-family: monospace;background-color: #f0f8ff;border: 1px dotted black;border-radius: 0.25em;box-sizing: border-box;margin-bottom: 0.5em;}#sk-container-id-1 div.sk-estimator:hover {background-color: #d4ebff;}#sk-container-id-1 div.sk-parallel-item::after {content: \"\";width: 100%;border-bottom: 1px solid gray;flex-grow: 1;}#sk-container-id-1 div.sk-label:hover label.sk-toggleable__label {background-color: #d4ebff;}#sk-container-id-1 div.sk-serial::before {content: \"\";position: absolute;border-left: 1px solid gray;box-sizing: border-box;top: 0;bottom: 0;left: 50%;z-index: 0;}#sk-container-id-1 div.sk-serial {display: flex;flex-direction: column;align-items: center;background-color: white;padding-right: 0.2em;padding-left: 0.2em;position: relative;}#sk-container-id-1 div.sk-item {position: relative;z-index: 1;}#sk-container-id-1 div.sk-parallel {display: flex;align-items: stretch;justify-content: center;background-color: white;position: relative;}#sk-container-id-1 div.sk-item::before, #sk-container-id-1 div.sk-parallel-item::before {content: \"\";position: absolute;border-left: 1px solid gray;box-sizing: border-box;top: 0;bottom: 0;left: 50%;z-index: -1;}#sk-container-id-1 div.sk-parallel-item {display: flex;flex-direction: column;z-index: 1;position: relative;background-color: white;}#sk-container-id-1 div.sk-parallel-item:first-child::after {align-self: flex-end;width: 50%;}#sk-container-id-1 div.sk-parallel-item:last-child::after {align-self: flex-start;width: 50%;}#sk-container-id-1 div.sk-parallel-item:only-child::after {width: 0;}#sk-container-id-1 div.sk-dashed-wrapped {border: 1px dashed gray;margin: 0 0.4em 0.5em 0.4em;box-sizing: border-box;padding-bottom: 0.4em;background-color: white;}#sk-container-id-1 div.sk-label label {font-family: monospace;font-weight: bold;display: inline-block;line-height: 1.2em;}#sk-container-id-1 div.sk-label-container {text-align: center;}#sk-container-id-1 div.sk-container {/* jupyter's `normalize.less` sets `[hidden] { display: none; }` but bootstrap.min.css set `[hidden] { display: none !important; }` so we also need the `!important` here to be able to override the default hidden behavior on the sphinx rendered scikit-learn.org. See: https://github.com/scikit-learn/scikit-learn/issues/21755 */display: inline-block !important;position: relative;}#sk-container-id-1 div.sk-text-repr-fallback {display: none;}</style><div id=\"sk-container-id-1\" class=\"sk-top-container\"><div class=\"sk-text-repr-fallback\"><pre>KNeighborsClassifier(metric=&#x27;euclidean&#x27;, n_neighbors=13)</pre><b>In a Jupyter environment, please rerun this cell to show the HTML representation or trust the notebook. <br />On GitHub, the HTML representation is unable to render, please try loading this page with nbviewer.org.</b></div><div class=\"sk-container\" hidden><div class=\"sk-item\"><div class=\"sk-estimator sk-toggleable\"><input class=\"sk-toggleable__control sk-hidden--visually\" id=\"sk-estimator-id-1\" type=\"checkbox\" checked><label for=\"sk-estimator-id-1\" class=\"sk-toggleable__label sk-toggleable__label-arrow\">KNeighborsClassifier</label><div class=\"sk-toggleable__content\"><pre>KNeighborsClassifier(metric=&#x27;euclidean&#x27;, n_neighbors=13)</pre></div></div></div></div></div>"
      ],
      "text/plain": [
       "KNeighborsClassifier(metric='euclidean', n_neighbors=13)"
      ]
     },
     "execution_count": 24,
     "metadata": {},
     "output_type": "execute_result"
    }
   ],
   "source": [
    "import pickle\n",
    "with open('modelknn.pkl', 'rb') as knn:\n",
    "    loadknn= pickle.load(knn)\n",
    "loadknn.fit(X_train_scaled, y_train)"
   ]
  },
  {
   "cell_type": "code",
   "execution_count": null,
   "metadata": {
    "colab": {
     "base_uri": "https://localhost:8080/"
    },
    "id": "3ws1abLQSSx9",
    "outputId": "52c758d5-a211-4d99-cfb6-50438cff444b"
   },
   "outputs": [
    {
     "data": {
      "text/plain": [
       "array(['OAF_Pleasant_surprise', 'YAF_disgust', 'YAF_neutral',\n",
       "       'YAF_disgust', 'OAF_Sad', 'OAF_neutral', 'YAF_neutral', 'angry',\n",
       "       'disgust', 'OAF_Sad', 'YAF_sad', 'YAF_sad', 'angry', 'angry',\n",
       "       'disgust', 'OAF_Pleasant_surprise', 'OAF_Sad', 'YAF_neutral',\n",
       "       'angry', 'YAF_neutral', 'YAF_pleasant_surprised', 'OAF_neutral',\n",
       "       'angry', 'YAF_neutral', 'OAF_neutral', 'YAF_sad',\n",
       "       'YAF_pleasant_surprised', 'YAF_fear', 'disgust', 'OAF_Fear',\n",
       "       'OAF_neutral', 'OAF_happy', 'YAF_neutral', 'YAF_angry',\n",
       "       'YAF_neutral', 'YAF_fear', 'OAF_Fear', 'OAF_happy', 'YAF_happy',\n",
       "       'disgust', 'YAF_disgust', 'OAF_Sad', 'YAF_sad', 'YAF_happy',\n",
       "       'OAF_Pleasant_surprise', 'OAF_happy', 'YAF_fear', 'YAF_disgust',\n",
       "       'OAF_neutral', 'OAF_Sad', 'OAF_happy', 'OAF_happy', 'OAF_Sad',\n",
       "       'YAF_pleasant_surprised', 'YAF_sad', 'disgust', 'angry',\n",
       "       'OAF_Pleasant_surprise', 'YAF_disgust', 'OAF_Sad', 'OAF_happy',\n",
       "       'OAF_happy', 'OAF_Sad', 'angry', 'YAF_disgust', 'OAF_happy',\n",
       "       'angry', 'YAF_neutral', 'YAF_happy', 'YAF_fear', 'disgust',\n",
       "       'angry', 'OAF_Sad', 'OAF_Pleasant_surprise', 'angry',\n",
       "       'YAF_pleasant_surprised', 'OAF_happy', 'OAF_Sad', 'YAF_disgust',\n",
       "       'YAF_happy', 'YAF_neutral', 'YAF_neutral',\n",
       "       'YAF_pleasant_surprised', 'YAF_sad', 'YAF_disgust', 'YAF_fear',\n",
       "       'YAF_neutral', 'YAF_disgust', 'YAF_angry', 'YAF_neutral',\n",
       "       'YAF_pleasant_surprised', 'YAF_sad', 'YAF_fear',\n",
       "       'YAF_pleasant_surprised', 'disgust', 'disgust', 'YAF_neutral',\n",
       "       'YAF_neutral', 'YAF_fear', 'OAF_Fear', 'OAF_neutral', 'OAF_happy',\n",
       "       'OAF_Fear', 'YAF_pleasant_surprised', 'disgust', 'OAF_Sad',\n",
       "       'OAF_neutral', 'YAF_neutral', 'OAF_neutral', 'angry', 'disgust',\n",
       "       'YAF_sad', 'OAF_Sad', 'YAF_angry', 'OAF_Sad',\n",
       "       'YAF_pleasant_surprised', 'YAF_disgust', 'OAF_Fear', 'YAF_happy',\n",
       "       'OAF_happy', 'disgust', 'YAF_disgust', 'OAF_Fear', 'angry',\n",
       "       'YAF_fear', 'disgust', 'YAF_happy', 'OAF_Sad', 'OAF_happy',\n",
       "       'YAF_happy', 'YAF_angry', 'YAF_disgust', 'OAF_neutral',\n",
       "       'YAF_angry', 'OAF_Fear', 'YAF_happy', 'YAF_sad', 'YAF_disgust',\n",
       "       'disgust', 'OAF_neutral', 'YAF_sad', 'YAF_happy',\n",
       "       'YAF_pleasant_surprised', 'YAF_neutral', 'OAF_Sad', 'YAF_happy',\n",
       "       'YAF_happy', 'YAF_pleasant_surprised', 'YAF_pleasant_surprised',\n",
       "       'YAF_angry', 'YAF_fear', 'OAF_Fear', 'OAF_Pleasant_surprise',\n",
       "       'YAF_pleasant_surprised', 'YAF_happy', 'YAF_happy', 'OAF_neutral',\n",
       "       'disgust', 'YAF_happy', 'OAF_neutral', 'OAF_Sad', 'OAF_neutral',\n",
       "       'YAF_sad', 'YAF_angry', 'OAF_happy', 'OAF_happy', 'OAF_neutral',\n",
       "       'YAF_neutral', 'YAF_pleasant_surprised', 'YAF_pleasant_surprised',\n",
       "       'OAF_neutral', 'YAF_fear', 'YAF_disgust', 'YAF_sad', 'YAF_happy',\n",
       "       'YAF_sad', 'disgust', 'OAF_happy', 'YAF_neutral',\n",
       "       'YAF_pleasant_surprised', 'YAF_pleasant_surprised',\n",
       "       'YAF_pleasant_surprised', 'YAF_happy', 'YAF_happy', 'YAF_angry',\n",
       "       'YAF_happy', 'YAF_pleasant_surprised', 'OAF_Fear', 'YAF_angry',\n",
       "       'YAF_neutral', 'OAF_Sad', 'OAF_Sad', 'YAF_fear', 'YAF_neutral',\n",
       "       'disgust', 'OAF_neutral', 'YAF_fear', 'YAF_disgust', 'YAF_happy',\n",
       "       'YAF_angry', 'OAF_happy', 'OAF_Sad', 'OAF_neutral',\n",
       "       'YAF_pleasant_surprised', 'OAF_Fear', 'OAF_happy', 'angry',\n",
       "       'disgust', 'OAF_happy', 'disgust', 'OAF_Sad', 'OAF_neutral',\n",
       "       'OAF_happy', 'YAF_disgust', 'YAF_disgust',\n",
       "       'YAF_pleasant_surprised', 'OAF_Fear', 'YAF_neutral', 'angry',\n",
       "       'disgust', 'OAF_Fear', 'OAF_Sad', 'YAF_pleasant_surprised',\n",
       "       'YAF_neutral', 'OAF_neutral', 'YAF_sad', 'YAF_fear', 'YAF_fear',\n",
       "       'OAF_Sad', 'YAF_neutral', 'disgust', 'YAF_disgust',\n",
       "       'OAF_Pleasant_surprise', 'YAF_pleasant_surprised', 'OAF_happy',\n",
       "       'YAF_pleasant_surprised', 'YAF_happy', 'OAF_Sad', 'OAF_neutral',\n",
       "       'disgust', 'YAF_disgust', 'YAF_happy', 'YAF_sad', 'YAF_disgust',\n",
       "       'OAF_happy', 'OAF_Fear', 'YAF_pleasant_surprised', 'OAF_happy',\n",
       "       'YAF_fear', 'YAF_sad', 'OAF_happy', 'YAF_sad', 'OAF_happy',\n",
       "       'OAF_neutral', 'OAF_neutral', 'OAF_happy', 'OAF_Sad', 'YAF_fear',\n",
       "       'OAF_happy', 'OAF_happy', 'YAF_happy', 'OAF_neutral',\n",
       "       'OAF_Pleasant_surprise', 'YAF_sad', 'OAF_happy', 'YAF_angry',\n",
       "       'YAF_sad', 'OAF_Pleasant_surprise', 'YAF_angry', 'OAF_Sad',\n",
       "       'YAF_angry', 'YAF_disgust', 'OAF_happy', 'YAF_fear',\n",
       "       'OAF_Pleasant_surprise', 'YAF_angry', 'angry', 'OAF_Sad',\n",
       "       'YAF_neutral', 'OAF_happy', 'YAF_fear', 'disgust', 'YAF_disgust',\n",
       "       'YAF_neutral', 'OAF_Fear', 'disgust', 'disgust', 'YAF_angry',\n",
       "       'YAF_fear', 'OAF_Fear', 'OAF_neutral', 'YAF_pleasant_surprised',\n",
       "       'OAF_Sad', 'OAF_happy', 'OAF_Sad', 'OAF_happy',\n",
       "       'OAF_Pleasant_surprise', 'disgust', 'YAF_fear', 'disgust',\n",
       "       'OAF_Fear', 'YAF_happy', 'YAF_angry', 'OAF_neutral', 'YAF_disgust',\n",
       "       'YAF_neutral', 'angry', 'YAF_disgust', 'YAF_angry', 'OAF_Sad',\n",
       "       'angry', 'YAF_sad', 'disgust', 'OAF_neutral', 'OAF_happy',\n",
       "       'OAF_happy', 'OAF_Pleasant_surprise', 'YAF_pleasant_surprised',\n",
       "       'YAF_angry', 'YAF_neutral', 'YAF_disgust', 'OAF_happy', 'YAF_sad',\n",
       "       'YAF_pleasant_surprised', 'OAF_neutral', 'OAF_neutral', 'disgust',\n",
       "       'YAF_angry', 'OAF_Fear', 'OAF_happy', 'OAF_Pleasant_surprise',\n",
       "       'YAF_neutral', 'OAF_Fear', 'YAF_disgust', 'OAF_Sad',\n",
       "       'YAF_pleasant_surprised', 'YAF_disgust', 'OAF_Pleasant_surprise',\n",
       "       'OAF_neutral', 'OAF_Sad', 'OAF_neutral', 'YAF_angry', 'YAF_happy',\n",
       "       'YAF_disgust', 'YAF_pleasant_surprised', 'OAF_Fear', 'YAF_disgust',\n",
       "       'OAF_Fear', 'OAF_happy', 'YAF_disgust', 'OAF_happy', 'disgust',\n",
       "       'YAF_pleasant_surprised', 'OAF_neutral', 'YAF_angry', 'OAF_happy',\n",
       "       'OAF_Sad', 'OAF_Fear', 'OAF_happy', 'YAF_disgust', 'OAF_neutral',\n",
       "       'YAF_disgust', 'YAF_happy', 'YAF_disgust', 'OAF_Fear',\n",
       "       'YAF_neutral', 'OAF_Pleasant_surprise', 'YAF_happy', 'YAF_neutral',\n",
       "       'YAF_sad', 'YAF_pleasant_surprised', 'OAF_Fear', 'YAF_sad',\n",
       "       'disgust', 'YAF_disgust', 'YAF_pleasant_surprised', 'disgust',\n",
       "       'YAF_pleasant_surprised', 'OAF_Pleasant_surprise', 'OAF_happy',\n",
       "       'YAF_angry', 'YAF_fear', 'OAF_Pleasant_surprise', 'disgust',\n",
       "       'angry', 'YAF_disgust', 'YAF_sad', 'YAF_pleasant_surprised',\n",
       "       'angry', 'OAF_Pleasant_surprise', 'YAF_fear', 'YAF_neutral',\n",
       "       'OAF_neutral', 'YAF_disgust', 'OAF_Fear', 'disgust', 'OAF_Fear',\n",
       "       'YAF_fear', 'YAF_sad', 'YAF_neutral', 'angry',\n",
       "       'YAF_pleasant_surprised', 'OAF_Fear', 'YAF_angry', 'disgust',\n",
       "       'OAF_happy', 'angry', 'YAF_happy', 'angry', 'OAF_happy',\n",
       "       'YAF_pleasant_surprised', 'OAF_Sad', 'OAF_happy', 'OAF_Sad',\n",
       "       'YAF_angry', 'angry', 'OAF_happy', 'YAF_neutral',\n",
       "       'YAF_pleasant_surprised', 'YAF_happy', 'OAF_Sad', 'OAF_Fear',\n",
       "       'disgust', 'angry', 'disgust', 'YAF_neutral',\n",
       "       'OAF_Pleasant_surprise', 'YAF_disgust', 'YAF_neutral',\n",
       "       'YAF_disgust', 'YAF_neutral', 'YAF_angry', 'OAF_happy', 'YAF_fear',\n",
       "       'OAF_Fear', 'OAF_Fear', 'OAF_Pleasant_surprise', 'YAF_angry',\n",
       "       'OAF_Sad', 'YAF_pleasant_surprised', 'OAF_happy', 'OAF_Sad',\n",
       "       'disgust', 'YAF_pleasant_surprised', 'YAF_pleasant_surprised',\n",
       "       'YAF_sad', 'OAF_neutral', 'disgust', 'YAF_disgust', 'YAF_happy',\n",
       "       'YAF_angry', 'YAF_happy', 'YAF_disgust', 'YAF_neutral', 'OAF_Sad',\n",
       "       'YAF_angry', 'OAF_Sad', 'YAF_neutral', 'OAF_Fear', 'YAF_disgust',\n",
       "       'OAF_neutral', 'YAF_neutral', 'YAF_happy', 'OAF_Pleasant_surprise',\n",
       "       'YAF_sad', 'YAF_pleasant_surprised', 'YAF_disgust',\n",
       "       'OAF_Pleasant_surprise', 'OAF_happy', 'YAF_sad', 'angry',\n",
       "       'YAF_pleasant_surprised', 'YAF_fear', 'YAF_disgust', 'YAF_happy',\n",
       "       'OAF_happy', 'YAF_angry', 'OAF_Sad', 'OAF_Fear', 'OAF_neutral',\n",
       "       'YAF_pleasant_surprised', 'disgust', 'YAF_disgust', 'YAF_happy',\n",
       "       'OAF_neutral', 'YAF_neutral', 'YAF_neutral', 'YAF_angry',\n",
       "       'YAF_happy', 'OAF_happy', 'YAF_disgust', 'YAF_pleasant_surprised',\n",
       "       'angry', 'OAF_neutral', 'OAF_neutral', 'OAF_Sad', 'OAF_happy',\n",
       "       'YAF_happy', 'YAF_angry', 'YAF_pleasant_surprised', 'YAF_happy',\n",
       "       'YAF_sad', 'YAF_neutral', 'angry', 'YAF_disgust',\n",
       "       'OAF_Pleasant_surprise', 'YAF_happy', 'YAF_angry', 'YAF_happy',\n",
       "       'OAF_Pleasant_surprise', 'OAF_Pleasant_surprise', 'YAF_sad',\n",
       "       'disgust', 'disgust', 'OAF_Sad', 'YAF_neutral', 'YAF_happy',\n",
       "       'OAF_neutral', 'YAF_pleasant_surprised', 'YAF_disgust', 'OAF_Sad',\n",
       "       'YAF_happy', 'YAF_pleasant_surprised', 'disgust', 'OAF_Fear',\n",
       "       'YAF_sad', 'YAF_disgust', 'OAF_happy', 'YAF_angry', 'YAF_angry',\n",
       "       'YAF_neutral', 'YAF_neutral', 'OAF_happy', 'angry',\n",
       "       'OAF_Pleasant_surprise', 'OAF_Fear', 'angry', 'angry', 'OAF_Fear',\n",
       "       'angry', 'angry', 'OAF_happy', 'OAF_Sad', 'YAF_fear',\n",
       "       'OAF_neutral', 'YAF_disgust', 'YAF_happy', 'YAF_fear',\n",
       "       'OAF_neutral', 'YAF_angry', 'YAF_happy', 'OAF_Fear', 'OAF_neutral',\n",
       "       'OAF_happy', 'OAF_happy', 'YAF_pleasant_surprised',\n",
       "       'YAF_pleasant_surprised', 'OAF_Fear', 'OAF_Sad', 'YAF_disgust'],\n",
       "      dtype=object)"
      ]
     },
     "execution_count": 25,
     "metadata": {},
     "output_type": "execute_result"
    }
   ],
   "source": [
    "y_pred = loadknn.predict(X_test_scaled)\n",
    "y_pred"
   ]
  },
  {
   "cell_type": "code",
   "execution_count": null,
   "metadata": {
    "colab": {
     "base_uri": "https://localhost:8080/"
    },
    "id": "YEvb72Q0SWQF",
    "outputId": "d1f97346-6bae-4a01-e27a-9db0c32394fc"
   },
   "outputs": [
    {
     "name": "stdout",
     "output_type": "stream",
     "text": [
      "Akurasi: 0.6946428571428571\n"
     ]
    }
   ],
   "source": [
    "accuracy = accuracy_score(y_test,y_pred)\n",
    "print(\"Akurasi:\",accuracy)"
   ]
  },
  {
   "cell_type": "code",
   "execution_count": null,
   "metadata": {
    "id": "oqNI-mlT2ON6"
   },
   "outputs": [],
   "source": [
    "from sklearn.decomposition import PCA"
   ]
  },
  {
   "cell_type": "code",
   "execution_count": null,
   "metadata": {
    "id": "RFmR3sLD3ljh"
   },
   "outputs": [],
   "source": [
    "pca = PCA(n_components=9)\n",
    "pca.fit(X_train_scaled)\n",
    "pca_train = pca.transform(X_train_scaled)"
   ]
  },
  {
   "cell_type": "code",
   "execution_count": null,
   "metadata": {
    "colab": {
     "base_uri": "https://localhost:8080/"
    },
    "id": "ek4x_sxP3lnJ",
    "outputId": "10cec18f-667f-4ad4-8cc6-b35be94effa6"
   },
   "outputs": [
    {
     "data": {
      "text/plain": [
       "(2240, 9)"
      ]
     },
     "execution_count": 33,
     "metadata": {},
     "output_type": "execute_result"
    }
   ],
   "source": [
    "pca_train.shape"
   ]
  },
  {
   "cell_type": "code",
   "execution_count": null,
   "metadata": {
    "id": "rZ71mRWJ3yKi"
   },
   "outputs": [],
   "source": [
    "pca_test = pca.transform(X_test_scaled)"
   ]
  },
  {
   "cell_type": "code",
   "execution_count": null,
   "metadata": {
    "colab": {
     "base_uri": "https://localhost:8080/"
    },
    "id": "iQ70H2_d34EL",
    "outputId": "bb69ecf0-7ed3-4e4e-ad00-613d89644bf7"
   },
   "outputs": [
    {
     "data": {
      "text/plain": [
       "numpy.ndarray"
      ]
     },
     "execution_count": 35,
     "metadata": {},
     "output_type": "execute_result"
    }
   ],
   "source": [
    "type(pca_test)"
   ]
  },
  {
   "cell_type": "code",
   "execution_count": null,
   "metadata": {
    "colab": {
     "base_uri": "https://localhost:8080/"
    },
    "id": "a3SZmnfU39oX",
    "outputId": "e11eea6a-58cc-4347-8f74-b1b8afe3b9c7"
   },
   "outputs": [
    {
     "data": {
      "text/plain": [
       "(560, 9)"
      ]
     },
     "execution_count": 36,
     "metadata": {},
     "output_type": "execute_result"
    }
   ],
   "source": [
    "pca_test.shape"
   ]
  },
  {
   "cell_type": "code",
   "execution_count": null,
   "metadata": {
    "id": "cLvMpakP4BSd"
   },
   "outputs": [],
   "source": [
    "dump(pca_train, open('PCA9.pkl', 'wb'))"
   ]
  },
  {
   "cell_type": "code",
   "execution_count": null,
   "metadata": {
    "id": "3Fb0urm54T6q"
   },
   "outputs": [],
   "source": [
    "import pickle\n",
    "with open('PCA9.pkl', 'rb') as pca:\n",
    "    loadpca= pickle.load(pca)"
   ]
  },
  {
   "cell_type": "code",
   "execution_count": null,
   "metadata": {
    "colab": {
     "base_uri": "https://localhost:8080/",
     "height": 75
    },
    "id": "m_DaG52_4Vxw",
    "outputId": "d986e524-a6e2-474b-cc77-72805309ac35"
   },
   "outputs": [
    {
     "data": {
      "text/html": [
       "<style>#sk-container-id-2 {color: black;background-color: white;}#sk-container-id-2 pre{padding: 0;}#sk-container-id-2 div.sk-toggleable {background-color: white;}#sk-container-id-2 label.sk-toggleable__label {cursor: pointer;display: block;width: 100%;margin-bottom: 0;padding: 0.3em;box-sizing: border-box;text-align: center;}#sk-container-id-2 label.sk-toggleable__label-arrow:before {content: \"▸\";float: left;margin-right: 0.25em;color: #696969;}#sk-container-id-2 label.sk-toggleable__label-arrow:hover:before {color: black;}#sk-container-id-2 div.sk-estimator:hover label.sk-toggleable__label-arrow:before {color: black;}#sk-container-id-2 div.sk-toggleable__content {max-height: 0;max-width: 0;overflow: hidden;text-align: left;background-color: #f0f8ff;}#sk-container-id-2 div.sk-toggleable__content pre {margin: 0.2em;color: black;border-radius: 0.25em;background-color: #f0f8ff;}#sk-container-id-2 input.sk-toggleable__control:checked~div.sk-toggleable__content {max-height: 200px;max-width: 100%;overflow: auto;}#sk-container-id-2 input.sk-toggleable__control:checked~label.sk-toggleable__label-arrow:before {content: \"▾\";}#sk-container-id-2 div.sk-estimator input.sk-toggleable__control:checked~label.sk-toggleable__label {background-color: #d4ebff;}#sk-container-id-2 div.sk-label input.sk-toggleable__control:checked~label.sk-toggleable__label {background-color: #d4ebff;}#sk-container-id-2 input.sk-hidden--visually {border: 0;clip: rect(1px 1px 1px 1px);clip: rect(1px, 1px, 1px, 1px);height: 1px;margin: -1px;overflow: hidden;padding: 0;position: absolute;width: 1px;}#sk-container-id-2 div.sk-estimator {font-family: monospace;background-color: #f0f8ff;border: 1px dotted black;border-radius: 0.25em;box-sizing: border-box;margin-bottom: 0.5em;}#sk-container-id-2 div.sk-estimator:hover {background-color: #d4ebff;}#sk-container-id-2 div.sk-parallel-item::after {content: \"\";width: 100%;border-bottom: 1px solid gray;flex-grow: 1;}#sk-container-id-2 div.sk-label:hover label.sk-toggleable__label {background-color: #d4ebff;}#sk-container-id-2 div.sk-serial::before {content: \"\";position: absolute;border-left: 1px solid gray;box-sizing: border-box;top: 0;bottom: 0;left: 50%;z-index: 0;}#sk-container-id-2 div.sk-serial {display: flex;flex-direction: column;align-items: center;background-color: white;padding-right: 0.2em;padding-left: 0.2em;position: relative;}#sk-container-id-2 div.sk-item {position: relative;z-index: 1;}#sk-container-id-2 div.sk-parallel {display: flex;align-items: stretch;justify-content: center;background-color: white;position: relative;}#sk-container-id-2 div.sk-item::before, #sk-container-id-2 div.sk-parallel-item::before {content: \"\";position: absolute;border-left: 1px solid gray;box-sizing: border-box;top: 0;bottom: 0;left: 50%;z-index: -1;}#sk-container-id-2 div.sk-parallel-item {display: flex;flex-direction: column;z-index: 1;position: relative;background-color: white;}#sk-container-id-2 div.sk-parallel-item:first-child::after {align-self: flex-end;width: 50%;}#sk-container-id-2 div.sk-parallel-item:last-child::after {align-self: flex-start;width: 50%;}#sk-container-id-2 div.sk-parallel-item:only-child::after {width: 0;}#sk-container-id-2 div.sk-dashed-wrapped {border: 1px dashed gray;margin: 0 0.4em 0.5em 0.4em;box-sizing: border-box;padding-bottom: 0.4em;background-color: white;}#sk-container-id-2 div.sk-label label {font-family: monospace;font-weight: bold;display: inline-block;line-height: 1.2em;}#sk-container-id-2 div.sk-label-container {text-align: center;}#sk-container-id-2 div.sk-container {/* jupyter's `normalize.less` sets `[hidden] { display: none; }` but bootstrap.min.css set `[hidden] { display: none !important; }` so we also need the `!important` here to be able to override the default hidden behavior on the sphinx rendered scikit-learn.org. See: https://github.com/scikit-learn/scikit-learn/issues/21755 */display: inline-block !important;position: relative;}#sk-container-id-2 div.sk-text-repr-fallback {display: none;}</style><div id=\"sk-container-id-2\" class=\"sk-top-container\"><div class=\"sk-text-repr-fallback\"><pre>KNeighborsClassifier(n_neighbors=11)</pre><b>In a Jupyter environment, please rerun this cell to show the HTML representation or trust the notebook. <br />On GitHub, the HTML representation is unable to render, please try loading this page with nbviewer.org.</b></div><div class=\"sk-container\" hidden><div class=\"sk-item\"><div class=\"sk-estimator sk-toggleable\"><input class=\"sk-toggleable__control sk-hidden--visually\" id=\"sk-estimator-id-2\" type=\"checkbox\" checked><label for=\"sk-estimator-id-2\" class=\"sk-toggleable__label sk-toggleable__label-arrow\">KNeighborsClassifier</label><div class=\"sk-toggleable__content\"><pre>KNeighborsClassifier(n_neighbors=11)</pre></div></div></div></div></div>"
      ],
      "text/plain": [
       "KNeighborsClassifier(n_neighbors=11)"
      ]
     },
     "execution_count": 39,
     "metadata": {},
     "output_type": "execute_result"
    }
   ],
   "source": [
    "from sklearn.neighbors import KNeighborsClassifier\n",
    "classifier = KNeighborsClassifier(n_neighbors=11)\n",
    "classifier.fit(pca_train, y_train)"
   ]
  },
  {
   "cell_type": "code",
   "execution_count": null,
   "metadata": {
    "colab": {
     "base_uri": "https://localhost:8080/"
    },
    "id": "u5sn-SQS4Zdr",
    "outputId": "a051f5b0-e84d-4a11-a6ea-927a4f2178e3"
   },
   "outputs": [
    {
     "data": {
      "text/plain": [
       "array(['OAF_Pleasant_surprise', 'YAF_disgust', 'YAF_neutral',\n",
       "       'YAF_disgust', 'OAF_Sad', 'OAF_neutral', 'YAF_neutral', 'angry',\n",
       "       'disgust', 'OAF_Sad', 'YAF_sad', 'YAF_sad', 'angry', 'angry',\n",
       "       'disgust', 'OAF_Pleasant_surprise', 'OAF_Sad', 'YAF_neutral',\n",
       "       'angry', 'YAF_neutral', 'YAF_pleasant_surprised', 'OAF_neutral',\n",
       "       'angry', 'YAF_neutral', 'OAF_neutral', 'YAF_sad',\n",
       "       'YAF_pleasant_surprised', 'YAF_fear', 'disgust', 'OAF_Fear',\n",
       "       'OAF_neutral', 'disgust', 'YAF_neutral', 'YAF_angry',\n",
       "       'YAF_neutral', 'YAF_fear', 'OAF_Fear', 'OAF_happy', 'YAF_happy',\n",
       "       'disgust', 'YAF_disgust', 'OAF_Sad', 'YAF_sad', 'YAF_happy',\n",
       "       'OAF_Pleasant_surprise', 'OAF_happy', 'YAF_fear', 'YAF_disgust',\n",
       "       'OAF_neutral', 'OAF_Sad', 'OAF_happy', 'OAF_happy', 'OAF_Sad',\n",
       "       'YAF_pleasant_surprised', 'YAF_sad', 'disgust', 'angry',\n",
       "       'OAF_Pleasant_surprise', 'YAF_disgust', 'OAF_Sad', 'OAF_happy',\n",
       "       'OAF_Pleasant_surprise', 'OAF_Sad', 'angry', 'YAF_disgust',\n",
       "       'OAF_happy', 'angry', 'YAF_neutral', 'YAF_happy', 'YAF_fear',\n",
       "       'disgust', 'angry', 'OAF_Sad', 'angry', 'angry',\n",
       "       'YAF_pleasant_surprised', 'OAF_happy', 'OAF_Sad', 'YAF_disgust',\n",
       "       'YAF_happy', 'YAF_neutral', 'YAF_neutral',\n",
       "       'YAF_pleasant_surprised', 'YAF_sad', 'YAF_disgust', 'YAF_fear',\n",
       "       'YAF_sad', 'YAF_disgust', 'YAF_angry', 'YAF_neutral',\n",
       "       'YAF_pleasant_surprised', 'YAF_sad', 'YAF_fear',\n",
       "       'YAF_pleasant_surprised', 'disgust', 'disgust', 'YAF_neutral',\n",
       "       'YAF_neutral', 'YAF_fear', 'OAF_Fear', 'OAF_neutral',\n",
       "       'OAF_Pleasant_surprise', 'OAF_Fear', 'YAF_pleasant_surprised',\n",
       "       'disgust', 'OAF_Sad', 'OAF_neutral', 'YAF_neutral', 'OAF_neutral',\n",
       "       'angry', 'disgust', 'YAF_sad', 'OAF_happy', 'YAF_angry', 'OAF_Sad',\n",
       "       'YAF_pleasant_surprised', 'YAF_disgust', 'OAF_Fear', 'YAF_happy',\n",
       "       'OAF_happy', 'disgust', 'YAF_disgust', 'OAF_Fear', 'angry',\n",
       "       'YAF_fear', 'disgust', 'YAF_happy', 'OAF_Sad', 'OAF_happy',\n",
       "       'YAF_happy', 'YAF_angry', 'YAF_disgust', 'OAF_neutral',\n",
       "       'YAF_angry', 'OAF_Fear', 'YAF_happy', 'YAF_sad', 'YAF_disgust',\n",
       "       'disgust', 'OAF_neutral', 'YAF_sad', 'YAF_happy',\n",
       "       'YAF_pleasant_surprised', 'YAF_neutral', 'OAF_Sad', 'YAF_happy',\n",
       "       'YAF_happy', 'YAF_pleasant_surprised', 'YAF_pleasant_surprised',\n",
       "       'YAF_angry', 'YAF_fear', 'OAF_Fear', 'OAF_Pleasant_surprise',\n",
       "       'YAF_pleasant_surprised', 'YAF_happy', 'YAF_happy', 'OAF_neutral',\n",
       "       'disgust', 'YAF_happy', 'OAF_neutral', 'OAF_Sad', 'OAF_neutral',\n",
       "       'YAF_sad', 'YAF_angry', 'OAF_happy', 'OAF_happy', 'OAF_neutral',\n",
       "       'YAF_neutral', 'YAF_pleasant_surprised', 'YAF_pleasant_surprised',\n",
       "       'OAF_neutral', 'YAF_fear', 'YAF_disgust', 'YAF_sad', 'YAF_happy',\n",
       "       'YAF_sad', 'disgust', 'OAF_happy', 'YAF_neutral',\n",
       "       'YAF_pleasant_surprised', 'YAF_pleasant_surprised',\n",
       "       'YAF_pleasant_surprised', 'YAF_happy', 'YAF_angry', 'YAF_angry',\n",
       "       'YAF_happy', 'YAF_pleasant_surprised', 'OAF_Fear', 'YAF_angry',\n",
       "       'YAF_neutral', 'OAF_Sad', 'OAF_Sad', 'YAF_fear', 'YAF_neutral',\n",
       "       'OAF_Pleasant_surprise', 'OAF_neutral', 'YAF_fear', 'YAF_disgust',\n",
       "       'YAF_happy', 'YAF_angry', 'OAF_happy', 'OAF_Sad', 'OAF_neutral',\n",
       "       'YAF_pleasant_surprised', 'OAF_Fear', 'OAF_happy', 'angry',\n",
       "       'disgust', 'OAF_happy', 'OAF_happy', 'OAF_Sad', 'OAF_neutral',\n",
       "       'OAF_happy', 'YAF_disgust', 'YAF_disgust',\n",
       "       'YAF_pleasant_surprised', 'OAF_Fear', 'YAF_neutral', 'angry',\n",
       "       'disgust', 'OAF_Fear', 'OAF_happy', 'YAF_pleasant_surprised',\n",
       "       'YAF_neutral', 'OAF_neutral', 'YAF_sad', 'YAF_fear', 'YAF_fear',\n",
       "       'OAF_Sad', 'YAF_neutral', 'OAF_Fear', 'YAF_disgust',\n",
       "       'OAF_Pleasant_surprise', 'YAF_pleasant_surprised', 'OAF_Fear',\n",
       "       'YAF_pleasant_surprised', 'YAF_happy', 'OAF_Sad', 'OAF_neutral',\n",
       "       'disgust', 'YAF_disgust', 'YAF_happy', 'YAF_sad', 'YAF_disgust',\n",
       "       'OAF_happy', 'OAF_Fear', 'YAF_pleasant_surprised', 'OAF_happy',\n",
       "       'YAF_sad', 'YAF_sad', 'OAF_happy', 'YAF_sad', 'OAF_happy',\n",
       "       'OAF_neutral', 'OAF_neutral', 'OAF_happy', 'OAF_Sad', 'YAF_fear',\n",
       "       'OAF_happy', 'OAF_happy', 'YAF_happy', 'OAF_neutral', 'OAF_happy',\n",
       "       'YAF_sad', 'OAF_happy', 'YAF_angry', 'YAF_sad',\n",
       "       'OAF_Pleasant_surprise', 'YAF_angry', 'OAF_Sad', 'YAF_angry',\n",
       "       'YAF_disgust', 'OAF_happy', 'YAF_fear', 'OAF_Pleasant_surprise',\n",
       "       'YAF_angry', 'angry', 'OAF_Sad', 'YAF_neutral', 'OAF_happy',\n",
       "       'YAF_fear', 'disgust', 'YAF_disgust', 'YAF_neutral', 'OAF_Fear',\n",
       "       'disgust', 'disgust', 'YAF_angry', 'YAF_happy', 'OAF_Fear',\n",
       "       'OAF_neutral', 'YAF_pleasant_surprised', 'OAF_Sad', 'OAF_happy',\n",
       "       'OAF_Sad', 'OAF_happy', 'OAF_Fear', 'disgust', 'YAF_fear',\n",
       "       'disgust', 'OAF_Fear', 'YAF_happy', 'YAF_angry', 'OAF_neutral',\n",
       "       'YAF_disgust', 'YAF_neutral', 'angry', 'YAF_disgust',\n",
       "       'YAF_pleasant_surprised', 'OAF_Sad', 'angry', 'YAF_sad', 'disgust',\n",
       "       'OAF_neutral', 'OAF_happy', 'OAF_happy', 'OAF_Pleasant_surprise',\n",
       "       'YAF_pleasant_surprised', 'YAF_angry', 'YAF_sad',\n",
       "       'YAF_pleasant_surprised', 'OAF_happy', 'YAF_sad',\n",
       "       'YAF_pleasant_surprised', 'OAF_neutral', 'OAF_neutral', 'disgust',\n",
       "       'YAF_angry', 'OAF_Fear', 'OAF_happy', 'OAF_Pleasant_surprise',\n",
       "       'YAF_neutral', 'OAF_Fear', 'YAF_disgust', 'OAF_Sad',\n",
       "       'YAF_pleasant_surprised', 'YAF_disgust', 'OAF_Pleasant_surprise',\n",
       "       'OAF_Sad', 'OAF_Sad', 'OAF_neutral', 'YAF_angry', 'YAF_happy',\n",
       "       'YAF_disgust', 'YAF_pleasant_surprised', 'OAF_Fear', 'YAF_disgust',\n",
       "       'OAF_Fear', 'disgust', 'YAF_disgust', 'OAF_happy', 'disgust',\n",
       "       'YAF_pleasant_surprised', 'OAF_neutral', 'YAF_angry', 'OAF_happy',\n",
       "       'OAF_Sad', 'OAF_Fear', 'disgust', 'YAF_disgust', 'OAF_neutral',\n",
       "       'YAF_disgust', 'YAF_happy', 'YAF_disgust', 'OAF_Fear',\n",
       "       'YAF_neutral', 'OAF_Pleasant_surprise', 'YAF_happy', 'YAF_neutral',\n",
       "       'YAF_sad', 'YAF_pleasant_surprised', 'OAF_Fear', 'YAF_sad',\n",
       "       'disgust', 'YAF_disgust', 'YAF_pleasant_surprised', 'disgust',\n",
       "       'YAF_pleasant_surprised', 'OAF_Pleasant_surprise', 'OAF_happy',\n",
       "       'YAF_angry', 'YAF_fear', 'OAF_Pleasant_surprise',\n",
       "       'OAF_Pleasant_surprise', 'angry', 'YAF_disgust', 'YAF_sad',\n",
       "       'YAF_pleasant_surprised', 'angry', 'OAF_Pleasant_surprise',\n",
       "       'YAF_fear', 'YAF_neutral', 'OAF_neutral', 'YAF_disgust',\n",
       "       'OAF_Fear', 'OAF_Pleasant_surprise', 'OAF_Fear', 'YAF_fear',\n",
       "       'YAF_sad', 'YAF_neutral', 'angry', 'YAF_pleasant_surprised',\n",
       "       'OAF_Fear', 'YAF_angry', 'disgust', 'OAF_happy', 'angry',\n",
       "       'YAF_happy', 'angry', 'OAF_Pleasant_surprise',\n",
       "       'YAF_pleasant_surprised', 'OAF_Sad', 'OAF_happy', 'OAF_Sad',\n",
       "       'YAF_angry', 'angry', 'OAF_happy', 'YAF_neutral',\n",
       "       'YAF_pleasant_surprised', 'YAF_happy', 'OAF_Sad', 'OAF_Fear',\n",
       "       'disgust', 'angry', 'disgust', 'YAF_neutral',\n",
       "       'OAF_Pleasant_surprise', 'YAF_disgust', 'YAF_neutral',\n",
       "       'YAF_disgust', 'YAF_neutral', 'YAF_angry', 'OAF_happy', 'YAF_fear',\n",
       "       'OAF_Pleasant_surprise', 'OAF_Fear', 'disgust', 'YAF_angry',\n",
       "       'OAF_Sad', 'YAF_pleasant_surprised', 'OAF_happy', 'OAF_Sad',\n",
       "       'disgust', 'YAF_pleasant_surprised', 'YAF_pleasant_surprised',\n",
       "       'YAF_sad', 'OAF_neutral', 'disgust', 'YAF_disgust', 'YAF_happy',\n",
       "       'YAF_angry', 'YAF_happy', 'YAF_disgust', 'YAF_neutral', 'OAF_Sad',\n",
       "       'YAF_angry', 'OAF_Sad', 'YAF_neutral', 'OAF_Fear', 'YAF_disgust',\n",
       "       'OAF_Sad', 'YAF_neutral', 'YAF_happy', 'OAF_Pleasant_surprise',\n",
       "       'YAF_sad', 'YAF_pleasant_surprised', 'YAF_disgust', 'OAF_Fear',\n",
       "       'OAF_happy', 'YAF_sad', 'angry', 'YAF_pleasant_surprised',\n",
       "       'YAF_fear', 'YAF_neutral', 'YAF_happy', 'OAF_happy', 'YAF_angry',\n",
       "       'OAF_Sad', 'OAF_Fear', 'OAF_neutral', 'YAF_pleasant_surprised',\n",
       "       'disgust', 'YAF_disgust', 'YAF_happy', 'OAF_neutral',\n",
       "       'YAF_neutral', 'YAF_neutral', 'YAF_angry', 'YAF_happy',\n",
       "       'OAF_happy', 'YAF_pleasant_surprised', 'YAF_pleasant_surprised',\n",
       "       'angry', 'OAF_neutral', 'OAF_neutral', 'OAF_Sad', 'OAF_happy',\n",
       "       'YAF_happy', 'YAF_angry', 'YAF_disgust', 'YAF_happy', 'YAF_sad',\n",
       "       'YAF_neutral', 'angry', 'YAF_disgust', 'OAF_Pleasant_surprise',\n",
       "       'YAF_happy', 'YAF_angry', 'YAF_happy', 'OAF_Pleasant_surprise',\n",
       "       'OAF_Pleasant_surprise', 'YAF_sad', 'disgust', 'disgust',\n",
       "       'OAF_Sad', 'YAF_neutral', 'YAF_happy', 'OAF_neutral',\n",
       "       'YAF_pleasant_surprised', 'YAF_disgust', 'OAF_Sad', 'YAF_happy',\n",
       "       'YAF_angry', 'disgust', 'OAF_Pleasant_surprise', 'YAF_sad',\n",
       "       'YAF_pleasant_surprised', 'OAF_happy', 'YAF_angry', 'YAF_angry',\n",
       "       'YAF_neutral', 'YAF_neutral', 'OAF_happy', 'angry',\n",
       "       'OAF_Pleasant_surprise', 'OAF_Fear', 'angry', 'angry', 'OAF_Fear',\n",
       "       'angry', 'angry', 'OAF_happy', 'OAF_Sad', 'YAF_fear',\n",
       "       'OAF_neutral', 'YAF_disgust', 'YAF_happy', 'YAF_fear',\n",
       "       'OAF_neutral', 'YAF_fear', 'YAF_happy', 'OAF_Fear', 'OAF_Sad',\n",
       "       'OAF_happy', 'disgust', 'YAF_pleasant_surprised',\n",
       "       'YAF_pleasant_surprised', 'OAF_Fear', 'OAF_Sad', 'YAF_disgust'],\n",
       "      dtype=object)"
      ]
     },
     "execution_count": 40,
     "metadata": {},
     "output_type": "execute_result"
    }
   ],
   "source": [
    "y_prediksi = classifier.predict(pca_test)\n",
    "y_prediksi"
   ]
  },
  {
   "cell_type": "code",
   "execution_count": null,
   "metadata": {
    "colab": {
     "base_uri": "https://localhost:8080/"
    },
    "id": "AChsPQjg4ct9",
    "outputId": "89f3a769-76ea-443b-fcb3-024844170e84"
   },
   "outputs": [
    {
     "name": "stdout",
     "output_type": "stream",
     "text": [
      "Akurasi: 0.7035714285714286\n"
     ]
    }
   ],
   "source": [
    "acc_pca= accuracy_score(y_test,y_prediksi)\n",
    "print(\"Akurasi:\",acc_pca)\n",
    "#Akurasi: 0.7153024911032029"
   ]
  },
  {
   "cell_type": "code",
   "execution_count": null,
   "metadata": {
    "colab": {
     "base_uri": "https://localhost:8080/"
    },
    "id": "UeSU84eD4hVO",
    "outputId": "c00bb288-9645-4216-ef47-975f5dadabab"
   },
   "outputs": [
    {
     "name": "stdout",
     "output_type": "stream",
     "text": [
      "1.2.2\n"
     ]
    }
   ],
   "source": [
    "import sklearn\n",
    "print(sklearn.__version__)"
   ]
  },
  {
   "cell_type": "code",
   "execution_count": null,
   "metadata": {
    "id": "Hdp80AtZF-co"
   },
   "outputs": [],
   "source": [
    "from sklearn.preprocessing import MinMaxScaler\n",
    "\n",
    "MinMaxScaler = MinMaxScaler(feature_range=(0, 1))\n"
   ]
  },
  {
   "cell_type": "code",
   "execution_count": null,
   "metadata": {
    "id": "07RG9YxIGYWp"
   },
   "outputs": [],
   "source": [
    "import pickle\n",
    "with open('minmaxscaler.pkl', 'wb') as minmax:\n",
    "    pickle.dump(MinMaxScaler, minmax)\n"
   ]
  },
  {
   "cell_type": "code",
   "execution_count": null,
   "metadata": {
    "id": "_rNGMU5cS8Ez"
   },
   "outputs": [],
   "source": [
    "import pickle\n",
    "from sklearn.decomposition import PCA\n",
    "\n",
    "sklearn_pca = PCA(n_components=2)\n"
   ]
  },
  {
   "cell_type": "code",
   "execution_count": null,
   "metadata": {
    "id": "YgM3jmTeTHc6"
   },
   "outputs": [],
   "source": [
    "with open('PCA1.pkl', 'wb') as pc:\n",
    "    pickle.dump(sklearn_pca, pc)\n"
   ]
  }
 ],
 "metadata": {
  "colab": {
   "provenance": []
  },
  "kernelspec": {
   "display_name": "Python 3 (ipykernel)",
   "language": "python",
   "name": "python3"
  },
  "language_info": {
   "codemirror_mode": {
    "name": "ipython",
    "version": 3
   },
   "file_extension": ".py",
   "mimetype": "text/x-python",
   "name": "python",
   "nbconvert_exporter": "python",
   "pygments_lexer": "ipython3",
   "version": "3.10.9"
  }
 },
 "nbformat": 4,
 "nbformat_minor": 1
}
