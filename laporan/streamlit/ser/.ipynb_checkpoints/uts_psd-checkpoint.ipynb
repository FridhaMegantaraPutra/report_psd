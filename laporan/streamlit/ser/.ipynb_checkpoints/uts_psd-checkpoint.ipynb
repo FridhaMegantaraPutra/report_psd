{
 "cells": [
  {
   "cell_type": "code",
   "execution_count": 1,
   "id": "5600afa2",
   "metadata": {},
   "outputs": [],
   "source": [
    "# Cell 1: Importing necessary libraries\n",
    "import pickle\n",
    "from sklearn.model_selection import train_test_split\n",
    "from sklearn.preprocessing import StandardScaler\n",
    "import librosa\n",
    "import pandas as pd\n",
    "import numpy as np\n",
    "import scipy.stats as stats\n",
    "from scipy.stats import skew, kurtosis, mode\n",
    "from sklearn.decomposition import PCA\n",
    "from sklearn.preprocessing import MinMaxScaler"
   ]
  },
  {
   "cell_type": "code",
   "execution_count": 2,
   "id": "ecc9af89",
   "metadata": {},
   "outputs": [],
   "source": [
    "# Cell 2: Defining the function to compute statistics from an audio file\n",
    "def hitung_statistik(audio_file):\n",
    "    zcr_data = pd.DataFrame(columns=[\n",
    "                            'ZCR Mean', 'ZCR Median', 'ZCR Std Deviasi', 'ZCR Skewness', 'ZCR Kurtosis'])\n",
    "    y, sr = librosa.load(audio_file)\n",
    "    mean = np.mean(y)\n",
    "    std_dev = np.std(y)\n",
    "    max_value = np.max(y)\n",
    "    min_value = np.min(y)\n",
    "    median = np.median(y)\n",
    "    skewness = skew(y)  \n",
    "    kurt = kurtosis(y)  \n",
    "    q1 = np.percentile(y, 25)\n",
    "    q3 = np.percentile(y, 75)\n",
    "    mode_value, _ = mode(y)  \n",
    "    iqr = q3 - q1\n",
    "\n",
    "    zcr = librosa.feature.zero_crossing_rate(y)\n",
    "    mean_zcr = zcr.mean()\n",
    "    median_zcr = np.median(zcr)\n",
    "    std_dev_zcr = np.std(zcr)\n",
    "    skewness_zcr = stats.skew(zcr, axis=None)\n",
    "    kurtosis_zcr = stats.kurtosis(zcr, axis=None)\n",
    "\n",
    "    rms = librosa.feature.rms(y=y)\n",
    "    mean_rms = rms.mean()\n",
    "    median_rms = np.median(rms)\n",
    "    std_dev_rms = np.std(rms)\n",
    "    skewness_rms = stats.skew(rms, axis=None)\n",
    "    kurtosis_rms = stats.kurtosis(rms, axis=None)\n",
    "\n",
    "    zcr_data = zcr_data._append({'ZCR Mean': mean_zcr, 'ZCR Median': median_zcr,\n",
    "                                'ZCR Std Deviasi': std_dev_zcr, 'ZCR Skewness': skewness_zcr, 'ZCR Kurtosis': kurtosis_zcr, }, ignore_index=True)\n",
    "    return zcr_data"
   ]
  },
  {
   "cell_type": "code",
   "execution_count": 3,
   "id": "e1556264",
   "metadata": {},
   "outputs": [],
   "source": [
    "# Cell 3: Loading data and preparing it for classification\n",
    "dataknn = pd.read_csv('hasil_zcr_rms.csv')\n",
    "X = dataknn.drop(['Label', 'File'], axis=1)\n",
    "y = dataknn['Label']\n",
    "X_train, X_test, y_train, y_test = train_test_split(\n",
    "    X, y, random_state=1, test_size=0.2)"
   ]
  },
  {
   "cell_type": "code",
   "execution_count": 5,
   "id": "d625466a",
   "metadata": {},
   "outputs": [
    {
     "name": "stdout",
     "output_type": "stream",
     "text": [
      "sample.wav\n"
     ]
    }
   ],
   "source": [
    "uploaded_file = \"sample.wav\"\n"
   ]
  },
  {
   "cell_type": "code",
   "execution_count": null,
   "id": "95f56a7a",
   "metadata": {},
   "outputs": [],
   "source": []
  }
 ],
 "metadata": {
  "kernelspec": {
   "display_name": "Python 3 (ipykernel)",
   "language": "python",
   "name": "python3"
  },
  "language_info": {
   "codemirror_mode": {
    "name": "ipython",
    "version": 3
   },
   "file_extension": ".py",
   "mimetype": "text/x-python",
   "name": "python",
   "nbconvert_exporter": "python",
   "pygments_lexer": "ipython3",
   "version": "3.10.9"
  }
 },
 "nbformat": 4,
 "nbformat_minor": 5
}
